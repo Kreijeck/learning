{
 "cells": [
  {
   "cell_type": "code",
   "execution_count": 4,
   "source": [
    "import abc\r\n",
    "\r\n",
    "# Interface Class\r\n",
    "# Wenn eine Klasse implementiert ist müssen diese Klassen implementiert werden!\r\n",
    "\r\n",
    "# metaclass=abc.ABCMeta : wird eine abstrakte Klasse\r\n",
    "class Base(metaclass=abc.ABCMeta):\r\n",
    "\r\n",
    "    def print_information(self):\r\n",
    "        print(\"Die 3 Methoden m1, m2 und m3 müssen implementiert sein!\")\r\n",
    "        \r\n",
    "    @abc.abstractmethod\r\n",
    "    def m1(self):\r\n",
    "        return\r\n",
    "    \r\n",
    "    #erst staticmethod, dann abstract\r\n",
    "    @staticmethod\r\n",
    "    @abc.abstractmethod\r\n",
    "    def m2(self):\r\n",
    "        return\r\n",
    "    #erst classmethod, dann abstract\r\n",
    "    @classmethod\r\n",
    "    @abc.abstractmethod\r\n",
    "    def m3(self):\r\n",
    "        return"
   ],
   "outputs": [],
   "metadata": {}
  },
  {
   "cell_type": "code",
   "execution_count": 5,
   "source": [
    "# geht nicht, da es nur eine abstrakte Klasse ist!\r\n",
    "# b= Base()"
   ],
   "outputs": [],
   "metadata": {}
  },
  {
   "cell_type": "code",
   "execution_count": 6,
   "source": [
    "class MyClass(Base):\r\n",
    "    def m1(self):\r\n",
    "        return 'm1'\r\n",
    "\r\n",
    "    def m2(self):\r\n",
    "        return 'm2'\r\n",
    "\r\n",
    "    def m3(self):\r\n",
    "        return 'm3'\r\n",
    "\r\n",
    "class MyClass2(Base):\r\n",
    "    def m1(self):\r\n",
    "        return 1\r\n",
    "\r\n",
    "    def m2(self):\r\n",
    "        return 2\r\n",
    "\r\n",
    "    def m3(self):\r\n",
    "        return 3"
   ],
   "outputs": [],
   "metadata": {}
  },
  {
   "cell_type": "code",
   "execution_count": 7,
   "source": [
    "var = MyClass()\r\n",
    "var.m1()\r\n",
    "\r\n",
    "var2 = MyClass2()\r\n",
    "var.m1()"
   ],
   "outputs": [
    {
     "output_type": "execute_result",
     "data": {
      "text/plain": [
       "'m1'"
      ]
     },
     "metadata": {},
     "execution_count": 7
    }
   ],
   "metadata": {}
  },
  {
   "cell_type": "code",
   "execution_count": null,
   "source": [
    "\r\n"
   ],
   "outputs": [],
   "metadata": {}
  }
 ],
 "metadata": {
  "orig_nbformat": 4,
  "language_info": {
   "name": "python",
   "version": "3.8.10",
   "mimetype": "text/x-python",
   "codemirror_mode": {
    "name": "ipython",
    "version": 3
   },
   "pygments_lexer": "ipython3",
   "nbconvert_exporter": "python",
   "file_extension": ".py"
  },
  "kernelspec": {
   "name": "python3",
   "display_name": "Python 3.8.10 64-bit ('pyUdemy': conda)"
  },
  "interpreter": {
   "hash": "850589dbcddb156e77d4f3d14ca8c1630bd6be0fc25b764c490973a1c3128cd8"
  }
 },
 "nbformat": 4,
 "nbformat_minor": 2
}
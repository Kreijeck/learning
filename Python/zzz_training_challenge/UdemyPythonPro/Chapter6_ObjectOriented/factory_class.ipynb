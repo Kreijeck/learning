{
 "cells": [
  {
   "cell_type": "code",
   "execution_count": 19,
   "source": [
    "import math\r\n",
    "\r\n",
    "class Pizza:\r\n",
    "    def __init__(self, radius=36.0, ingredients=None) -> None:\r\n",
    "        self.radius = radius\r\n",
    "        if self.radius < 28.0:\r\n",
    "            self.radius = 28.0\r\n",
    "        elif self.radius > 64.0:\r\n",
    "            self.radius = 64.0\r\n",
    "        if ingredients:\r\n",
    "            self.ingredients = ingredients\r\n",
    "        else:\r\n",
    "            self.ingredients = ['cheese', 'tomatoes']\r\n",
    "        self.pizza_dough_price = 0.001\r\n",
    "        self.ingredients_price = 1.5\r\n",
    "\r\n",
    "    def __str__(self) -> str:\r\n",
    "        return f\"Size={self.radius}, Ingredients={self.ingredients}, Price={self.price()}\"\r\n",
    "    def add_ingredient(self, ingredients):\r\n",
    "        self.ingredients.extend(ingredients)\r\n",
    "\r\n",
    "    @classmethod\r\n",
    "    def salami(cls, radius=36.0):\r\n",
    "        return cls(radius=radius, ingredients=['cheese', 'tomatoes', 'salami'])\r\n",
    "\r\n",
    "    @classmethod\r\n",
    "    def ham(cls, radius=36.0):\r\n",
    "        return cls(radius=radius, ingredients=['cheese', 'tomatoes', 'ham'])\r\n",
    "\r\n",
    "    def price(self):\r\n",
    "        total_pizza_dough_price = self.pizza_dough_price * Pizza.circle_area(self.radius)\r\n",
    "        total_ingredients_price = self.ingredients_price * len(self.ingredients)\r\n",
    "        return round(total_pizza_dough_price + total_ingredients_price, 2)\r\n",
    "\r\n",
    "    @staticmethod\r\n",
    "    def circle_area(radius):\r\n",
    "        return (radius**2) * math.pi\r\n"
   ],
   "outputs": [],
   "metadata": {}
  },
  {
   "cell_type": "code",
   "execution_count": 20,
   "source": [
    "pizza1 = Pizza(radius=28.0)\r\n",
    "pizza1.add_ingredient(['pepper', 'corn'])\r\n",
    "print(pizza1)"
   ],
   "outputs": [
    {
     "output_type": "stream",
     "name": "stdout",
     "text": [
      "Size=28.0, Ingredients=['cheese', 'tomatoes', 'pepper', 'corn'], Price=8.46\n"
     ]
    }
   ],
   "metadata": {}
  },
  {
   "cell_type": "code",
   "execution_count": 21,
   "source": [
    "pizza2 = Pizza.salami()\r\n",
    "print(pizza2)\r\n",
    "\r\n",
    "pizza3 = Pizza.ham()\r\n",
    "print(pizza3)"
   ],
   "outputs": [
    {
     "output_type": "stream",
     "name": "stdout",
     "text": [
      "Size=36.0, Ingredients=['cheese', 'tomatoes', 'salami'], Price=8.57\n",
      "Size=36.0, Ingredients=['cheese', 'tomatoes', 'ham'], Price=8.57\n"
     ]
    }
   ],
   "metadata": {}
  },
  {
   "cell_type": "code",
   "execution_count": null,
   "source": [],
   "outputs": [],
   "metadata": {}
  }
 ],
 "metadata": {
  "orig_nbformat": 4,
  "language_info": {
   "name": "python",
   "version": "3.8.10",
   "mimetype": "text/x-python",
   "codemirror_mode": {
    "name": "ipython",
    "version": 3
   },
   "pygments_lexer": "ipython3",
   "nbconvert_exporter": "python",
   "file_extension": ".py"
  },
  "kernelspec": {
   "name": "python3",
   "display_name": "Python 3.8.10 64-bit ('pyUdemy': conda)"
  },
  "interpreter": {
   "hash": "850589dbcddb156e77d4f3d14ca8c1630bd6be0fc25b764c490973a1c3128cd8"
  }
 },
 "nbformat": 4,
 "nbformat_minor": 2
}
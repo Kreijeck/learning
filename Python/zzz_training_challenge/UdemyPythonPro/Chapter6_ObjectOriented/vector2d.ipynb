{
 "cells": [
  {
   "cell_type": "markdown",
   "source": [
    "## Exceptions\r\n",
    "\r\n",
    "nur bei größerem Code verwenden. Bei Funktionen für den einmaligem Gebrauch führt  \r\n",
    "dies schnell zum Overkill!!"
   ],
   "metadata": {}
  },
  {
   "cell_type": "code",
   "execution_count": 91,
   "source": [
    "import numbers\r\n",
    "from math import sqrt\r\n",
    "from functools import total_ordering\r\n",
    "\r\n",
    "\r\n",
    "\r\n",
    "@total_ordering\r\n",
    "class Vector2D:\r\n",
    "    def __init__(self, x=0, y=0) -> None:\r\n",
    "        # check Reale Zahlen --> Throw Fehler so früh wie möglich!\r\n",
    "        if isinstance(x, numbers.Real) and isinstance(y, numbers.Real):\r\n",
    "            self.x = x\r\n",
    "            self.y = y\r\n",
    "        else:\r\n",
    "            raise TypeError('You must pass int/float values for x and y!')\r\n",
    "        \r\n",
    "\r\n",
    "    # wird verwendet wie ein __init__ zu späterem zeitpunkt. wird aufgerufen wenn die Funktion \"gecallt wird\"\r\n",
    "    # beispielsweise um ein update o.ä. zu bekommen\r\n",
    "    def __call__(self):\r\n",
    "        print(\"Calling the __call__ function\")\r\n",
    "        print(self.__repr__())\r\n",
    "    \r\n",
    "    # Ausführliche für Developer\r\n",
    "    def __repr__(self) -> str:\r\n",
    "        return f'vector.Vector2D({self.x}, {self.y})'\r\n",
    "        \r\n",
    "    # Custom für User\r\n",
    "    def __str__(self) -> str:\r\n",
    "        return f'{self.x}, {self.y}'\r\n",
    "\r\n",
    "    # trigger for if-Abragen: if Vector2d: blabla\r\n",
    "    def __bool__(self):\r\n",
    "        return bool(abs(self))\r\n",
    "\r\n",
    "    #Betrag\r\n",
    "    def __abs__(self):\r\n",
    "        return sqrt(pow(self.x, 2) + pow(self.y, 2))\r\n",
    "\r\n",
    "    # check whether is correct type!\r\n",
    "    def check_vector_types(self, vector2):\r\n",
    "        if not isinstance(vector2, Vector2D):\r\n",
    "            raise TypeError(\"Types have to pass in two instances of the vector class!\")\r\n",
    "\r\n",
    "    # Equal\r\n",
    "    def __eq__(self, other_vector):\r\n",
    "        self.check_vector_types(self, other_vector)\r\n",
    "        if self.x == other_vector.x and self.y == other_vector.y:\r\n",
    "            return True\r\n",
    "        else:\r\n",
    "            return False\r\n",
    "\r\n",
    "    # only __eq__ and one of lt, le, gt, ge must be implemented. Rest can be calculated\r\n",
    "    # with decorator total_ordering\r\n",
    "\r\n",
    "    # lt = less than\r\n",
    "    # le = less equal\r\n",
    "    # gt = greater than\r\n",
    "    # ge = grater equal\r\n",
    "    def __lt__(self, other_vector):\r\n",
    "        self.check_vector_types(self, other_vector)\r\n",
    "        if abs(self) < abs(other_vector):\r\n",
    "            return True\r\n",
    "        else:\r\n",
    "            return False\r\n",
    "\r\n",
    "\r\n",
    "    def __add__(self, other_vector):\r\n",
    "        self.check_vector_types(self, other_vector)\r\n",
    "        x = self.x + other_vector.x\r\n",
    "        y = self.y + other_vector.y\r\n",
    "        return Vector2D(x, y)\r\n",
    "    # try (==1):\r\n",
    "    # except(>= 1):\r\n",
    "    # finally(optional):\r\n",
    "\r\n",
    "    # als Alternative\r\n",
    "    def __sub__(self, other_vector):\r\n",
    "        try:\r\n",
    "            x = self.x - other_vector.x\r\n",
    "            y = self.y - other_vector.y\r\n",
    "            return Vector2D(x, y)\r\n",
    "        except AttributeError as aterr:\r\n",
    "            print(e)\r\n",
    "        except Exception as e:\r\n",
    "            print(e)\r\n",
    "        finally:\r\n",
    "            print(\"finally block!\")\r\n",
    "\r\n",
    "    def __mul__(self, other):\r\n",
    "        if isinstance(other, Vector2D):\r\n",
    "            return self.x * other.x + self.y * other.y\r\n",
    "        elif isinstance(other, numbers.Real):\r\n",
    "            return Vector2D(self.x * other, self.y * other)\r\n",
    "        else:\r\n",
    "            raise TypeError('You must pass in either a vector instance or int/float number')\r\n",
    "\r\n",
    "    # __div__ existiert seit Python2 nicht mehr!\r\n",
    "    def __truediv__(self, other):\r\n",
    "        if isinstance(other, numbers.Real):\r\n",
    "            if other != 0.0:\r\n",
    "                return Vector2D(self.x / other, self.y / other)\r\n",
    "            else:\r\n",
    "                raise ValueError(\"You cannot divide by zero!\")\r\n",
    "        else:\r\n",
    "            raise TypeError('You have to pass in an int/float value!')"
   ],
   "outputs": [],
   "metadata": {}
  },
  {
   "cell_type": "code",
   "execution_count": null,
   "source": [
    "v1 = Vector2D()\r\n",
    "v2 = Vector2D(1, 1)\r\n",
    "\r\n",
    "print(repr(v1))\r\n",
    "\r\n",
    "# if nothing is declared string is used \r\n",
    "print(str(v2))"
   ],
   "outputs": [
    {
     "output_type": "stream",
     "name": "stdout",
     "text": [
      "vector.Vector2D(0, 0)\n",
      "1, 1\n"
     ]
    }
   ],
   "metadata": {}
  },
  {
   "cell_type": "code",
   "execution_count": null,
   "source": [
    "print(v1 + v2)\r\n",
    "print(v1 - v2)\r\n",
    "print(v1 * v2)\r\n",
    "print(v2/ 5.0)"
   ],
   "outputs": [
    {
     "output_type": "stream",
     "name": "stdout",
     "text": [
      "1, 1\n",
      "-1, -1\n",
      "0\n",
      "0.2, 0.2\n"
     ]
    }
   ],
   "metadata": {}
  },
  {
   "cell_type": "code",
   "execution_count": null,
   "source": [
    "print(abs(v2))\r\n",
    "\r\n",
    "v3 = Vector2D(2, 2)\r\n",
    "v4 = Vector2D(2, 2)\r\n",
    "\r\n",
    "print(v1 == v2)\r\n",
    "print(v3 == v4)"
   ],
   "outputs": [
    {
     "output_type": "stream",
     "name": "stdout",
     "text": [
      "1.4142135623730951\n",
      "False\n",
      "True\n"
     ]
    }
   ],
   "metadata": {}
  },
  {
   "cell_type": "code",
   "execution_count": null,
   "source": [
    "if v1:\r\n",
    "    print(\"v1\")\r\n",
    "if v3:\r\n",
    "    print(\"v3\")"
   ],
   "outputs": [
    {
     "output_type": "stream",
     "name": "stdout",
     "text": [
      "v3\n"
     ]
    }
   ],
   "metadata": {}
  },
  {
   "cell_type": "code",
   "execution_count": null,
   "source": [
    "if v1 < v3:\r\n",
    "    print(\"v1 < v3\")\r\n",
    "else:\r\n",
    "    print(\"v1 >= v3\")"
   ],
   "outputs": [
    {
     "output_type": "stream",
     "name": "stdout",
     "text": [
      "v1 < v3\n"
     ]
    }
   ],
   "metadata": {}
  },
  {
   "cell_type": "code",
   "execution_count": null,
   "source": [
    "v5 = Vector2D(2, 3)\r\n",
    "v6 = Vector2D(-1, 2)\r\n",
    "\r\n",
    "print(v5 < v6)\r\n",
    "print(v5 <= v6)\r\n",
    "print(v5 > v6)\r\n",
    "print(v5 >= v6)\r\n",
    "print(v5 == v6)\r\n",
    "print(v5 != v6)\r\n"
   ],
   "outputs": [
    {
     "output_type": "stream",
     "name": "stdout",
     "text": [
      "False\n",
      "False\n",
      "True\n",
      "True\n",
      "False\n",
      "True\n"
     ]
    }
   ],
   "metadata": {}
  },
  {
   "cell_type": "code",
   "execution_count": null,
   "source": [
    "# funktioniert nur mit __call__ funktion\r\n",
    "v5()"
   ],
   "outputs": [
    {
     "output_type": "stream",
     "name": "stdout",
     "text": [
      "Calling the __call__ function\n",
      "vector.Vector2D(2, 3)\n"
     ]
    }
   ],
   "metadata": {}
  },
  {
   "cell_type": "code",
   "execution_count": 94,
   "source": [
    "v1 = Vector2D()\r\n",
    "v2 = Vector2D(1, 1)\r\n",
    "# only for testing errors!\r\n",
    "print(v1/1)"
   ],
   "outputs": [
    {
     "output_type": "stream",
     "name": "stdout",
     "text": [
      "0.0, 0.0\n"
     ]
    }
   ],
   "metadata": {}
  },
  {
   "cell_type": "code",
   "execution_count": null,
   "source": [
    "import builtins\r\n",
    "# Show all errors\r\n",
    "builtins_list = list(filter(lambda x: True if x.__contains__(\"Error\") else False, dir(builtins)))\r\n",
    "\r\n",
    "for l in builtins_list:\r\n",
    "    print(l)"
   ],
   "outputs": [
    {
     "output_type": "stream",
     "name": "stdout",
     "text": [
      "ArithmeticError\n",
      "AssertionError\n",
      "AttributeError\n",
      "BlockingIOError\n",
      "BrokenPipeError\n",
      "BufferError\n",
      "ChildProcessError\n",
      "ConnectionAbortedError\n",
      "ConnectionError\n",
      "ConnectionRefusedError\n",
      "ConnectionResetError\n",
      "EOFError\n",
      "EnvironmentError\n",
      "FileExistsError\n",
      "FileNotFoundError\n",
      "FloatingPointError\n",
      "IOError\n",
      "ImportError\n",
      "IndentationError\n",
      "IndexError\n",
      "InterruptedError\n",
      "IsADirectoryError\n",
      "KeyError\n",
      "LookupError\n",
      "MemoryError\n",
      "ModuleNotFoundError\n",
      "NameError\n",
      "NotADirectoryError\n",
      "NotImplementedError\n",
      "OSError\n",
      "OverflowError\n",
      "PermissionError\n",
      "ProcessLookupError\n",
      "RecursionError\n",
      "ReferenceError\n",
      "RuntimeError\n",
      "SyntaxError\n",
      "SystemError\n",
      "TabError\n",
      "TimeoutError\n",
      "TypeError\n",
      "UnboundLocalError\n",
      "UnicodeDecodeError\n",
      "UnicodeEncodeError\n",
      "UnicodeError\n",
      "UnicodeTranslateError\n",
      "ValueError\n",
      "WindowsError\n",
      "ZeroDivisionError\n"
     ]
    }
   ],
   "metadata": {}
  },
  {
   "cell_type": "code",
   "execution_count": null,
   "source": [],
   "outputs": [],
   "metadata": {}
  }
 ],
 "metadata": {
  "orig_nbformat": 4,
  "language_info": {
   "name": "python",
   "version": "3.8.10",
   "mimetype": "text/x-python",
   "codemirror_mode": {
    "name": "ipython",
    "version": 3
   },
   "pygments_lexer": "ipython3",
   "nbconvert_exporter": "python",
   "file_extension": ".py"
  },
  "kernelspec": {
   "name": "python3",
   "display_name": "Python 3.8.10 64-bit ('pyUdemy': conda)"
  },
  "interpreter": {
   "hash": "850589dbcddb156e77d4f3d14ca8c1630bd6be0fc25b764c490973a1c3128cd8"
  }
 },
 "nbformat": 4,
 "nbformat_minor": 2
}
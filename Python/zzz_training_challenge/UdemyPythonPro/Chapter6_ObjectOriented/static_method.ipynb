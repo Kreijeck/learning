{
 "cells": [
  {
   "cell_type": "code",
   "execution_count": 2,
   "source": [
    "from time import localtime\r\n",
    "\r\n",
    "class Date:\r\n",
    "    def __init__(self, year, month, day):\r\n",
    "        self.year = year\r\n",
    "        self.month = month\r\n",
    "        self.day = day\r\n",
    "\r\n",
    "    # instance method\r\n",
    "    def print_date(self):\r\n",
    "        print('{0} {1} {2}'.format(self.year, self.month, self.day))\r\n",
    "\r\n",
    "    @classmethod\r\n",
    "    def get_todays_date(cls):\r\n",
    " \r\n",
    "        date = cls.__new__(cls)\r\n",
    "        time = localtime()\r\n",
    "        # Alle Klassenvariablen verfügbar\r\n",
    "        date.year = time.tm_year\r\n",
    "        date.month = time.tm_mon\r\n",
    "        date.day = time.tm_mday\r\n",
    "        return date\r\n",
    "    # can neither modify the object state of an instance nor the class state itself\r\n",
    "    # it is rather a way to namespace your methods\r\n",
    "    @staticmethod\r\n",
    "    def is_todays_date(year, month, day):\r\n",
    "        time = localtime()\r\n",
    "        if year == time.tm_year and month == time.tm_mon and day == time.tm_mday:\r\n",
    "            return True\r\n",
    "        else:\r\n",
    "            return False"
   ],
   "outputs": [],
   "metadata": {}
  },
  {
   "cell_type": "code",
   "execution_count": 3,
   "source": [
    "date2 = Date.get_todays_date()"
   ],
   "outputs": [],
   "metadata": {}
  },
  {
   "cell_type": "code",
   "execution_count": 4,
   "source": [
    "Date.is_todays_date(date2.year, date2.month, date2.day)"
   ],
   "outputs": [
    {
     "output_type": "execute_result",
     "data": {
      "text/plain": [
       "True"
      ]
     },
     "metadata": {},
     "execution_count": 4
    }
   ],
   "metadata": {}
  },
  {
   "cell_type": "code",
   "execution_count": null,
   "source": [],
   "outputs": [],
   "metadata": {}
  }
 ],
 "metadata": {
  "orig_nbformat": 4,
  "language_info": {
   "name": "python",
   "version": "3.8.10",
   "mimetype": "text/x-python",
   "codemirror_mode": {
    "name": "ipython",
    "version": 3
   },
   "pygments_lexer": "ipython3",
   "nbconvert_exporter": "python",
   "file_extension": ".py"
  },
  "kernelspec": {
   "name": "python3",
   "display_name": "Python 3.8.10 64-bit ('pyUdemy': conda)"
  },
  "interpreter": {
   "hash": "850589dbcddb156e77d4f3d14ca8c1630bd6be0fc25b764c490973a1c3128cd8"
  }
 },
 "nbformat": 4,
 "nbformat_minor": 2
}
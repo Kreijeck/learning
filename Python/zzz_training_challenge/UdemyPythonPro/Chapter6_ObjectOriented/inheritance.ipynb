{
 "cells": [
  {
   "cell_type": "code",
   "execution_count": 14,
   "source": [
    "class A:\r\n",
    "    def __init__(self) -> None:\r\n",
    "        print (\"Init A called!\")\r\n",
    "        self.a = 1\r\n",
    "\r\n",
    " # super() immer leer, war relevant bei Python2\r\n",
    "        # Am besten immer zuerst die super aufrufen, bevor man eigene Methoden durchführt\r\n",
    "        # nur dann kann auf Variablen zugeriffen werden\r\n",
    "class B(A):\r\n",
    "    def __init__(self) -> None:\r\n",
    "        super().__init__()\r\n",
    "        print (\"Init B called!\")\r\n",
    "        self.b = self.a * 2\r\n",
    "\r\n",
    "class C(A):\r\n",
    "    def __init__(self) -> None:\r\n",
    "        # schlechts Beispiel\r\n",
    "        print (\"Init C called!\")\r\n",
    "        super().__init__()\r\n",
    "        self.c = self.a / 2\r\n",
    "\r\n",
    "class D(B, C):\r\n",
    "    def __init__(self) -> None:\r\n",
    "        super().__init__()\r\n",
    "        print (\"Init D called!\")\r\n",
    "        self.d = self.b + self.c\r\n",
    "    "
   ],
   "outputs": [],
   "metadata": {}
  },
  {
   "cell_type": "code",
   "execution_count": 15,
   "source": [
    "a = A()"
   ],
   "outputs": [
    {
     "output_type": "stream",
     "name": "stdout",
     "text": [
      "Init A called!\n"
     ]
    }
   ],
   "metadata": {}
  },
  {
   "cell_type": "code",
   "execution_count": 16,
   "source": [
    "b = B()\r\n",
    "print('----------')\r\n",
    "c = C() "
   ],
   "outputs": [
    {
     "output_type": "stream",
     "name": "stdout",
     "text": [
      "Init A called!\n",
      "Init B called!\n",
      "----------\n",
      "Init C called!\n",
      "Init A called!\n"
     ]
    }
   ],
   "metadata": {}
  },
  {
   "cell_type": "code",
   "execution_count": 17,
   "source": [
    "d = D()"
   ],
   "outputs": [
    {
     "output_type": "stream",
     "name": "stdout",
     "text": [
      "Init C called!\n",
      "Init A called!\n",
      "Init B called!\n",
      "Init D called!\n"
     ]
    }
   ],
   "metadata": {}
  },
  {
   "cell_type": "code",
   "execution_count": 18,
   "source": [
    "# mro: method resolution order: Zeigt an in welcher Reihenfolge super aufgerufen wird\r\n",
    "D.mro()"
   ],
   "outputs": [
    {
     "output_type": "execute_result",
     "data": {
      "text/plain": [
       "[__main__.D, __main__.B, __main__.C, __main__.A, object]"
      ]
     },
     "metadata": {},
     "execution_count": 18
    }
   ],
   "metadata": {}
  },
  {
   "cell_type": "code",
   "execution_count": null,
   "source": [],
   "outputs": [],
   "metadata": {}
  }
 ],
 "metadata": {
  "orig_nbformat": 4,
  "language_info": {
   "name": "python",
   "version": "3.8.10",
   "mimetype": "text/x-python",
   "codemirror_mode": {
    "name": "ipython",
    "version": 3
   },
   "pygments_lexer": "ipython3",
   "nbconvert_exporter": "python",
   "file_extension": ".py"
  },
  "kernelspec": {
   "name": "python3",
   "display_name": "Python 3.8.10 64-bit ('pyUdemy': conda)"
  },
  "interpreter": {
   "hash": "850589dbcddb156e77d4f3d14ca8c1630bd6be0fc25b764c490973a1c3128cd8"
  }
 },
 "nbformat": 4,
 "nbformat_minor": 2
}
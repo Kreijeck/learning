{
 "cells": [
  {
   "cell_type": "markdown",
   "source": [
    "# Abstract class\r\n",
    "import collections.abc  \r\n",
    "https://docs.python.org/3/library/collections.abc.html?highlight=collection%20abc#module-collections.abc"
   ],
   "metadata": {}
  },
  {
   "cell_type": "markdown",
   "source": [
    "# Liste\r\n",
    "erbt von  \r\n",
    "Mutable Sequence  \r\n",
    "Sequence  \r\n",
    "Collection  \r\n"
   ],
   "metadata": {}
  },
  {
   "cell_type": "code",
   "execution_count": 3,
   "source": [
    "from collections.abc import MutableSequence\r\n",
    "\r\n",
    "class MyOwnList(MutableSequence):\r\n",
    "    def __init__(self, values=None) -> None:\r\n",
    "        super().__init__()\r\n",
    "        if values:\r\n",
    "            self._values = list(values)\r\n",
    "        else:\r\n",
    "            self._values = []\r\n",
    "    \r\n",
    "    def __str__(self) -> str:\r\n",
    "        return str(self._values)\r\n",
    "\r\n",
    "    def __len__(self) -> int:\r\n",
    "        return len(self._values)\r\n",
    "\r\n",
    "    def __getitem__(self, idx):\r\n",
    "        return self._values[idx]\r\n",
    "\r\n",
    "    def __setitem__(self, idx, val):\r\n",
    "        self._values[idx] = val\r\n",
    "\r\n",
    "    def __delitem__(self, idx):\r\n",
    "        del self._values[idx]\r\n",
    "\r\n",
    "    def insert(self, idx, val) -> None:\r\n",
    "        return self._values.insert(idx, val)\r\n",
    "\r\n",
    "    def append(self, val):\r\n",
    "        self._values.append(val)\r\n",
    "\r\n",
    "        "
   ],
   "outputs": [],
   "metadata": {}
  },
  {
   "cell_type": "code",
   "execution_count": 5,
   "source": [
    "mylist = MyOwnList([1, 2, 3])\r\n",
    "print(mylist) # __str__\r\n",
    "print(len(mylist)) # __len__\r\n",
    "print(mylist[0]) # __getitem__\r\n",
    "mylist[0] = 'hello' # __setitem__\r\n",
    "print(mylist) # __str__\r\n",
    "del mylist[1] # __del__\r\n",
    "print(mylist) #__str__"
   ],
   "outputs": [
    {
     "output_type": "stream",
     "name": "stdout",
     "text": [
      "[1, 2, 3]\n",
      "3\n",
      "1\n",
      "['hello', 2, 3]\n",
      "['hello', 3]\n"
     ]
    }
   ],
   "metadata": {}
  },
  {
   "cell_type": "code",
   "execution_count": null,
   "source": [],
   "outputs": [],
   "metadata": {}
  }
 ],
 "metadata": {
  "orig_nbformat": 4,
  "language_info": {
   "name": "python",
   "version": "3.8.10",
   "mimetype": "text/x-python",
   "codemirror_mode": {
    "name": "ipython",
    "version": 3
   },
   "pygments_lexer": "ipython3",
   "nbconvert_exporter": "python",
   "file_extension": ".py"
  },
  "kernelspec": {
   "name": "python3",
   "display_name": "Python 3.8.10 64-bit ('pyUdemy': conda)"
  },
  "interpreter": {
   "hash": "850589dbcddb156e77d4f3d14ca8c1630bd6be0fc25b764c490973a1c3128cd8"
  }
 },
 "nbformat": 4,
 "nbformat_minor": 2
}
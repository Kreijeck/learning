{
 "cells": [
  {
   "cell_type": "code",
   "execution_count": null,
   "source": [],
   "outputs": [],
   "metadata": {}
  },
  {
   "cell_type": "markdown",
   "source": [
    "# Type\r\n",
    "sollte im fertigen Python Projekt nicht verwendet werden. Eher zum überprüfen von Typen gedacht  \r\n"
   ],
   "metadata": {}
  },
  {
   "cell_type": "code",
   "execution_count": 4,
   "source": [
    "class Base(object):\r\n",
    "    def __init__(self) -> None:\r\n",
    "        super().__init__()\r\n",
    "\r\n",
    "class A(Base):\r\n",
    "    def __init__(self) -> None:\r\n",
    "        super().__init__()\r\n",
    "\r\n",
    "class B(Base):\r\n",
    "    def __init__(self) -> None:\r\n",
    "        super().__init__()\r\n",
    "\r\n",
    "class C(A, B):\r\n",
    "    def __init__(self) -> None:\r\n",
    "        super().__init__()"
   ],
   "outputs": [],
   "metadata": {}
  },
  {
   "cell_type": "code",
   "execution_count": 5,
   "source": [
    "var = A()\r\n",
    "\r\n",
    "if type(var) == A:\r\n",
    "    print(\"type(var) == A\")\r\n",
    "else:\r\n",
    "    print(\"type(var) != A\")\r\n",
    "\r\n",
    "print(\"-----------\")\r\n",
    "\r\n",
    "if isinstance(var, A):\r\n",
    "    print(\"isinstance(var, A)\")\r\n",
    "else:\r\n",
    "    print(\"not isinstance(var, A)\")"
   ],
   "outputs": [
    {
     "output_type": "stream",
     "name": "stdout",
     "text": [
      "type(var) == A\n",
      "-----------\n",
      "isinstance(var, A)\n"
     ]
    }
   ],
   "metadata": {}
  },
  {
   "cell_type": "code",
   "execution_count": 6,
   "source": [
    "# isinstance überprüft auch bei Vererbung, type macht dies nicht\r\n",
    "var2 = A()\r\n",
    "\r\n",
    "if type(var2) == Base:\r\n",
    "    print(\"type(var2) == Base\")\r\n",
    "else:\r\n",
    "    print(\"type(var2) != Base\")\r\n",
    "\r\n",
    "print(\"-----------\")\r\n",
    "\r\n",
    "if isinstance(var2, Base):\r\n",
    "    print(\"isinstance(var2, Base)\")\r\n",
    "else:\r\n",
    "    print(\"not isinstance(var2, Base)\")"
   ],
   "outputs": [
    {
     "output_type": "stream",
     "name": "stdout",
     "text": [
      "type(var2) != Base\n",
      "-----------\n",
      "isinstance(var2, Base)\n"
     ]
    }
   ],
   "metadata": {}
  },
  {
   "cell_type": "code",
   "execution_count": null,
   "source": [],
   "outputs": [],
   "metadata": {}
  }
 ],
 "metadata": {
  "orig_nbformat": 4,
  "language_info": {
   "name": "python",
   "version": "3.8.10",
   "mimetype": "text/x-python",
   "codemirror_mode": {
    "name": "ipython",
    "version": 3
   },
   "pygments_lexer": "ipython3",
   "nbconvert_exporter": "python",
   "file_extension": ".py"
  },
  "kernelspec": {
   "name": "python3",
   "display_name": "Python 3.8.10 64-bit ('pyUdemy': conda)"
  },
  "interpreter": {
   "hash": "850589dbcddb156e77d4f3d14ca8c1630bd6be0fc25b764c490973a1c3128cd8"
  }
 },
 "nbformat": 4,
 "nbformat_minor": 2
}
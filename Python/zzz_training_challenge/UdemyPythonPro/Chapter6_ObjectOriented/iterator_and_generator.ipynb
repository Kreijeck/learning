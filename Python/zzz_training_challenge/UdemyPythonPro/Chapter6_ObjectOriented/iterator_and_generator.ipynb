{
 "cells": [
  {
   "cell_type": "code",
   "execution_count": 1,
   "source": [
    "#Iterator\r\n",
    "my_list = [1, 2, 3, 4]\r\n",
    "\r\n",
    "for val in my_list:\r\n",
    "    print(val)"
   ],
   "outputs": [
    {
     "output_type": "stream",
     "name": "stdout",
     "text": [
      "1\n",
      "2\n",
      "3\n",
      "4\n"
     ]
    }
   ],
   "metadata": {}
  },
  {
   "cell_type": "code",
   "execution_count": 2,
   "source": [
    "# iterator ist ein objekt um ein  Objekt jede Zeile durchzugehen\r\n",
    "my_iter = iter(my_list)\r\n",
    "\r\n",
    "print(my_iter, type(my_iter))\r\n",
    "\r\n",
    "print(next(my_iter))\r\n",
    "print(next(my_iter))\r\n",
    "print(next(my_iter))\r\n",
    "print(next(my_iter))\r\n",
    "\r\n",
    "# print(next(my_iter)) # dieser Durchlauf bringt error"
   ],
   "outputs": [
    {
     "output_type": "stream",
     "name": "stdout",
     "text": [
      "<list_iterator object at 0x000001D88FC6E400> <class 'list_iterator'>\n",
      "1\n",
      "2\n",
      "3\n",
      "4\n"
     ]
    }
   ],
   "metadata": {}
  },
  {
   "cell_type": "code",
   "execution_count": 3,
   "source": [
    "# Eigenes Iterator-Objekt - benötigt eine __iter__ und eine __next Funktion\r\n",
    "class PowerOfTwo:\r\n",
    "    def __init__(self, N) -> None:\r\n",
    "        self.N = N\r\n",
    "\r\n",
    "    # __iter__ hat immer return=self\r\n",
    "    def __iter__(self):\r\n",
    "        self.current_n = 0\r\n",
    "        return self\r\n",
    "\r\n",
    "    def __next__(self):\r\n",
    "        if self.current_n <= self.N:\r\n",
    "            current_result = 2**self.current_n\r\n",
    "            self.current_n += 1\r\n",
    "            return current_result\r\n",
    "        # ohne diesen Block hat man einen unendlichen Iterator - gefährlich\r\n",
    "        # Stop Bedingung\r\n",
    "        else:\r\n",
    "            raise StopIteration\r\n"
   ],
   "outputs": [],
   "metadata": {}
  },
  {
   "cell_type": "code",
   "execution_count": 4,
   "source": [
    "p = PowerOfTwo(10)\r\n",
    "\r\n",
    "for i in p:\r\n",
    "    print(i)"
   ],
   "outputs": [
    {
     "output_type": "stream",
     "name": "stdout",
     "text": [
      "1\n",
      "2\n",
      "4\n",
      "8\n",
      "16\n",
      "32\n",
      "64\n",
      "128\n",
      "256\n",
      "512\n",
      "1024\n"
     ]
    }
   ],
   "metadata": {}
  },
  {
   "cell_type": "code",
   "execution_count": 5,
   "source": [
    "power_of_twos = [power for power in PowerOfTwo(10)]\r\n",
    "print(power_of_twos)"
   ],
   "outputs": [
    {
     "output_type": "stream",
     "name": "stdout",
     "text": [
      "[1, 2, 4, 8, 16, 32, 64, 128, 256, 512, 1024]\n"
     ]
    }
   ],
   "metadata": {}
  },
  {
   "cell_type": "markdown",
   "source": [
    " ## Generator\r\n",
    " - Generator: function mit mindestens einem yield statement\r\n",
    " - Eay to implement, memory efficient\r\n",
    " - speichert nur immer den aktuellen Wert - daher performance Vorteile!\r\n",
    " - Kann einen unendlichen Stream haben und Memory Probleme"
   ],
   "metadata": {}
  },
  {
   "cell_type": "markdown",
   "source": [],
   "metadata": {}
  },
  {
   "cell_type": "code",
   "execution_count": 6,
   "source": [
    "# Generator!\r\n",
    "# yield speicher nur letzte Iteration ab\r\n",
    "def PowerOfTwoGenerator(N):\r\n",
    "    current_n = 0\r\n",
    "    while current_n <= N:\r\n",
    "        yield 2**current_n\r\n",
    "        current_n += 1"
   ],
   "outputs": [],
   "metadata": {}
  },
  {
   "cell_type": "code",
   "execution_count": 7,
   "source": [
    "g = PowerOfTwoGenerator(10)\r\n",
    "\r\n",
    "for i in g:\r\n",
    "    print(i)"
   ],
   "outputs": [
    {
     "output_type": "stream",
     "name": "stdout",
     "text": [
      "1\n",
      "2\n",
      "4\n",
      "8\n",
      "16\n",
      "32\n",
      "64\n",
      "128\n",
      "256\n",
      "512\n",
      "1024\n"
     ]
    }
   ],
   "metadata": {}
  },
  {
   "cell_type": "markdown",
   "source": [
    "# unendlicher Iterator"
   ],
   "metadata": {}
  },
  {
   "cell_type": "code",
   "execution_count": 12,
   "source": [
    "class NamesIterator:\r\n",
    "    def __init__(self, names) -> None:\r\n",
    "        self.names = names\r\n",
    "        self.num_names = len(self.names)\r\n",
    "        # Zählervariable am besten direkt im Konstruktor erstellen,\r\n",
    "        # bei unendlichem Iterator\r\n",
    "        self.current_n = 0\r\n",
    "\r\n",
    "    def __iter__(self):\r\n",
    "        self.current_n = 0\r\n",
    "        return self\r\n",
    "\r\n",
    "    def __next__(self):\r\n",
    "        if self.current_n < self.num_names:\r\n",
    "            current_result = self.names[self.current_n]\r\n",
    "            self.current_n += 1\r\n",
    "            return current_result\r\n",
    "        else:\r\n",
    "            self.current_n = 0\r\n",
    "            current_result = self.names[self.current_n]\r\n",
    "            self.current_n += 1\r\n",
    "            return current_result"
   ],
   "outputs": [],
   "metadata": {}
  },
  {
   "cell_type": "code",
   "execution_count": 13,
   "source": [
    "names = [\"Jan\", \"Peter\", \"Dennis\"]\r\n",
    "\r\n",
    "my_iterator = NamesIterator(names)\r\n",
    "\r\n",
    "for i in range(7):\r\n",
    "    print(next(my_iterator))"
   ],
   "outputs": [
    {
     "output_type": "stream",
     "name": "stdout",
     "text": [
      "Jan\n",
      "Peter\n",
      "Dennis\n",
      "Jan\n",
      "Peter\n",
      "Dennis\n",
      "Jan\n"
     ]
    }
   ],
   "metadata": {}
  },
  {
   "cell_type": "markdown",
   "source": [
    "# Itertools\r\n",
    "https://docs.python.org/3/library/itertools.html?highlight=itertools\r\n"
   ],
   "metadata": {}
  },
  {
   "cell_type": "code",
   "execution_count": 14,
   "source": [
    "import itertools\r\n",
    "# read function: there are a lot of possible\r\n",
    "\r\n",
    "names2 = [\"Jan\", \"Peter\", \"Dennis\"]\r\n",
    "\r\n",
    "# iterable objects can be converted with itertools:\r\n",
    "# cycle: Cycle the output (abc) -> (abcabcab....)\r\n",
    "my_iterator2 = itertools.cycle(names2)\r\n",
    "\r\n",
    "for i in range(10):\r\n",
    "    print(next(my_iterator2))"
   ],
   "outputs": [
    {
     "output_type": "stream",
     "name": "stdout",
     "text": [
      "Jan\n",
      "Peter\n",
      "Dennis\n",
      "Jan\n",
      "Peter\n",
      "Dennis\n",
      "Jan\n",
      "Peter\n",
      "Dennis\n",
      "Jan\n"
     ]
    }
   ],
   "metadata": {}
  },
  {
   "cell_type": "code",
   "execution_count": null,
   "source": [],
   "outputs": [],
   "metadata": {}
  }
 ],
 "metadata": {
  "orig_nbformat": 4,
  "language_info": {
   "name": "python",
   "version": "3.8.10",
   "mimetype": "text/x-python",
   "codemirror_mode": {
    "name": "ipython",
    "version": 3
   },
   "pygments_lexer": "ipython3",
   "nbconvert_exporter": "python",
   "file_extension": ".py"
  },
  "kernelspec": {
   "name": "python3",
   "display_name": "Python 3.8.10 64-bit ('pyUdemy': conda)"
  },
  "interpreter": {
   "hash": "850589dbcddb156e77d4f3d14ca8c1630bd6be0fc25b764c490973a1c3128cd8"
  }
 },
 "nbformat": 4,
 "nbformat_minor": 2
}
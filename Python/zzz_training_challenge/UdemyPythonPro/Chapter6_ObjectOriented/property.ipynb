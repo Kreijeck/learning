{
 "cells": [
  {
   "cell_type": "code",
   "execution_count": 1,
   "source": [
    "# Absprache, vom Interpreter wird dies aber nicht durchgeführt: \r\n",
    "# Variable mit \"_\": _name -> private\r\n",
    "# normaler Name: public\r\n",
    "\r\n",
    "\r\n",
    "# Versuch 1\r\n",
    "class User:\r\n",
    "    def __init__(self, name, user_id):\r\n",
    "        self.name = name\r\n",
    "        self.user_id = user_id\r\n",
    "\r\n",
    "    def __str__(self) -> str:\r\n",
    "        return f'Name: {self.name}, User-ID: {self.user_id}'\r\n",
    "\r\n",
    "    def get_name(self):\r\n",
    "        return self.name\r\n",
    "\r\n",
    "    def set_name(self, name):\r\n",
    "        self.name = name"
   ],
   "outputs": [],
   "metadata": {}
  },
  {
   "cell_type": "code",
   "execution_count": 4,
   "source": [
    "# Versuch 2\r\n",
    "\r\n",
    "class User:\r\n",
    "    def __init__(self, name, user_id):\r\n",
    "        self._name = name\r\n",
    "        self._user_id = user_id\r\n",
    "\r\n",
    "    def __str__(self) -> str:\r\n",
    "        return f'Name: {self._name}, User-ID: {self._user_id}'\r\n",
    "\r\n",
    "    # Getter for \"name\"\r\n",
    "    # \"_\" machen hier den unterschied!\r\n",
    "    @property\r\n",
    "    def name(self):\r\n",
    "        return self._name\r\n",
    "\r\n",
    "    @name.setter\r\n",
    "    def name(self, new_name):\r\n",
    "        self._name = new_name"
   ],
   "outputs": [],
   "metadata": {}
  },
  {
   "cell_type": "code",
   "execution_count": 5,
   "source": [
    "# in Python sind alle Variablen public\r\n",
    "u1 = User(\"Jan\", 123)\r\n",
    "print(u1)\r\n",
    "\r\n",
    "u1.name = \"Peter\"\r\n",
    "print(u1)\r\n"
   ],
   "outputs": [
    {
     "output_type": "stream",
     "name": "stdout",
     "text": [
      "Name: Jan, User-ID: 123\n",
      "Name: Peter, User-ID: 123\n"
     ]
    }
   ],
   "metadata": {}
  },
  {
   "cell_type": "code",
   "execution_count": null,
   "source": [],
   "outputs": [],
   "metadata": {}
  }
 ],
 "metadata": {
  "orig_nbformat": 4,
  "language_info": {
   "name": "python",
   "version": "3.8.10",
   "mimetype": "text/x-python",
   "codemirror_mode": {
    "name": "ipython",
    "version": 3
   },
   "pygments_lexer": "ipython3",
   "nbconvert_exporter": "python",
   "file_extension": ".py"
  },
  "kernelspec": {
   "name": "python3",
   "display_name": "Python 3.8.10 64-bit ('pyUdemy': conda)"
  },
  "interpreter": {
   "hash": "850589dbcddb156e77d4f3d14ca8c1630bd6be0fc25b764c490973a1c3128cd8"
  }
 },
 "nbformat": 4,
 "nbformat_minor": 2
}
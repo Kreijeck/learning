{
 "nbformat": 4,
 "nbformat_minor": 2,
 "metadata": {
  "language_info": {
   "name": "python",
   "codemirror_mode": {
    "name": "ipython",
    "version": 3
   },
   "version": "3.8.10"
  },
  "orig_nbformat": 2,
  "file_extension": ".py",
  "mimetype": "text/x-python",
  "name": "python",
  "npconvert_exporter": "python",
  "pygments_lexer": "ipython3",
  "version": 3,
  "kernelspec": {
   "name": "python3",
   "display_name": "Python 3.8.10 64-bit ('pyUdemy': conda)"
  },
  "interpreter": {
   "hash": "850589dbcddb156e77d4f3d14ca8c1630bd6be0fc25b764c490973a1c3128cd8"
  }
 },
 "cells": [
  {
   "cell_type": "code",
   "execution_count": 13,
   "source": [
    "from time import localtime\r\n",
    "\r\n",
    "class Date:\r\n",
    "    def __init__(self, year, month, day):\r\n",
    "        self.year = year\r\n",
    "        self.month = month\r\n",
    "        self.day = day\r\n",
    "\r\n",
    "    # instance method\r\n",
    "    def print_date(self):\r\n",
    "        print('{0} {1} {2}'.format(self.year, self.month, self.day))\r\n",
    "\r\n",
    "    # can only modify the state of the class and not a single instance\r\n",
    "    # class method bekommt kein \"self\"!\r\n",
    "    @classmethod\r\n",
    "    def get_todays_date(cls):\r\n",
    "        # leere Hülle einer neuen Instanz mit __new__\r\n",
    "        date = cls.__new__(cls)\r\n",
    "        time = localtime()\r\n",
    "        # Alle Klassenvariablen verfügbar\r\n",
    "        date.year = time.tm_year\r\n",
    "        date.month = time.tm_mon\r\n",
    "        date.day = time.tm_mday\r\n",
    "        return date"
   ],
   "outputs": [],
   "metadata": {}
  },
  {
   "cell_type": "code",
   "execution_count": 14,
   "source": [
    "date1 = Date(2008, 10, 8)\r\n",
    "\r\n",
    "date1.print_date()"
   ],
   "outputs": [
    {
     "output_type": "stream",
     "name": "stdout",
     "text": [
      "2008 10 8\n"
     ]
    }
   ],
   "metadata": {}
  },
  {
   "cell_type": "code",
   "execution_count": 15,
   "source": [
    "#       Klassenname classmethod\r\n",
    "# In der Klasse wird self übergeben als Parameter (hier siehe oben: cls)\r\n",
    "# wird hauptsächlich verwendet um eine Objekt mit speziellen Werten zu übergeben\r\n",
    "date2 = Date.get_todays_date()\r\n",
    "\r\n",
    "date2.print_date()"
   ],
   "outputs": [
    {
     "output_type": "stream",
     "name": "stdout",
     "text": [
      "2020 4 17\n"
     ]
    }
   ],
   "metadata": {}
  }
 ]
}
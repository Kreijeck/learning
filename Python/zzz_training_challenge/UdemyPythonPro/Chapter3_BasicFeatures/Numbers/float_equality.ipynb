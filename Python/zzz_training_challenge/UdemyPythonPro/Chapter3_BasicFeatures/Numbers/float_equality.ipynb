{
 "metadata": {
  "language_info": {
   "codemirror_mode": {
    "name": "ipython",
    "version": 3
   },
   "file_extension": ".py",
   "mimetype": "text/x-python",
   "name": "python",
   "nbconvert_exporter": "python",
   "pygments_lexer": "ipython3",
   "version": "3.8.8"
  },
  "orig_nbformat": 4,
  "kernelspec": {
   "name": "python3",
   "display_name": "Python 3.8.8 64-bit"
  },
  "interpreter": {
   "hash": "d4b05ad1dc57d69ae0018420f52cea6b313eeb1e73a3388b822b606278945608"
  }
 },
 "nbformat": 4,
 "nbformat_minor": 2,
 "cells": [
  {
   "cell_type": "code",
   "execution_count": 1,
   "metadata": {},
   "outputs": [
    {
     "output_type": "stream",
     "name": "stdout",
     "text": [
      "False\n"
     ]
    }
   ],
   "source": [
    "my_addition = 1/10 + 1/10 + 1/10\n",
    "print(my_addition == 0.3)"
   ]
  },
  {
   "cell_type": "code",
   "execution_count": 2,
   "metadata": {},
   "outputs": [
    {
     "output_type": "stream",
     "name": "stdout",
     "text": [
      "0.30000000000000004440892098500626 <class 'float'>\n"
     ]
    }
   ],
   "source": [
    "print('{:.32f}'.format(my_addition), type(my_addition))"
   ]
  },
  {
   "cell_type": "code",
   "execution_count": 4,
   "metadata": {},
   "outputs": [
    {
     "output_type": "stream",
     "name": "stdout",
     "text": [
      "0.30000000000000004440892098500626 <class 'float'>\n"
     ]
    }
   ],
   "source": [
    "my_rounding1 = round(1/10, 6) + round(1/10, 6) + round(1/10, 6)\n",
    "print('{:.32f}'.format(my_rounding1), type(my_rounding1))"
   ]
  },
  {
   "cell_type": "code",
   "execution_count": 3,
   "metadata": {},
   "outputs": [],
   "source": [
    "# Absolute und relative Toleranz\n",
    "# |x -y| < epsilon => floats are equal\n",
    "import math\n",
    "\n",
    "def floats_are_equal(x, y):\n",
    "    epsilon = 1e-15\n",
    "    is_equal = math.fabs(x-y) < epsilon\n",
    "    return is_equal\n"
   ]
  },
  {
   "cell_type": "code",
   "execution_count": 6,
   "metadata": {},
   "outputs": [
    {
     "output_type": "stream",
     "name": "stdout",
     "text": [
      "300000.30000000004656612873077392578125 <class 'float'>\nFalse\nFalse\n"
     ]
    }
   ],
   "source": [
    "my_addition = 100000.1 + 100000.1 + 100000.1\n",
    "my_expected_result = 300000.3\n",
    "\n",
    "print('{:.32f}'.format(my_addition), type(my_addition))\n",
    "print(my_addition == my_expected_result)\n",
    "print(floats_are_equal(my_addition, my_expected_result))"
   ]
  },
  {
   "cell_type": "code",
   "execution_count": 7,
   "metadata": {},
   "outputs": [
    {
     "output_type": "stream",
     "name": "stdout",
     "text": [
      "True\n"
     ]
    }
   ],
   "source": [
    "# math.isclose : to compare floats : with abs and rel tolerance as default values\n",
    "print(math.isclose(my_addition, my_expected_result))\n"
   ]
  },
  {
   "cell_type": "code",
   "execution_count": null,
   "metadata": {},
   "outputs": [],
   "source": []
  }
 ]
}
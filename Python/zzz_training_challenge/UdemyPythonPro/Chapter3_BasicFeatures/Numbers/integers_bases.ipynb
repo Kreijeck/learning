{
 "metadata": {
  "language_info": {
   "codemirror_mode": {
    "name": "ipython",
    "version": 3
   },
   "file_extension": ".py",
   "mimetype": "text/x-python",
   "name": "python",
   "nbconvert_exporter": "python",
   "pygments_lexer": "ipython3",
   "version": "3.7.5"
  },
  "orig_nbformat": 4,
  "kernelspec": {
   "name": "python3",
   "display_name": "Python 3.7.5 64-bit"
  },
  "interpreter": {
   "hash": "69487970f5a9b744b500f6c45fbd36d41eb09a151daaea32d627e3518f6c1972"
  }
 },
 "nbformat": 4,
 "nbformat_minor": 2,
 "cells": [
  {
   "cell_type": "code",
   "execution_count": 1,
   "metadata": {},
   "outputs": [
    {
     "output_type": "stream",
     "name": "stdout",
     "text": [
      "42 <class 'int'>\n"
     ]
    }
   ],
   "source": [
    "my_value = 42\n",
    "print(my_value, type(my_value))"
   ]
  },
  {
   "cell_type": "code",
   "execution_count": 2,
   "metadata": {},
   "outputs": [
    {
     "output_type": "stream",
     "name": "stdout",
     "text": [
      "42 <class 'int'>\n"
     ]
    }
   ],
   "source": [
    "# From [2, 36], decimal base 10\n",
    "my_value2 = int(\"42\", base=10)\n",
    "print(my_value2, type(my_value2))"
   ]
  },
  {
   "cell_type": "code",
   "execution_count": 5,
   "metadata": {},
   "outputs": [
    {
     "output_type": "stream",
     "name": "stdout",
     "text": [
      "42 <class 'int'>\n"
     ]
    }
   ],
   "source": [
    "# 101010 -> 42 als binär\n",
    "my_value3 = int(\"101010\", base=2)\n",
    "print(my_value3, type(my_value3))"
   ]
  },
  {
   "cell_type": "code",
   "execution_count": 6,
   "metadata": {},
   "outputs": [
    {
     "output_type": "stream",
     "name": "stdout",
     "text": [
      "42 <class 'int'>\n"
     ]
    }
   ],
   "source": [
    "# 2a - 0010 1010 - 42\n",
    "my_value4 = int(\"2a\", base=16)\n",
    "print(my_value4, type(my_value4))"
   ]
  },
  {
   "cell_type": "code",
   "execution_count": 13,
   "metadata": {},
   "outputs": [
    {
     "output_type": "stream",
     "name": "stdout",
     "text": [
      "42\n42\n42\n"
     ]
    }
   ],
   "source": [
    "my_value5 = 0b101010\n",
    "my_value6 = 0o52\n",
    "my_value7 = 0x2a\n",
    "print(my_value5)\n",
    "print(my_value6)\n",
    "print(my_value7)"
   ]
  },
  {
   "cell_type": "code",
   "execution_count": 12,
   "metadata": {},
   "outputs": [
    {
     "output_type": "stream",
     "name": "stdout",
     "text": [
      "0b101010 <class 'int'>\n0o52 <class 'int'>\n0x2a <class 'int'>\n"
     ]
    }
   ],
   "source": [
    "my_value  = 42\n",
    "print(bin(my_value), type(my_value))\n",
    "print(oct(my_value), type(my_value))\n",
    "print(hex(my_value), type(my_value))"
   ]
  },
  {
   "cell_type": "code",
   "execution_count": null,
   "metadata": {},
   "outputs": [],
   "source": []
  }
 ]
}
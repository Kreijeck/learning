{
 "metadata": {
  "language_info": {
   "codemirror_mode": {
    "name": "ipython",
    "version": 3
   },
   "file_extension": ".py",
   "mimetype": "text/x-python",
   "name": "python",
   "nbconvert_exporter": "python",
   "pygments_lexer": "ipython3",
   "version": "3.7.5"
  },
  "orig_nbformat": 4,
  "kernelspec": {
   "name": "python3",
   "display_name": "Python 3.7.5 64-bit"
  },
  "interpreter": {
   "hash": "69487970f5a9b744b500f6c45fbd36d41eb09a151daaea32d627e3518f6c1972"
  }
 },
 "nbformat": 4,
 "nbformat_minor": 2,
 "cells": [
  {
   "cell_type": "code",
   "execution_count": 5,
   "metadata": {},
   "outputs": [
    {
     "output_type": "stream",
     "name": "stdout",
     "text": [
      "42000000.0\n42000000.00\n4.2e-05\n0.00004199999999999999767590422306\n"
     ]
    }
   ],
   "source": [
    "# In anderen Programmiersprachen: Float, double\n",
    "# Floats in a computer: rationals numbers\n",
    "# Floats in Python: fixed size (64bit = 8Byte)\n",
    "\n",
    "# sign: 1bit\n",
    "# exponent: 11 bits: 2048\n",
    "# significant bits: 52 bits\n",
    "\n",
    "# 42 * 10**6\n",
    "my_value = 42e+06\n",
    "print(\"{:.2f}\".format(my_value))\n",
    "\n",
    "my_value = 42e-06\n",
    "print(my_value)\n",
    "print(\"{:.32f}\".format(my_value))"
   ]
  },
  {
   "cell_type": "code",
   "execution_count": 9,
   "metadata": {},
   "outputs": [
    {
     "output_type": "stream",
     "name": "stdout",
     "text": [
      "42.10000000000000142108547152020037 <class 'float'>\n42.10000000000000142108547152020037 <class 'float'>\n"
     ]
    }
   ],
   "source": [
    "my_value2 = 42.1\n",
    "\n",
    "print(\"{:.32f}\".format(my_value2), type(my_value2))\n",
    "\n",
    "my_value3 = float(\"42.1\")\n",
    "\n",
    "print(\"{:.32f}\".format(my_value3), type(my_value3))"
   ]
  },
  {
   "cell_type": "code",
   "execution_count": 10,
   "metadata": {},
   "outputs": [],
   "source": [
    "# funktioniert nicht: my_value4 = float(\"13/3\")\n",
    "# muss so gelöst werden\n",
    "my_value4 = float(f\"{13/3}\")"
   ]
  },
  {
   "cell_type": "code",
   "execution_count": 15,
   "metadata": {},
   "outputs": [
    {
     "output_type": "stream",
     "name": "stdout",
     "text": [
      "0.01\n0.01000000000000000020816681711722 <class 'float'>\n0.02000000000000000041633363423443 <class 'float'>\nFalse\n"
     ]
    }
   ],
   "source": [
    "# Problem exakte Darstellung von Floats funktioniert nicht\n",
    "my_fraction = 1 / 100\n",
    "print(my_fraction)\n",
    "print('{:.32f}'.format(my_fraction), type(my_fraction))\n",
    "\n",
    "my_addition = 1/ 100 + 1/100\n",
    "print('{:.32f}'.format(my_addition), type(my_addition))\n",
    "\n",
    "compare_addition = 1/10 + 1/10 + 1/10\n",
    "\n",
    "print(compare_addition == 0.3)"
   ]
  },
  {
   "cell_type": "code",
   "execution_count": null,
   "metadata": {},
   "outputs": [],
   "source": []
  }
 ]
}
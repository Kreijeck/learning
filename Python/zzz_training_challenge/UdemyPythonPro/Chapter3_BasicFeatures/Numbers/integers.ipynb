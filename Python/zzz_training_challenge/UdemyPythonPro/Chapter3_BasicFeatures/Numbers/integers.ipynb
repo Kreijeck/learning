{
 "metadata": {
  "language_info": {
   "codemirror_mode": {
    "name": "ipython",
    "version": 3
   },
   "file_extension": ".py",
   "mimetype": "text/x-python",
   "name": "python",
   "nbconvert_exporter": "python",
   "pygments_lexer": "ipython3",
   "version": "3.7.5"
  },
  "orig_nbformat": 4,
  "kernelspec": {
   "name": "python3",
   "display_name": "Python 3.7.5 64-bit"
  },
  "interpreter": {
   "hash": "69487970f5a9b744b500f6c45fbd36d41eb09a151daaea32d627e3518f6c1972"
  }
 },
 "nbformat": 4,
 "nbformat_minor": 2,
 "cells": [
  {
   "cell_type": "code",
   "execution_count": 4,
   "metadata": {},
   "outputs": [
    {
     "output_type": "stream",
     "name": "stdout",
     "text": [
      "<class 'int'>\nIt is an Integer\n"
     ]
    }
   ],
   "source": [
    "# C/C++/Java: int (32bit/8byte) -2Mrd, +2Mrd\n",
    "# Python: int object type uses a variable number of bits\n",
    "\n",
    "my_value = 42\n",
    "print(type(my_value))\n",
    "\n",
    "if isinstance(my_value, int):\n",
    "    print(\"It is an Integer\")"
   ]
  },
  {
   "cell_type": "code",
   "execution_count": 5,
   "metadata": {},
   "outputs": [
    {
     "output_type": "stream",
     "name": "stdout",
     "text": [
      "28\n"
     ]
    }
   ],
   "source": [
    "import sys\n",
    "\n",
    "print(sys.getsizeof(my_value))"
   ]
  },
  {
   "cell_type": "code",
   "execution_count": 7,
   "metadata": {},
   "outputs": [
    {
     "output_type": "stream",
     "name": "stdout",
     "text": [
      "24\n28\n32\n32\n36\n"
     ]
    }
   ],
   "source": [
    "my_var = 0\n",
    "print(sys.getsizeof(my_var))\n",
    "my_var = 1\n",
    "print(sys.getsizeof(my_var))\n",
    "my_var = 2**30\n",
    "print(sys.getsizeof(my_var))\n",
    "my_var = 2**40\n",
    "print(sys.getsizeof(my_var))\n",
    "my_var = 2**64\n",
    "print(sys.getsizeof(my_var))"
   ]
  },
  {
   "cell_type": "code",
   "execution_count": 9,
   "metadata": {},
   "outputs": [
    {
     "output_type": "stream",
     "name": "stdout",
     "text": [
      "2.0 <class 'float'>\n50 <class 'int'>\n15 <class 'int'>\n5 <class 'int'>\n"
     ]
    }
   ],
   "source": [
    "# Arithmetic Operations\n",
    "# The division of (int/int) => float\n",
    "\n",
    "result = 10 / 5\n",
    "print(result, type(result))\n",
    "\n",
    "result = 10 * 5\n",
    "print(result, type(result))\n",
    "\n",
    "result = 10 + 5\n",
    "print(result, type(result))\n",
    "\n",
    "result = 10 - 5\n",
    "print(result, type(result))"
   ]
  },
  {
   "cell_type": "code",
   "execution_count": 15,
   "metadata": {},
   "outputs": [
    {
     "output_type": "stream",
     "name": "stdout",
     "text": [
      "2 <class 'int'>\n3 <class 'int'>\n3 <class 'int'>\n"
     ]
    }
   ],
   "source": [
    "# Integer Division\n",
    "result = 10 // 5\n",
    "print(result, type(result))\n",
    "\n",
    "result = 10 // 3\n",
    "print(result, type(result))\n",
    "\n",
    "result = 11 // 3\n",
    "print(result, type(result))"
   ]
  },
  {
   "cell_type": "code",
   "execution_count": 18,
   "metadata": {},
   "outputs": [
    {
     "output_type": "stream",
     "name": "stdout",
     "text": [
      "10 = 1  *  7  +  3\n"
     ]
    }
   ],
   "source": [
    "# Division with rest\n",
    "a = 10\n",
    "b = 7\n",
    "\n",
    "integer_div_result = a // b\n",
    "remainder_div_result = a % b\n",
    "\n",
    "print(a, \"=\", integer_div_result, \" * \", b, \" + \", remainder_div_result)"
   ]
  },
  {
   "cell_type": "code",
   "execution_count": 22,
   "metadata": {},
   "outputs": [
    {
     "output_type": "stream",
     "name": "stdout",
     "text": [
      "2\n2\n3\n-2\n-3\n-2\n"
     ]
    }
   ],
   "source": [
    "import math\n",
    "# int(): Schneidet die Nachkommastellen ab!\n",
    "# math.floor: rundet zur nächst-kleineren Zahl\n",
    "# math.ceil: rundet zur nächst-größeren Zahl\n",
    "my_value = 2.3\n",
    "print(int(my_value))\n",
    "print(math.floor(my_value))\n",
    "print(math.ceil(my_value))\n",
    "\n",
    "my_value = -2.3\n",
    "print(int(my_value))\n",
    "print(math.floor(my_value))\n",
    "print(math.ceil(my_value))"
   ]
  },
  {
   "cell_type": "code",
   "execution_count": null,
   "metadata": {},
   "outputs": [],
   "source": []
  }
 ]
}
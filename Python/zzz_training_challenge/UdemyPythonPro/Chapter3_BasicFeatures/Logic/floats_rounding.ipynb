{
 "metadata": {
  "language_info": {
   "codemirror_mode": {
    "name": "ipython",
    "version": 3
   },
   "file_extension": ".py",
   "mimetype": "text/x-python",
   "name": "python",
   "nbconvert_exporter": "python",
   "pygments_lexer": "ipython3",
   "version": "3.8.8"
  },
  "orig_nbformat": 4,
  "kernelspec": {
   "name": "python3",
   "display_name": "Python 3.8.8 64-bit ('udemyPro_py388': venv)"
  },
  "interpreter": {
   "hash": "2572c91b9451a37ce05c02e232821168bcd972c7ee4228e498b465f1f505fc76"
  }
 },
 "nbformat": 4,
 "nbformat_minor": 2,
 "cells": [
  {
   "cell_type": "code",
   "execution_count": 6,
   "metadata": {},
   "outputs": [],
   "source": [
    "def print_value(variable):\n",
    "    print(variable, type(variable))"
   ]
  },
  {
   "cell_type": "code",
   "execution_count": 7,
   "metadata": {},
   "outputs": [
    {
     "output_type": "stream",
     "name": "stdout",
     "text": [
      "42.42424242424242 <class 'float'>\n42 <class 'int'>\n"
     ]
    }
   ],
   "source": [
    "my_float_value = 42.42424242424242\n",
    "print_value(my_float_value)\n",
    "\n",
    "my_casted_int = int(my_float_value)\n",
    "print_value(my_casted_int)"
   ]
  },
  {
   "cell_type": "code",
   "execution_count": 9,
   "metadata": {},
   "outputs": [
    {
     "output_type": "stream",
     "name": "stdout",
     "text": [
      "-43 <class 'int'>\n"
     ]
    }
   ],
   "source": [
    "my_float_value = -42.6\n",
    "my_rounded_value = round(my_float_value)\n",
    "print_value(my_rounded_value)"
   ]
  },
  {
   "cell_type": "code",
   "execution_count": 11,
   "metadata": {},
   "outputs": [
    {
     "output_type": "stream",
     "name": "stdout",
     "text": [
      "-42.6542 <class 'float'>\n-42.6543 <class 'float'>\n"
     ]
    }
   ],
   "source": [
    "my_float_value = -42.65423\n",
    "my_rounded_value = round(my_float_value, 4)\n",
    "print_value(my_rounded_value)\n",
    "\n",
    "my_float_value = -42.65426\n",
    "my_rounded_value = round(my_float_value, 4)\n",
    "print_value(my_rounded_value)"
   ]
  },
  {
   "cell_type": "code",
   "execution_count": 13,
   "metadata": {},
   "outputs": [
    {
     "output_type": "stream",
     "name": "stdout",
     "text": [
      "-40.0 <class 'float'>\n"
     ]
    }
   ],
   "source": [
    "my_float_value = -42.65423\n",
    "#negative round: 10^1\n",
    "my_rounded_value = round(my_float_value, -1)\n",
    "print_value(my_rounded_value)"
   ]
  },
  {
   "cell_type": "code",
   "execution_count": 16,
   "metadata": {},
   "outputs": [
    {
     "output_type": "stream",
     "name": "stdout",
     "text": [
      "200 <class 'int'>\n"
     ]
    }
   ],
   "source": [
    "my_int_value = 242\n",
    "#negative round: 10^2, negative works with int\n",
    "my_rounded_value = round(my_int_value, -2)\n",
    "print_value(my_rounded_value)"
   ]
  },
  {
   "cell_type": "code",
   "execution_count": null,
   "metadata": {},
   "outputs": [],
   "source": []
  }
 ]
}
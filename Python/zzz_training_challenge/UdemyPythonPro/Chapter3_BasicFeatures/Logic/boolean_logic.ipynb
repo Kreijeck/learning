{
 "metadata": {
  "language_info": {
   "codemirror_mode": {
    "name": "ipython",
    "version": 3
   },
   "file_extension": ".py",
   "mimetype": "text/x-python",
   "name": "python",
   "nbconvert_exporter": "python",
   "pygments_lexer": "ipython3",
   "version": "3.9.0"
  },
  "orig_nbformat": 4,
  "kernelspec": {
   "name": "python3",
   "display_name": "Python 3.9.0 64-bit ('py_udemy_39': venv)"
  },
  "interpreter": {
   "hash": "000741342c3a391a53aef78bf777cbe81cde465c22f6470c4c2cd9ef1a1c934a"
  }
 },
 "nbformat": 4,
 "nbformat_minor": 2,
 "cells": [
  {
   "cell_type": "code",
   "execution_count": 1,
   "source": [
    "\"\"\"\r\n",
    "# Boolean operators: and, or , not\r\n",
    "# Cmparison operators: <, >, <=, >=, ==, !=\r\n",
    "\r\n",
    "Operator order:\r\n",
    "1. ()\r\n",
    "2. Comparison operators\r\n",
    "3. not\r\n",
    "4. and\r\n",
    "5. or\r\n",
    "\"\"\""
   ],
   "outputs": [
    {
     "output_type": "execute_result",
     "data": {
      "text/plain": [
       "'\\n# Boolean operators: and, or , not\\n# Cmparison operators: <, >, <=, >=, ==, !=\\n\\nOperator order:\\n1. ()\\n2. Comparison operators\\n3. not\\n4. and\\n5. or\\n'"
      ]
     },
     "metadata": {},
     "execution_count": 1
    }
   ],
   "metadata": {}
  },
  {
   "cell_type": "code",
   "execution_count": 2,
   "source": [
    "# True = 1 , False = 0\r\n",
    "a = True\r\n",
    "b = False\r\n",
    "c = True\r\n"
   ],
   "outputs": [],
   "metadata": {}
  },
  {
   "cell_type": "code",
   "execution_count": 3,
   "source": [
    "# bad solution\r\n",
    "statement = a > b and c == a or not a and c\r\n",
    "print(statement)"
   ],
   "outputs": [
    {
     "output_type": "stream",
     "name": "stdout",
     "text": [
      "True\n"
     ]
    }
   ],
   "metadata": {}
  },
  {
   "cell_type": "code",
   "execution_count": 4,
   "source": [
    "# better solution \r\n",
    "statement = ((a > b) and (c == a)) or ((not a) and c)\r\n",
    "print(statement)"
   ],
   "outputs": [
    {
     "output_type": "stream",
     "name": "stdout",
     "text": [
      "True\n"
     ]
    }
   ],
   "metadata": {}
  },
  {
   "cell_type": "code",
   "execution_count": null,
   "source": [],
   "outputs": [],
   "metadata": {}
  }
 ]
}
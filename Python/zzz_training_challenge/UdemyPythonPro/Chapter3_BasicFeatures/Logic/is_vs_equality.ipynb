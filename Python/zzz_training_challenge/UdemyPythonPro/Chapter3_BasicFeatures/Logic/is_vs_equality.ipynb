{
 "metadata": {
  "language_info": {
   "codemirror_mode": {
    "name": "ipython",
    "version": 3
   },
   "file_extension": ".py",
   "mimetype": "text/x-python",
   "name": "python",
   "nbconvert_exporter": "python",
   "pygments_lexer": "ipython3",
   "version": "3.8.8"
  },
  "orig_nbformat": 4,
  "kernelspec": {
   "name": "python3",
   "display_name": "Python 3.8.8 64-bit ('udemyPro_py388': venv)"
  },
  "interpreter": {
   "hash": "2572c91b9451a37ce05c02e232821168bcd972c7ee4228e498b465f1f505fc76"
  }
 },
 "nbformat": 4,
 "nbformat_minor": 2,
 "cells": [
  {
   "cell_type": "code",
   "execution_count": 1,
   "metadata": {},
   "outputs": [],
   "source": [
    "# 'is' and 'is not': memory equality\n",
    "# '==' and '!=': value equality\n",
    "\n",
    "# Is: Identity operator (memory adresses)\n",
    "# Value Equality: Operator to compare object values\n",
    "\n",
    "def compare_values(v1, v2):\n",
    "    if v1 == v2:\n",
    "        print(\"v1==v2\")\n",
    "    else:\n",
    "        print(\"v1 != v2\")\n",
    "        \n",
    "    if v1 is v2:\n",
    "        print(\"v1 is v2\")\n",
    "    else:\n",
    "        print(\"v1 is not v2\")\n",
    "        \n"
   ]
  },
  {
   "cell_type": "code",
   "execution_count": 2,
   "metadata": {},
   "outputs": [
    {
     "output_type": "stream",
     "name": "stdout",
     "text": [
      "v1==v2\nv1 is not v2\n"
     ]
    }
   ],
   "source": [
    "my_value1 = 10\n",
    "my_value2 = 10.0\n",
    "\n",
    "compare_values(my_value1, my_value2)"
   ]
  },
  {
   "cell_type": "code",
   "execution_count": 3,
   "metadata": {},
   "outputs": [
    {
     "output_type": "stream",
     "name": "stdout",
     "text": [
      "v1==v2\nv1 is v2\n"
     ]
    }
   ],
   "source": [
    "my_value1 = 10\n",
    "my_value2 = 10\n",
    "\n",
    "compare_values(my_value1, my_value2)"
   ]
  },
  {
   "cell_type": "code",
   "execution_count": 4,
   "metadata": {},
   "outputs": [
    {
     "output_type": "stream",
     "name": "stdout",
     "text": [
      "v1 != v2\nv1 is not v2\n"
     ]
    }
   ],
   "source": [
    "my_list1 = [1, 2]\n",
    "my_list2 = [3, 4]\n",
    "\n",
    "compare_values(my_list1, my_list2)"
   ]
  },
  {
   "cell_type": "code",
   "execution_count": 5,
   "metadata": {},
   "outputs": [
    {
     "output_type": "stream",
     "name": "stdout",
     "text": [
      "v1==v2\nv1 is not v2\n"
     ]
    }
   ],
   "source": [
    "my_list1 = [1, 2]\n",
    "my_list2 = [1, 2]\n",
    "\n",
    "compare_values(my_list1, my_list2)"
   ]
  },
  {
   "cell_type": "code",
   "execution_count": null,
   "metadata": {},
   "outputs": [],
   "source": []
  }
 ]
}
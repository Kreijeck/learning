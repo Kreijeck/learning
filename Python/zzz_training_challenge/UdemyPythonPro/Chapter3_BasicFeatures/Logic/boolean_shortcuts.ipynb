{
 "metadata": {
  "language_info": {
   "codemirror_mode": {
    "name": "ipython",
    "version": 3
   },
   "file_extension": ".py",
   "mimetype": "text/x-python",
   "name": "python",
   "nbconvert_exporter": "python",
   "pygments_lexer": "ipython3",
   "version": "3.8.8"
  },
  "orig_nbformat": 4,
  "kernelspec": {
   "name": "python3",
   "display_name": "Python 3.8.8 64-bit ('udemyPro_py388': venv)"
  },
  "interpreter": {
   "hash": "2572c91b9451a37ce05c02e232821168bcd972c7ee4228e498b465f1f505fc76"
  }
 },
 "nbformat": 4,
 "nbformat_minor": 2,
 "cells": [
  {
   "cell_type": "code",
   "execution_count": 29,
   "metadata": {},
   "outputs": [],
   "source": [
    "# A B OR AND\n",
    "# 0 0  0  0 \n",
    "# 1 0  1  0\n",
    "# 0 1  1  0\n",
    "# 1 1  1  1"
   ]
  },
  {
   "cell_type": "code",
   "execution_count": 30,
   "metadata": {},
   "outputs": [],
   "source": [
    "A = True\n",
    "B = False"
   ]
  },
  {
   "cell_type": "code",
   "execution_count": 31,
   "metadata": {},
   "outputs": [],
   "source": [
    "def bool_A(A):\n",
    "    print(\"Calling func A\")\n",
    "    if A:\n",
    "        return True\n",
    "    else:\n",
    "        return False"
   ]
  },
  {
   "cell_type": "code",
   "execution_count": 32,
   "metadata": {},
   "outputs": [],
   "source": [
    "def bool_B(B):\n",
    "    print(\"Calling func B\")\n",
    "    if B:\n",
    "        return True\n",
    "    else:\n",
    "        return False"
   ]
  },
  {
   "cell_type": "code",
   "execution_count": 33,
   "metadata": {},
   "outputs": [
    {
     "output_type": "stream",
     "name": "stdout",
     "text": [
      "A or B\n"
     ]
    }
   ],
   "source": [
    "if A or B:\n",
    "    print(\"A or B\")"
   ]
  },
  {
   "cell_type": "code",
   "execution_count": 34,
   "metadata": {},
   "outputs": [
    {
     "output_type": "stream",
     "name": "stdout",
     "text": [
      "Calling func A\nA or B\n"
     ]
    }
   ],
   "source": [
    "# Only Execute as long as necessary\n",
    "if bool_A(A) or bool_B(b):\n",
    "    print(\"A or B\")"
   ]
  },
  {
   "cell_type": "code",
   "execution_count": 36,
   "metadata": {},
   "outputs": [],
   "source": [
    "if A and B:\n",
    "    print(\"A and B\")"
   ]
  },
  {
   "cell_type": "code",
   "execution_count": 11,
   "metadata": {},
   "outputs": [
    {
     "output_type": "stream",
     "name": "stdout",
     "text": [
      "Calling func A\nCalling func B\n"
     ]
    }
   ],
   "source": [
    "if bool_A(A) and bool_B(B):\n",
    "    print(\"A and B\")"
   ]
  },
  {
   "cell_type": "code",
   "execution_count": null,
   "metadata": {},
   "outputs": [],
   "source": []
  }
 ]
}
{
 "metadata": {
  "language_info": {
   "codemirror_mode": {
    "name": "ipython",
    "version": 3
   },
   "file_extension": ".py",
   "mimetype": "text/x-python",
   "name": "python",
   "nbconvert_exporter": "python",
   "pygments_lexer": "ipython3",
   "version": "3.8.8"
  },
  "orig_nbformat": 4,
  "kernelspec": {
   "name": "python3",
   "display_name": "Python 3.8.8 64-bit ('udemyPro_py388': venv)"
  },
  "interpreter": {
   "hash": "2572c91b9451a37ce05c02e232821168bcd972c7ee4228e498b465f1f505fc76"
  }
 },
 "nbformat": 4,
 "nbformat_minor": 2,
 "cells": [
  {
   "cell_type": "code",
   "execution_count": 1,
   "metadata": {},
   "outputs": [
    {
     "output_type": "stream",
     "name": "stdout",
     "text": [
      "True\n"
     ]
    }
   ],
   "source": [
    "print(issubclass(bool, int ))"
   ]
  },
  {
   "cell_type": "code",
   "execution_count": 2,
   "metadata": {},
   "outputs": [
    {
     "output_type": "stream",
     "name": "stdout",
     "text": [
      "True\nTrue\n"
     ]
    }
   ],
   "source": [
    "print(isinstance(True, bool))\n",
    "print(isinstance(False,bool))"
   ]
  },
  {
   "cell_type": "code",
   "execution_count": 3,
   "metadata": {},
   "outputs": [
    {
     "output_type": "stream",
     "name": "stdout",
     "text": [
      "False\nFalse\n"
     ]
    }
   ],
   "source": [
    "print(isinstance(1, bool))\n",
    "print(isinstance(0, bool))"
   ]
  },
  {
   "cell_type": "code",
   "execution_count": 4,
   "metadata": {},
   "outputs": [
    {
     "output_type": "stream",
     "name": "stdout",
     "text": [
      "Yes\n"
     ]
    }
   ],
   "source": [
    "my_bool_value = True # Numerical value: 1\n",
    "my_int_value = 1\n",
    "\n",
    "#Equality comparison\n",
    "if my_bool_value == my_int_value:\n",
    "    print(\"Yes\")\n",
    "else:\n",
    "    print(\"no\")"
   ]
  },
  {
   "cell_type": "code",
   "execution_count": 5,
   "metadata": {},
   "outputs": [
    {
     "output_type": "stream",
     "name": "stdout",
     "text": [
      "no\n"
     ]
    }
   ],
   "source": [
    "# should show is not the same (in memory)\n",
    "if my_bool_value is my_int_value:\n",
    "    print(\"Yes\")\n",
    "else:\n",
    "    print(\"no\")"
   ]
  },
  {
   "cell_type": "code",
   "execution_count": 11,
   "metadata": {},
   "outputs": [
    {
     "output_type": "stream",
     "name": "stdout",
     "text": [
      "v1 is false\n"
     ]
    }
   ],
   "source": [
    "# Every object has a Truth Value\n",
    "# An instance is True if it is not: None, False, 0, or empty\n",
    "\n",
    "v1 = 0.\n",
    "\n",
    "# No == because wanna test only True and False\n",
    "if v1:\n",
    "    print(\"v1\")\n",
    "else:\n",
    "    print(\"v1 is false\")"
   ]
  },
  {
   "cell_type": "code",
   "execution_count": 15,
   "metadata": {},
   "outputs": [
    {
     "output_type": "stream",
     "name": "stdout",
     "text": [
      "v2 == True\n"
     ]
    }
   ],
   "source": [
    "# mit Equality Comperator ist diese Bedingung nur für für \"1\" war, da er Werte überprüft\n",
    "v2 = 1\n",
    "\n",
    "if v2 == True:\n",
    "    print(\"v2 == True\")\n",
    "\n",
    "v3 = 2\n",
    "\n",
    "if v3 == True:\n",
    "    print(\"v3 == True\")"
   ]
  },
  {
   "cell_type": "code",
   "execution_count": null,
   "metadata": {},
   "outputs": [],
   "source": []
  }
 ]
}
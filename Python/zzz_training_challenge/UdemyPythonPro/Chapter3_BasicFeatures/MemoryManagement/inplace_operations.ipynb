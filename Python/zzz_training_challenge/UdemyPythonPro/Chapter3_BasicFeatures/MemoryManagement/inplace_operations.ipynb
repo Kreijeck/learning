{
 "cells": [
  {
   "cell_type": "markdown",
   "source": [
    "Immutable Types:"
   ],
   "metadata": {}
  },
  {
   "cell_type": "code",
   "execution_count": 1,
   "source": [
    "a = 1\r\n",
    "print(a, hex(id(a)))\r\n",
    "a = a + 1 #addition: __add__\r\n",
    "print(a, hex(id(a)))\r\n",
    "a += 1 # in-place addtion: __iadd__\r\n",
    "print(a, hex(id(a)))"
   ],
   "outputs": [
    {
     "output_type": "stream",
     "name": "stdout",
     "text": [
      "1 0x7ffaf9b006b0\n",
      "2 0x7ffaf9b006d0\n",
      "3 0x7ffaf9b006f0\n"
     ]
    }
   ],
   "metadata": {}
  },
  {
   "cell_type": "code",
   "execution_count": 2,
   "source": [
    "b = 1\r\n",
    "print(b, hex(id(b)))\r\n",
    "b = b * 2\r\n",
    "print(b, hex(id(b)))\r\n",
    "b *= 2\r\n",
    "print(b, hex(id(b)))"
   ],
   "outputs": [
    {
     "output_type": "stream",
     "name": "stdout",
     "text": [
      "1 0x7ffaf9b006b0\n",
      "2 0x7ffaf9b006d0\n",
      "4 0x7ffaf9b00710\n"
     ]
    }
   ],
   "metadata": {}
  },
  {
   "cell_type": "code",
   "execution_count": 3,
   "source": [
    "t = (1,)\r\n",
    "print(t, hex(id(t)))\r\n",
    "t = t + (2,)\r\n",
    "print(t, hex(id(t)))\r\n",
    "t += (3,)\r\n",
    "print(t, hex(id(t)))"
   ],
   "outputs": [
    {
     "output_type": "stream",
     "name": "stdout",
     "text": [
      "(1,) 0x1de1ecf4520\n",
      "(1, 2) 0x1de1ebfe540\n",
      "(1, 2, 3) 0x1de1ed24fc0\n"
     ]
    }
   ],
   "metadata": {}
  },
  {
   "cell_type": "markdown",
   "source": [
    "Mutable Types"
   ],
   "metadata": {}
  },
  {
   "cell_type": "code",
   "execution_count": 4,
   "source": [
    "l = [1]\r\n",
    "print(l, hex(id(l)))\r\n",
    "l = l + [2] # __add__\r\n",
    "print(l, hex(id(l)))\r\n",
    "#here the list will be added at same memory - works only with mutable types\r\n",
    "l += [3] # __iadd__ \r\n",
    "print(l, hex(id(l)))"
   ],
   "outputs": [
    {
     "output_type": "stream",
     "name": "stdout",
     "text": [
      "[1] 0x1de1ed32ec0\n",
      "[1, 2] 0x1de1ed33740\n",
      "[1, 2, 3] 0x1de1ed33740\n"
     ]
    }
   ],
   "metadata": {}
  },
  {
   "cell_type": "code",
   "execution_count": 5,
   "source": [
    "l2 = [1, 2, 3]\r\n",
    "print(l2, hex(id(l2)))\r\n",
    "l2 = l2 * 2 # __mul__\r\n",
    "print(l2, hex(id(l2)))\r\n",
    "l2 *= 2 # __imul__\r\n",
    "print(l2, hex(id(l2)))"
   ],
   "outputs": [
    {
     "output_type": "stream",
     "name": "stdout",
     "text": [
      "[1, 2, 3] 0x1de1ed331c0\n",
      "[1, 2, 3, 1, 2, 3] 0x1de1ed33440\n",
      "[1, 2, 3, 1, 2, 3, 1, 2, 3, 1, 2, 3] 0x1de1ed33440\n"
     ]
    }
   ],
   "metadata": {}
  }
 ],
 "metadata": {
  "language_info": {
   "codemirror_mode": {
    "name": "ipython",
    "version": 3
   },
   "file_extension": ".py",
   "mimetype": "text/x-python",
   "name": "python",
   "nbconvert_exporter": "python",
   "pygments_lexer": "ipython3",
   "version": "3.8.8"
  },
  "orig_nbformat": 2,
  "kernelspec": {
   "name": "python3",
   "display_name": "Python 3.8.8 64-bit ('udemyPro_py388': venv)"
  },
  "interpreter": {
   "hash": "2572c91b9451a37ce05c02e232821168bcd972c7ee4228e498b465f1f505fc76"
  }
 },
 "nbformat": 4,
 "nbformat_minor": 2
}
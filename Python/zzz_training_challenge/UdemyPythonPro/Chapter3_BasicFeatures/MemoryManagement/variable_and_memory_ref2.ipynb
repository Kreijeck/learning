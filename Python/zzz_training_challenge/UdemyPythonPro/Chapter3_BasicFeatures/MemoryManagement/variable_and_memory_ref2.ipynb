{
 "metadata": {
  "language_info": {
   "codemirror_mode": {
    "name": "ipython",
    "version": 3
   },
   "file_extension": ".py",
   "mimetype": "text/x-python",
   "name": "python",
   "nbconvert_exporter": "python",
   "pygments_lexer": "ipython3",
   "version": "3.8.10"
  },
  "orig_nbformat": 4,
  "kernelspec": {
   "name": "python3",
   "display_name": "Python 3.8.10 64-bit ('pyUdemy': conda)"
  },
  "interpreter": {
   "hash": "850589dbcddb156e77d4f3d14ca8c1630bd6be0fc25b764c490973a1c3128cd8"
  }
 },
 "nbformat": 4,
 "nbformat_minor": 2,
 "cells": [
  {
   "cell_type": "code",
   "execution_count": 1,
   "metadata": {},
   "outputs": [],
   "source": [
    "def print_mem_address(var):\n",
    "    print(hex(id(var)))"
   ]
  },
  {
   "cell_type": "code",
   "execution_count": 2,
   "metadata": {},
   "outputs": [
    {
     "output_type": "stream",
     "name": "stdout",
     "text": [
      "0x7ffb0aa433f0\n0x7ffb0aa433f0\n"
     ]
    }
   ],
   "source": [
    "int_val1 = 100\n",
    "int_val2 = 100\n",
    "\n",
    "print_mem_address(int_val1)\n",
    "print_mem_address(int_val2)"
   ]
  },
  {
   "cell_type": "code",
   "execution_count": 3,
   "metadata": {},
   "outputs": [
    {
     "output_type": "stream",
     "name": "stdout",
     "text": [
      "0x1d0f70e5470\n0x1d0f70e54f0\n"
     ]
    }
   ],
   "source": [
    "int_val1 = 1000\n",
    "int_val2 = 1000\n",
    "\n",
    "print_mem_address(int_val1)\n",
    "print_mem_address(int_val2)"
   ]
  },
  {
   "cell_type": "code",
   "execution_count": 4,
   "metadata": {},
   "outputs": [],
   "source": [
    "list1 = []\n"
   ]
  },
  {
   "cell_type": "code",
   "execution_count": 7,
   "metadata": {},
   "outputs": [],
   "source": [
    "import random\n",
    "def append_rdm_val(l):\n",
    "    l.append(random.randint(-100, 100))"
   ]
  },
  {
   "cell_type": "code",
   "execution_count": 9,
   "metadata": {},
   "outputs": [
    {
     "output_type": "stream",
     "name": "stdout",
     "text": [
      "[-88, -40]\n"
     ]
    }
   ],
   "source": [
    "# keine Kopie, sondern die Liste an sich wird bearbeitet\n",
    "append_rdm_val(list1)\n",
    "\n",
    "print(list1)"
   ]
  },
  {
   "cell_type": "code",
   "execution_count": 11,
   "metadata": {},
   "outputs": [],
   "source": [
    "def square_list(l):\n",
    "    # l wird ein neuer Wert zugewiesen, daher wird nur eine Kopie zurückgegeben\n",
    "    l = [val**2 for val in l]\n",
    "    return l"
   ]
  },
  {
   "cell_type": "code",
   "execution_count": 14,
   "metadata": {},
   "outputs": [
    {
     "output_type": "stream",
     "name": "stdout",
     "text": [
      "[1, 2, 3, 4, 5]\n[1, 4, 9, 16, 25]\n"
     ]
    }
   ],
   "source": [
    "my_list2 = [1, 2, 3, 4, 5]\n",
    "squared_list = square_list(my_list2)\n",
    "\n",
    "print(my_list2)\n",
    "print(squared_list)"
   ]
  },
  {
   "cell_type": "code",
   "execution_count": null,
   "metadata": {},
   "outputs": [],
   "source": []
  }
 ]
}
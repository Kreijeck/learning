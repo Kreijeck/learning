{
 "metadata": {
  "language_info": {
   "codemirror_mode": {
    "name": "ipython",
    "version": 3
   },
   "file_extension": ".py",
   "mimetype": "text/x-python",
   "name": "python",
   "nbconvert_exporter": "python",
   "pygments_lexer": "ipython3",
   "version": "3.8.10"
  },
  "orig_nbformat": 4,
  "kernelspec": {
   "name": "python3",
   "display_name": "Python 3.8.10 64-bit ('pyUdemy': conda)"
  },
  "interpreter": {
   "hash": "850589dbcddb156e77d4f3d14ca8c1630bd6be0fc25b764c490973a1c3128cd8"
  }
 },
 "nbformat": 4,
 "nbformat_minor": 2,
 "cells": [
  {
   "cell_type": "code",
   "execution_count": 1,
   "metadata": {},
   "outputs": [],
   "source": [
    "# Mutable types : list, dirct, set, etc\n",
    "# Immutable types: int, floar, bool, str, tuple, (own Object)"
   ]
  },
  {
   "cell_type": "code",
   "execution_count": 2,
   "metadata": {},
   "outputs": [
    {
     "output_type": "stream",
     "name": "stdout",
     "text": [
      "[1, 2, 3]\n(1, 2, 3)\n"
     ]
    }
   ],
   "source": [
    "my_list = [1, 2, 3]\n",
    "my_tuple = (1, 2, 3)\n",
    "\n",
    "print(my_list)\n",
    "print(my_tuple)"
   ]
  },
  {
   "cell_type": "code",
   "execution_count": 4,
   "metadata": {},
   "outputs": [],
   "source": [
    "my_list[0] = -1\n",
    "# doesn't work!!!\n",
    "# --> my_tuple[0] = -1\n",
    "#but it works:\n",
    "my_tuple = my_list"
   ]
  },
  {
   "cell_type": "code",
   "execution_count": null,
   "metadata": {},
   "outputs": [],
   "source": [
    "def print_mem_address(var):\n",
    "    print(hex(id(var)))"
   ]
  },
  {
   "cell_type": "code",
   "execution_count": 7,
   "metadata": {},
   "outputs": [
    {
     "output_type": "stream",
     "name": "stdout",
     "text": [
      "0x7ffb0aa42cb0\n0x7ffb0aa42b70\n"
     ]
    }
   ],
   "source": [
    "# for int:\n",
    "# Variable ZEIGT auf einen anderen Speicherblock, aber alter Speicher bleibt bestehen - analog zum tuple\n",
    "my_int1 = 42\n",
    "print_mem_address(my_int1)\n",
    "my_int1 = 32\n",
    "print_mem_address(my_int1)"
   ]
  },
  {
   "cell_type": "code",
   "execution_count": 12,
   "metadata": {},
   "outputs": [
    {
     "output_type": "stream",
     "name": "stdout",
     "text": [
      "0x289b7cad600\n0x289b7cad600\n0x289b7cad3c0\n"
     ]
    }
   ],
   "source": [
    "# Erstellung einer Liste\n",
    "my_list2 = [1, 2]\n",
    "print_mem_address(my_list2)\n",
    "# Speicheradresse bleibt bei Änderung bestehen, wir verändern die Liste also an dem Speicherbereich\n",
    "my_list2.append(3)\n",
    "print_mem_address(my_list2)\n",
    "#Bei Neuzuweisung der List wird ein weiterer Speicherplatz verwendet\n",
    "my_list2 = [1, 2, 3]\n",
    "print_mem_address(my_list2)\n",
    "\n",
    "# Eigene Definition: Wenn ich einen Datentyp über Methoden veränder, bleibt es an diesem Speicher.\n",
    "# Wenn Datentyp neu zugewiesen wird der Speicherplatz verändert"
   ]
  },
  {
   "cell_type": "code",
   "execution_count": null,
   "metadata": {},
   "outputs": [],
   "source": []
  }
 ]
}
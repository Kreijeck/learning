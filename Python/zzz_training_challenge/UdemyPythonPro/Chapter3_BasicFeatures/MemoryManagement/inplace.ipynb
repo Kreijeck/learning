{
 "metadata": {
  "language_info": {
   "codemirror_mode": {
    "name": "ipython",
    "version": 3
   },
   "file_extension": ".py",
   "mimetype": "text/x-python",
   "name": "python",
   "nbconvert_exporter": "python",
   "pygments_lexer": "ipython3",
   "version": "3.8.10"
  },
  "orig_nbformat": 4,
  "kernelspec": {
   "name": "python3",
   "display_name": "Python 3.8.10 64-bit ('pyUdemy': conda)"
  },
  "interpreter": {
   "hash": "850589dbcddb156e77d4f3d14ca8c1630bd6be0fc25b764c490973a1c3128cd8"
  }
 },
 "nbformat": 4,
 "nbformat_minor": 2,
 "cells": [
  {
   "cell_type": "code",
   "execution_count": 3,
   "metadata": {},
   "outputs": [
    {
     "output_type": "stream",
     "name": "stdout",
     "text": [
      "10\n"
     ]
    }
   ],
   "source": [
    "def inc_number(number, val):\n",
    "    number += val\n",
    "\n",
    "my_number = 10\n",
    "val = 1\n",
    "\n",
    "inc_number(my_number, val)\n",
    "print(my_number)"
   ]
  },
  {
   "cell_type": "code",
   "execution_count": 4,
   "metadata": {},
   "outputs": [
    {
     "output_type": "stream",
     "name": "stdout",
     "text": [
      "[1, 2, 3]\n"
     ]
    }
   ],
   "source": [
    "def inc_list1(lst, val):\n",
    "    for list_val in lst:\n",
    "        # list_val ist Int, damit imutable\n",
    "        list_val += val\n",
    "\n",
    "my_list1 = [1, 2, 3]\n",
    "val = 1\n",
    "\n",
    "inc_list1(my_list1, val)\n",
    "print(my_list1)"
   ]
  },
  {
   "cell_type": "code",
   "execution_count": 5,
   "metadata": {},
   "outputs": [
    {
     "output_type": "stream",
     "name": "stdout",
     "text": [
      "[2, 3, 4]\n"
     ]
    }
   ],
   "source": [
    "\n",
    "def increment_list2(lst, val):\n",
    "    # hier wird der Wert der List an sich verändert\n",
    "    for i in range(len(lst)):\n",
    "        lst[i] += val\n",
    "\n",
    "my_list2 = [1, 2, 3]\n",
    "val2 = 1\n",
    "\n",
    "increment_list2(my_list2, val2)\n",
    "print(my_list2)"
   ]
  },
  {
   "cell_type": "code",
   "execution_count": null,
   "metadata": {},
   "outputs": [],
   "source": []
  }
 ]
}
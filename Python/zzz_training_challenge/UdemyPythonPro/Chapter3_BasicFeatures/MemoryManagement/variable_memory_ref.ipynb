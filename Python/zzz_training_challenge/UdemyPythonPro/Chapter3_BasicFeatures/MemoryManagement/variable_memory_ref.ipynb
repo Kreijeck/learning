{
 "metadata": {
  "language_info": {
   "codemirror_mode": {
    "name": "ipython",
    "version": 3
   },
   "file_extension": ".py",
   "mimetype": "text/x-python",
   "name": "python",
   "nbconvert_exporter": "python",
   "pygments_lexer": "ipython3",
   "version": "3.8.8"
  },
  "orig_nbformat": 4,
  "kernelspec": {
   "name": "python3",
   "display_name": "Python 3.8.8 64-bit ('udemyPro_py388': venv)"
  },
  "interpreter": {
   "hash": "2572c91b9451a37ce05c02e232821168bcd972c7ee4228e498b465f1f505fc76"
  }
 },
 "nbformat": 4,
 "nbformat_minor": 2,
 "cells": [
  {
   "cell_type": "code",
   "execution_count": 1,
   "metadata": {},
   "outputs": [],
   "source": [
    "def print_memory_adress(var):\n",
    "    print(hex(id(var)))"
   ]
  },
  {
   "cell_type": "code",
   "execution_count": 2,
   "metadata": {},
   "outputs": [
    {
     "output_type": "stream",
     "name": "stdout",
     "text": [
      "0x7ff9847907d0\n"
     ]
    }
   ],
   "source": [
    "my_test_value = 10 # int(10)\n",
    "print_memory_adress(my_test_value)"
   ]
  },
  {
   "cell_type": "code",
   "execution_count": 13,
   "metadata": {},
   "outputs": [
    {
     "output_type": "stream",
     "name": "stdout",
     "text": [
      "0x162e443c4b0\n0x162e443c390\n0x162e443c470\n0x7ff9847909b0\n0x7ff9847909b0\n0x7ff9847909b0\n"
     ]
    }
   ],
   "source": [
    "# Bei gleichen Werten zeigen alle Variable auf die gleiche Speicheradresse\n",
    "# funktioniert nur bei Integern und kleiner 256 \n",
    "# oder boolean\n",
    "# oder NONE\n",
    "my_int_value1 = 257\n",
    "my_int_value2 = 257\n",
    "my_int_value3 = 257\n",
    "\n",
    "print_memory_adress(my_int_value1)\n",
    "print_memory_adress(my_int_value2)\n",
    "print_memory_adress(my_int_value3)\n",
    "\n",
    "my_int_value1 = 25\n",
    "my_int_value2 = 25\n",
    "my_int_value3 = 25\n",
    "\n",
    "print_memory_adress(my_int_value1)\n",
    "print_memory_adress(my_int_value2)\n",
    "print_memory_adress(my_int_value3)"
   ]
  },
  {
   "cell_type": "code",
   "execution_count": 5,
   "metadata": {},
   "outputs": [
    {
     "output_type": "stream",
     "name": "stdout",
     "text": [
      "0x162e46f4550\n0x162e46f46f0\n0x162e443c250\n"
     ]
    }
   ],
   "source": [
    "# nicht bei Floats!\n",
    "my_int_value1 = 42.\n",
    "my_int_value2 = 42.\n",
    "my_int_value3 = 42.\n",
    "\n",
    "print_memory_adress(my_int_value1)\n",
    "print_memory_adress(my_int_value2)\n",
    "print_memory_adress(my_int_value3)"
   ]
  },
  {
   "cell_type": "code",
   "execution_count": 16,
   "metadata": {},
   "outputs": [
    {
     "output_type": "stream",
     "name": "stdout",
     "text": [
      "0x162e41cb940\n0x162e41cb940\n0x162e439df80\n\n0x162e41864c0\n0x162e41cb940\n"
     ]
    }
   ],
   "source": [
    "# bei Zuweisung zeigt es auf die gleiche Adresse, nicht aber bei gleichen Werten (siehe no3)\n",
    "my_list1 = [1, 2, 3]\n",
    "my_list2 = my_list1\n",
    "my_list3 = [1, 2, 3]\n",
    "\n",
    "print_memory_adress(my_list1)\n",
    "print_memory_adress(my_list2)\n",
    "print_memory_adress(my_list3)\n",
    "\n",
    "print(\"\")\n",
    "# bekommt hier eine neue Zuweisung\n",
    "my_list1 = [-1, -2, 3]\n",
    "print_memory_adress(my_list1)\n",
    "print_memory_adress(my_list2)"
   ]
  },
  {
   "cell_type": "code",
   "execution_count": 18,
   "metadata": {},
   "outputs": [
    {
     "output_type": "stream",
     "name": "stdout",
     "text": [
      "0x7ff9847907d0\n0x7ff9847907d0\n\n0x7ff9847907d0\n0x7ff984790790\n\n0x7ff9847907d0\n0x7ff9847907d0\n\n0x7ff984790790\n0x7ff9847907b0\n\n0x7ff9847907d0\n0x7ff9847907b0\n\n"
     ]
    }
   ],
   "source": [
    "# Bei Python werden \"kleine\" Integerwerte von Anfang an angelegt und dann wird immer dorthin gezeigt!\n",
    "a =  10\n",
    "b = 10\n",
    "\n",
    "print_memory_adress(a)\n",
    "print_memory_adress(b)\n",
    "print()\n",
    "\n",
    "b = 8\n",
    "\n",
    "print_memory_adress(a)\n",
    "print_memory_adress(b)\n",
    "print()\n",
    "\n",
    "b = 10\n",
    "\n",
    "print_memory_adress(a)\n",
    "print_memory_adress(b)\n",
    "print()\n",
    "\n",
    "a = 8\n",
    "b = 9\n",
    "\n",
    "print_memory_adress(a)\n",
    "print_memory_adress(b)\n",
    "print()\n",
    "\n",
    "a = 10\n",
    "\n",
    "print_memory_adress(a)\n",
    "print_memory_adress(b)\n",
    "print()"
   ]
  },
  {
   "cell_type": "code",
   "execution_count": 21,
   "metadata": {},
   "outputs": [
    {
     "output_type": "stream",
     "name": "stdout",
     "text": [
      "c_ulong(2)\nc_ulong(80)\nc_ulong(2)\n"
     ]
    }
   ],
   "source": [
    "import ctypes\n",
    "\n",
    "a = 345\n",
    "b = 123\n",
    "\n",
    "my_list1 = [1, 2, 3]\n",
    "my_list2 = my_list1\n",
    "\n",
    "print(ctypes.c_ulong.from_address(id(a)))\n",
    "print(ctypes.c_ulong.from_address(id(b)))\n",
    "print(ctypes.c_ulong.from_address(id(my_list1)))"
   ]
  },
  {
   "cell_type": "code",
   "execution_count": null,
   "metadata": {},
   "outputs": [],
   "source": []
  }
 ]
}
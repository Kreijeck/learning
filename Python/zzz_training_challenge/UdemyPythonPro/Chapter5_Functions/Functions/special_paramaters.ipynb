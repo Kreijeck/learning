{
 "cells": [
  {
   "cell_type": "markdown",
   "source": [
    "https://docs.python.org/dev/tutorial/controlflow.html#special-parameters"
   ],
   "metadata": {}
  },
  {
   "cell_type": "code",
   "execution_count": 1,
   "source": [
    "# If / and * are not present in the function definition, arguments may be passed to a function by position or by keyword\r\n",
    "def standard_arg(a):\r\n",
    "    print(a)\r\n",
    "\r\n",
    "standard_arg(2)\r\n",
    "standard_arg(a=2)"
   ],
   "outputs": [
    {
     "output_type": "stream",
     "name": "stdout",
     "text": [
      "2\n",
      "2\n"
     ]
    }
   ],
   "metadata": {}
  },
  {
   "cell_type": "code",
   "execution_count": 2,
   "source": [
    "# If positional-only, the parameters’ order matters, and the parameters cannot be passed by keyword. Positional-only parameters are placed before a / (forward-slash). \r\n",
    "# Use positional-only if you want the name of the parameters to not be available to the user\r\n",
    "\r\n",
    "# Wird verwendet: Wenn User nicht wissen soll, wie der Parameter heißt!\r\n",
    "def pos_only_arg(a, /):\r\n",
    "    print(a)\r\n",
    "\r\n",
    "my_val = 5\r\n",
    "pos_only_arg(1)\r\n",
    "pos_only_arg(my_val)\r\n",
    "#pos_only_arg(a=1)"
   ],
   "outputs": [
    {
     "output_type": "stream",
     "name": "stdout",
     "text": [
      "1\n",
      "5\n"
     ]
    }
   ],
   "metadata": {}
  },
  {
   "cell_type": "code",
   "execution_count": 3,
   "source": [
    "# To mark parameters as keyword-only, indicating the parameters must be passed by keyword argument, place an * in the arguments list just before the first keyword-only parameter.\r\n",
    "# Use keyword-only when names have meaning and the function definition is more understandable by  being explicit with names\r\n",
    "\r\n",
    "# alles nach dem * braucht ein Keyword!\r\n",
    "\r\n",
    "def kwd_only_arg(*, a):\r\n",
    "    print(a)\r\n",
    "\r\n",
    "kwd_only_arg(a=3)\r\n",
    "#kwd_only_arg(3)"
   ],
   "outputs": [
    {
     "output_type": "stream",
     "name": "stdout",
     "text": [
      "3\n"
     ]
    }
   ],
   "metadata": {}
  },
  {
   "cell_type": "code",
   "execution_count": 5,
   "source": [
    "# Combined: before /: no para_name, after * with para_name\r\n",
    "\r\n",
    "def combined_example(a, /, b, *, c):\r\n",
    "    print(a, b, c)\r\n",
    "\r\n",
    "# example 2+3 works!\r\n",
    "\r\n",
    "#combined_example(1, 2, 3)\r\n",
    "combined_example(1, 2, c=3)\r\n",
    "combined_example(1, b=2, c=3)\r\n",
    "#combined_example(a=1, b=2, c=3)"
   ],
   "outputs": [
    {
     "output_type": "stream",
     "name": "stdout",
     "text": [
      "1 2 3\n",
      "1 2 3\n"
     ]
    }
   ],
   "metadata": {}
  },
  {
   "cell_type": "code",
   "execution_count": null,
   "source": [
    "# *args: nur namen \r\n",
    "# **kwargs namen mit parameter\r\n",
    "\r\n",
    "def other_example(a, b, *args, **kwargs):\r\n",
    "    print(a, b, args, kwargs)\r\n",
    "\r\n",
    "other_example(1, 2, 3)\r\n",
    "other_example(1, 2, c=3)\r\n",
    "other_example(1, b=2, c=3)\r\n",
    "other_example(a=1, b=2, c=3)\r\n",
    "#other_example(a=1, c=3, 2)"
   ],
   "outputs": [
    {
     "output_type": "stream",
     "name": "stdout",
     "text": [
      "1 2 (3,) {}\n",
      "1 2 () {'c': 3}\n",
      "1 2 () {'c': 3}\n",
      "1 2 () {'c': 3}\n"
     ]
    }
   ],
   "metadata": {}
  }
 ],
 "metadata": {
  "language_info": {
   "name": "python",
   "version": "3.8.8",
   "mimetype": "text/x-python",
   "codemirror_mode": {
    "name": "ipython",
    "version": 3
   },
   "pygments_lexer": "ipython3",
   "nbconvert_exporter": "python",
   "file_extension": ".py"
  },
  "orig_nbformat": 2,
  "file_extension": ".py",
  "mimetype": "text/x-python",
  "name": "python",
  "npconvert_exporter": "python",
  "pygments_lexer": "ipython3",
  "version": 3,
  "kernelspec": {
   "name": "python3",
   "display_name": "Python 3.8.8 64-bit ('udemyPro_py388': venv)"
  },
  "interpreter": {
   "hash": "2572c91b9451a37ce05c02e232821168bcd972c7ee4228e498b465f1f505fc76"
  }
 },
 "nbformat": 4,
 "nbformat_minor": 2
}
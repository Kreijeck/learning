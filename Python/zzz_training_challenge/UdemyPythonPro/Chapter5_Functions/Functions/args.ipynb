{
 "cells": [
  {
   "cell_type": "code",
   "execution_count": 1,
   "source": [
    "def my_function(a, b, c=10, d=12, e=13):\r\n",
    "    print('a: {}, b: {}, c: {}, d: {}, e:{}'.format(a, b, c, d, e))"
   ],
   "outputs": [],
   "metadata": {}
  },
  {
   "cell_type": "code",
   "execution_count": 2,
   "source": [
    "my_function(1,2)"
   ],
   "outputs": [
    {
     "output_type": "stream",
     "name": "stdout",
     "text": [
      "a: 1, b: 2, c: 10, d: 12, e:13\n"
     ]
    }
   ],
   "metadata": {}
  },
  {
   "cell_type": "code",
   "execution_count": 4,
   "source": [
    "# args: variable number of pos. arguments\r\n",
    "\r\n",
    "def my_function2(a, b, *args):\r\n",
    "    # * --unpack-- args\r\n",
    "    print(\"unpack:\", *args, type(args))\r\n",
    "    print(\"not unpacked:\", args, type(args))\r\n",
    "    print('a: {}, b: {}, args: {}'.format(a, b, args))\r\n",
    "\r\n",
    "my_function2(1, 2, 3, 4)"
   ],
   "outputs": [
    {
     "output_type": "stream",
     "name": "stdout",
     "text": [
      "unpack: 3 4 <class 'tuple'>\n",
      "not unpacked: (3, 4) <class 'tuple'>\n",
      "a: 1, b: 2, args: (3, 4)\n"
     ]
    }
   ],
   "metadata": {}
  },
  {
   "cell_type": "code",
   "execution_count": 6,
   "source": [
    "# Normal; ARGS; *ARGS; DEFAULT ARGS\r\n",
    "\r\n",
    "def my_function3(a, *args, b=None):\r\n",
    "    # * --unpack-- args\r\n",
    "    print('a: {}, b: {}, args: {}'.format(a, b, args))\r\n",
    "\r\n",
    "\r\n",
    "my_function3(1, 3, 4, 5, 6, False, b=2)"
   ],
   "outputs": [
    {
     "output_type": "stream",
     "name": "stdout",
     "text": [
      "a: 1, b: 2, args: (3, 4, 5, 6, False)\n"
     ]
    }
   ],
   "metadata": {}
  },
  {
   "cell_type": "code",
   "execution_count": null,
   "source": [],
   "outputs": [],
   "metadata": {}
  }
 ],
 "metadata": {
  "orig_nbformat": 4,
  "language_info": {
   "name": "python",
   "version": "3.8.10",
   "mimetype": "text/x-python",
   "codemirror_mode": {
    "name": "ipython",
    "version": 3
   },
   "pygments_lexer": "ipython3",
   "nbconvert_exporter": "python",
   "file_extension": ".py"
  },
  "kernelspec": {
   "name": "python3",
   "display_name": "Python 3.8.10 64-bit ('pyUdemy': conda)"
  },
  "interpreter": {
   "hash": "850589dbcddb156e77d4f3d14ca8c1630bd6be0fc25b764c490973a1c3128cd8"
  }
 },
 "nbformat": 4,
 "nbformat_minor": 2
}
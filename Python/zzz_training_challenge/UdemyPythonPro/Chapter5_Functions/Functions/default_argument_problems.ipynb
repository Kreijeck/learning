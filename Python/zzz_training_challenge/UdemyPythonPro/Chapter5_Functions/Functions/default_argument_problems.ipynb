{
 "nbformat": 4,
 "nbformat_minor": 2,
 "metadata": {
  "language_info": {
   "name": "python",
   "version": "3.8.10",
   "mimetype": "text/x-python",
   "codemirror_mode": {
    "name": "ipython",
    "version": 3
   },
   "pygments_lexer": "ipython3",
   "nbconvert_exporter": "python",
   "file_extension": ".py"
  },
  "orig_nbformat": 2,
  "file_extension": ".py",
  "mimetype": "text/x-python",
  "name": "python",
  "npconvert_exporter": "python",
  "pygments_lexer": "ipython3",
  "version": 3,
  "kernelspec": {
   "name": "python3",
   "display_name": "Python 3.8.10 64-bit ('pyUdemy': conda)"
  },
  "interpreter": {
   "hash": "850589dbcddb156e77d4f3d14ca8c1630bd6be0fc25b764c490973a1c3128cd8"
  }
 },
 "cells": [
  {
   "cell_type": "markdown",
   "source": [
    "#### BAD"
   ],
   "metadata": {}
  },
  {
   "cell_type": "code",
   "execution_count": 12,
   "source": [
    "def grow_list(val, my_list=[]):\r\n",
    "    my_list.append(val)\r\n",
    "    return my_list"
   ],
   "outputs": [],
   "metadata": {}
  },
  {
   "cell_type": "code",
   "execution_count": 13,
   "source": [
    "my_list = []\r\n",
    "my_list = grow_list(42, my_list)\r\n",
    "my_list = grow_list(42, my_list)\r\n",
    "my_list = grow_list(42, my_list)\r\n",
    "print(my_list)"
   ],
   "outputs": [
    {
     "output_type": "stream",
     "name": "stdout",
     "text": [
      "[42, 42, 42]\n"
     ]
    }
   ],
   "metadata": {}
  },
  {
   "cell_type": "code",
   "execution_count": 14,
   "source": [
    "my_list2 = grow_list(42)\r\n",
    "print(my_list2)\r\n",
    "\r\n",
    "\r\n",
    "# neue Liste wird mit Default aufgerufen und trotzdem wurde die andere dabei\r\n",
    "my_list3 = grow_list(43)\r\n",
    "\r\n",
    "print(my_list3)"
   ],
   "outputs": [
    {
     "output_type": "stream",
     "name": "stdout",
     "text": [
      "[42]\n",
      "[42, 43]\n"
     ]
    }
   ],
   "metadata": {}
  },
  {
   "cell_type": "markdown",
   "source": [
    "## **Achtung**  \r\n",
    "In diesem Fall wurde my_list = [] im Speicher abgelegt und damit immer dieser Speicher verwendet.  \r\n",
    "  \r\n",
    "Dieser Fall tritt öfters bei mutables auf!"
   ],
   "metadata": {}
  },
  {
   "cell_type": "markdown",
   "source": [
    "### GOOD\r\n",
    "\r\n",
    "beim Erstellen einer Funktion wird immer der Funktionskopf beim Start ausgeführt  \r\n",
    "wenn in der Funktion die Liste erstellt wird, wird dies nicht beim Starten ausgeführt, sondern für jeden Fall einzeln  "
   ],
   "metadata": {}
  },
  {
   "cell_type": "code",
   "execution_count": 2,
   "source": [
    "# Default Value am besten None. Auf keinen Fall mutable type\r\n",
    "def grow_list(val, my_list=None):\r\n",
    "    if my_list:\r\n",
    "        my_list.append(val)\r\n",
    "    else:\r\n",
    "        my_list = [val]\r\n",
    "    return my_list"
   ],
   "outputs": [],
   "metadata": {}
  },
  {
   "cell_type": "code",
   "execution_count": 3,
   "source": [
    "my_list2 = grow_list(42)\r\n",
    "print(my_list2)\r\n",
    "\r\n",
    "my_list3 = grow_list(43)\r\n",
    "print(my_list3)"
   ],
   "outputs": [
    {
     "output_type": "stream",
     "name": "stdout",
     "text": [
      "[42]\n",
      "[43]\n"
     ]
    }
   ],
   "metadata": {}
  }
 ]
}
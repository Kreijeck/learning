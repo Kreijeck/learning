{
 "cells": [
  {
   "cell_type": "code",
   "execution_count": 4,
   "source": [
    "# Order: Arguments, *args, default-arguments, **kwargs\r\n",
    "# * ARGS: TUPLE\r\n",
    "# **KWARGS: DICT\r\n",
    "def my_function(a, *args, x=2, **kwargs):\r\n",
    "    print(args, type(args))\r\n",
    "    print(kwargs, type(kwargs))\r\n",
    "\r\n",
    "my_function(1,2,3,4, b=False, c=30, d=40.5)\r\n"
   ],
   "outputs": [
    {
     "output_type": "stream",
     "name": "stdout",
     "text": [
      "(2, 3, 4) <class 'tuple'>\n",
      "{'b': False, 'c': 30, 'd': 40.5} <class 'dict'>\n"
     ]
    }
   ],
   "metadata": {}
  },
  {
   "cell_type": "code",
   "execution_count": 6,
   "source": [
    "import matplotlib.pyplot as plt\r\n",
    "\r\n",
    "def plot_my_list(list_x, list_y, **kwargs):\r\n",
    "    plt.scatter(list_x, list_y, **kwargs)\r\n",
    "    plt.show()\r\n",
    "\r\n",
    "list_x = [-3, -2, -1, 1, 1, 3]\r\n",
    "list_y = [9,4, 1, 1, 4, 9]\r\n",
    "\r\n",
    "plot_my_list(list_x, list_y, c='red')"
   ],
   "outputs": [
    {
     "output_type": "display_data",
     "data": {
      "text/plain": [
       "<Figure size 432x288 with 1 Axes>"
      ],
      "image/png": "[encoded data removed]"
     },
     "metadata": {
      "needs_background": "light"
     }
    }
   ],
   "metadata": {}
  },
  {
   "cell_type": "code",
   "execution_count": null,
   "source": [],
   "outputs": [],
   "metadata": {}
  }
 ],
 "metadata": {
  "orig_nbformat": 4,
  "language_info": {
   "name": "python",
   "version": "3.8.8",
   "mimetype": "text/x-python",
   "codemirror_mode": {
    "name": "ipython",
    "version": 3
   },
   "pygments_lexer": "ipython3",
   "nbconvert_exporter": "python",
   "file_extension": ".py"
  },
  "kernelspec": {
   "name": "python3",
   "display_name": "Python 3.8.8 64-bit ('udemyPro_py388': venv)"
  },
  "interpreter": {
   "hash": "2572c91b9451a37ce05c02e232821168bcd972c7ee4228e498b465f1f505fc76"
  }
 },
 "nbformat": 4,
 "nbformat_minor": 2
}
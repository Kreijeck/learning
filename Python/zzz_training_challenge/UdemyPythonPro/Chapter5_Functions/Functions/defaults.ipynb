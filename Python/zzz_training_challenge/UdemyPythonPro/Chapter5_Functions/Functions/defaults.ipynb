{
 "nbformat": 4,
 "nbformat_minor": 2,
 "metadata": {
  "language_info": {
   "name": "python",
   "version": "3.8.10",
   "mimetype": "text/x-python",
   "codemirror_mode": {
    "name": "ipython",
    "version": 3
   },
   "pygments_lexer": "ipython3",
   "nbconvert_exporter": "python",
   "file_extension": ".py"
  },
  "orig_nbformat": 2,
  "file_extension": ".py",
  "mimetype": "text/x-python",
  "name": "python",
  "npconvert_exporter": "python",
  "pygments_lexer": "ipython3",
  "version": 3,
  "kernelspec": {
   "name": "python3",
   "display_name": "Python 3.8.10 64-bit ('pyUdemy': conda)"
  },
  "interpreter": {
   "hash": "850589dbcddb156e77d4f3d14ca8c1630bd6be0fc25b764c490973a1c3128cd8"
  }
 },
 "cells": [
  {
   "cell_type": "code",
   "execution_count": 1,
   "source": [
    "# Name definition: a, b: parameters\r\n",
    "def my_function(a, b):\r\n",
    "    print(a, b)"
   ],
   "outputs": [],
   "metadata": {}
  },
  {
   "cell_type": "code",
   "execution_count": 2,
   "source": [
    "# Name definition: x, y: arguments\r\n",
    "x = 2\r\n",
    "y = 3\r\n",
    "my_function(x, y)"
   ],
   "outputs": [
    {
     "output_type": "stream",
     "name": "stdout",
     "text": [
      "2 3\n"
     ]
    }
   ],
   "metadata": {}
  },
  {
   "cell_type": "code",
   "execution_count": 3,
   "source": [
    "def my_function2(a, b=None):\r\n",
    "    print(a)\r\n",
    "    print(b)"
   ],
   "outputs": [],
   "metadata": {}
  },
  {
   "cell_type": "code",
   "execution_count": 4,
   "source": [
    "x = 2\r\n",
    "y = 3\r\n",
    "my_function2(x, y)\r\n",
    "print()\r\n",
    "my_function2(x)"
   ],
   "outputs": [
    {
     "output_type": "stream",
     "name": "stdout",
     "text": [
      "2\n",
      "3\n",
      "\n",
      "2\n",
      "None\n"
     ]
    }
   ],
   "metadata": {}
  },
  {
   "cell_type": "code",
   "execution_count": 5,
   "source": [
    "# Reihenfolge: Params, Default Params\r\n",
    "def my_function3(p1, p2, d1=10, d2=None):\r\n",
    "    print('p1: {0}, p2: {1}, d1: {2}, d2: {3}'.format(p1, p2, d1, d2))"
   ],
   "outputs": [],
   "metadata": {}
  },
  {
   "cell_type": "code",
   "execution_count": 11,
   "source": [
    "my_function3(10, 20, d1=40, d2=42)\r\n",
    "print()\r\n",
    "# Immer Reihenfolge wird befolgt\r\n",
    "my_function3(10, 20, 40)\r\n",
    "#daher:\r\n",
    "my_function3(10, 20, d2=40)\r\n",
    "# auch normale Parameter kann Reihenfolge vertauscht werden. Führt aber zur Verwirrung\r\n",
    "my_function3(p2=10, p1=20, d2=40)\r\n"
   ],
   "outputs": [
    {
     "output_type": "stream",
     "name": "stdout",
     "text": [
      "p1: 10, p2: 20, d1: 40, d2: 42\n",
      "\n",
      "p1: 10, p2: 20, d1: 40, d2: None\n",
      "p1: 10, p2: 20, d1: 10, d2: 40\n",
      "p1: 20, p2: 10, d1: 10, d2: 40\n"
     ]
    }
   ],
   "metadata": {}
  },
  {
   "cell_type": "markdown",
   "source": [
    "Laut Author, sollten bei den default-Parameter immmer der Parameter Name mit angeben.\r\n",
    "Bei Parametern keine Bezeichnung"
   ],
   "metadata": {}
  },
  {
   "cell_type": "code",
   "execution_count": 7,
   "source": [
    "# wenn return nicht definiert, wird immer None returned!\r\n",
    "return_value = my_function3(10, 20)\r\n",
    "print(return_value)"
   ],
   "outputs": [
    {
     "output_type": "stream",
     "name": "stdout",
     "text": [
      "p1: 10, p2: 20, d1: 10, d2: None\n",
      "None\n"
     ]
    }
   ],
   "metadata": {}
  },
  {
   "cell_type": "code",
   "execution_count": 8,
   "source": [
    "def append_list(my_list, value):\r\n",
    "    my_list.append(value)\r\n",
    "\r\n",
    "l = [1, 2]\r\n",
    "l = append_list(l, 3)\r\n",
    "print(l)"
   ],
   "outputs": [
    {
     "output_type": "stream",
     "name": "stdout",
     "text": [
      "None\n"
     ]
    }
   ],
   "metadata": {}
  }
 ]
}
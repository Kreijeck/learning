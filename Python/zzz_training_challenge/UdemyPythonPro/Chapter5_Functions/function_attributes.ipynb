{
 "nbformat": 4,
 "nbformat_minor": 2,
 "metadata": {
  "language_info": {
   "name": "python",
   "version": "3.8.10",
   "mimetype": "text/x-python",
   "codemirror_mode": {
    "name": "ipython",
    "version": 3
   },
   "pygments_lexer": "ipython3",
   "nbconvert_exporter": "python",
   "file_extension": ".py"
  },
  "orig_nbformat": 2,
  "file_extension": ".py",
  "mimetype": "text/x-python",
  "name": "python",
  "npconvert_exporter": "python",
  "pygments_lexer": "ipython3",
  "version": 3,
  "kernelspec": {
   "name": "python3",
   "display_name": "Python 3.8.10 64-bit ('pyUdemy': conda)"
  },
  "interpreter": {
   "hash": "850589dbcddb156e77d4f3d14ca8c1630bd6be0fc25b764c490973a1c3128cd8"
  }
 },
 "cells": [
  {
   "cell_type": "code",
   "execution_count": 1,
   "source": [
    "def grow_list(val, my_list=None):\r\n",
    "    if my_list:\r\n",
    "        my_list.append(val)\r\n",
    "    else:\r\n",
    "        my_list = [val]\r\n",
    "    return my_list"
   ],
   "outputs": [],
   "metadata": {}
  },
  {
   "cell_type": "code",
   "execution_count": 3,
   "source": [
    "my_func = grow_list\r\n",
    "\r\n",
    "# Jede Funktion erbt von der Klasse \"Function\". Es wird nur die Funktion gespeichert, nicht der Aufruf\r\n",
    "print(my_func, type(my_func))"
   ],
   "outputs": [
    {
     "output_type": "stream",
     "name": "stdout",
     "text": [
      "<function grow_list at 0x000001E40EC48160> <class 'function'>\n"
     ]
    }
   ],
   "metadata": {}
  },
  {
   "cell_type": "code",
   "execution_count": 4,
   "source": [
    "def print_function_output(fn, **kwargs):\r\n",
    "    print(fn(**kwargs))"
   ],
   "outputs": [],
   "metadata": {}
  },
  {
   "cell_type": "code",
   "execution_count": 5,
   "source": [
    "print_function_output(my_func, val=10)"
   ],
   "outputs": [
    {
     "output_type": "stream",
     "name": "stdout",
     "text": [
      "[10]\n"
     ]
    }
   ],
   "metadata": {}
  },
  {
   "cell_type": "code",
   "execution_count": 6,
   "source": [
    "my_func(10, [1, 2])"
   ],
   "outputs": [
    {
     "output_type": "execute_result",
     "data": {
      "text/plain": [
       "[1, 2, 10]"
      ]
     },
     "metadata": {},
     "execution_count": 6
    }
   ],
   "metadata": {}
  },
  {
   "cell_type": "code",
   "execution_count": 7,
   "source": [
    "print(dir(grow_list))"
   ],
   "outputs": [
    {
     "output_type": "stream",
     "name": "stdout",
     "text": [
      "['__annotations__', '__call__', '__class__', '__closure__', '__code__', '__defaults__', '__delattr__', '__dict__', '__dir__', '__doc__', '__eq__', '__format__', '__ge__', '__get__', '__getattribute__', '__globals__', '__gt__', '__hash__', '__init__', '__init_subclass__', '__kwdefaults__', '__le__', '__lt__', '__module__', '__name__', '__ne__', '__new__', '__qualname__', '__reduce__', '__reduce_ex__', '__repr__', '__setattr__', '__sizeof__', '__str__', '__subclasshook__']\n"
     ]
    }
   ],
   "metadata": {}
  },
  {
   "cell_type": "code",
   "execution_count": 1,
   "source": [
    "def grow_list(val, my_list=None, a=2, b=False):\r\n",
    "    if my_list:\r\n",
    "        my_list.append(val)\r\n",
    "    else:\r\n",
    "        my_list = [val]\r\n",
    "    return my_list\r\n",
    "\r\n",
    "print(grow_list.__defaults__)\r\n",
    "print(grow_list.__name__)\r\n",
    "# Anzahl: .co.argcount\r\n",
    "print(grow_list.__code__.co_argcount)\r\n",
    "# Variablenname: .co.varnames\r\n",
    "print(grow_list.__code__.co_varnames)"
   ],
   "outputs": [
    {
     "output_type": "stream",
     "name": "stdout",
     "text": [
      "(None, 2, False)\n",
      "grow_list\n",
      "4\n",
      "('val', 'my_list', 'a', 'b')\n"
     ]
    }
   ],
   "metadata": {}
  },
  {
   "cell_type": "code",
   "execution_count": null,
   "source": [],
   "outputs": [],
   "metadata": {}
  }
 ]
}
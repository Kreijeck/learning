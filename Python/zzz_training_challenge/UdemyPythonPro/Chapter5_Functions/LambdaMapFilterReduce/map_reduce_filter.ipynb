{
 "cells": [
  {
   "cell_type": "code",
   "execution_count": null,
   "source": [
    "# Python Map function:\r\n",
    "# Mapping from N values to N values\r\n",
    "# 1.) a function(callable)\r\n",
    "# 2.) variable number of iterables"
   ],
   "outputs": [],
   "metadata": {}
  },
  {
   "cell_type": "code",
   "execution_count": 1,
   "source": [
    "my_list = [1, 2, 3]\r\n",
    "\r\n",
    "def square_value(val):\r\n",
    "    return val**2"
   ],
   "outputs": [],
   "metadata": {}
  },
  {
   "cell_type": "code",
   "execution_count": 4,
   "source": [
    "# map sollte in liste gecasted werden\r\n",
    "# map geht jetzt die Liste durch und wendet auf jeden Wert die Funktion an\r\n",
    "my_list_squared = list(map(square_value, my_list))\r\n",
    "\r\n",
    "print(my_list_squared)"
   ],
   "outputs": [
    {
     "output_type": "stream",
     "name": "stdout",
     "text": [
      "[1, 4, 9]\n"
     ]
    }
   ],
   "metadata": {}
  },
  {
   "cell_type": "code",
   "execution_count": 7,
   "source": [
    "my_vector1 = [1, 2, 3, 4 ,5]\r\n",
    "my_vector2 = [-1, 4, 0, 5]\r\n",
    "\r\n",
    "# geht immer nur die kleinere Liste durch\r\n",
    "my_result = list(map(lambda x,y: x*y, my_vector1, my_vector2))\r\n",
    "\r\n",
    "print(my_result)"
   ],
   "outputs": [
    {
     "output_type": "stream",
     "name": "stdout",
     "text": [
      "[-1, 8, 0, 20]\n"
     ]
    }
   ],
   "metadata": {}
  },
  {
   "cell_type": "code",
   "execution_count": 9,
   "source": [
    "# Python reduce function:\r\n",
    "# Mapping from N values to 1 value\r\n",
    "# 1.) a function(callable)\r\n",
    "# 2.) 1 iterable object"
   ],
   "outputs": [],
   "metadata": {}
  },
  {
   "cell_type": "code",
   "execution_count": 13,
   "source": [
    "# needs import\r\n",
    "import functools\r\n",
    "\r\n",
    "my_list2 = [10, -2, 5, -10, 7 , 23, -1]\r\n",
    "\r\n",
    "# geht die Liste durch und setzt jeweils den vorherigen Wert und den aktuellen ein\r\n",
    "# verstehe ich zumindest so\r\n",
    "list_max =functools.reduce(lambda x, y: x if x > y else y, my_list2)\r\n",
    "list_min =functools.reduce(lambda x, y: x if x < y else y, my_list2)\r\n",
    "\r\n",
    "print(list_max)\r\n",
    "print(list_min)"
   ],
   "outputs": [
    {
     "output_type": "stream",
     "name": "stdout",
     "text": [
      "23\n",
      "-10\n"
     ]
    }
   ],
   "metadata": {}
  },
  {
   "cell_type": "code",
   "execution_count": 15,
   "source": [
    "# Python filter function:\r\n",
    "# Funktion die True oder False zurückgibt. Bei True wird der Wert behalten, \r\n",
    "# bei False ausortiert\r\n",
    "\r\n",
    "my_list3 = [10, -2, 5, 10, 7, 23, -1]\r\n",
    "my_list_filtered = list(filter(lambda x: True if x >= 0 else False, my_list3))\r\n",
    "\r\n",
    "print(my_list_filtered)"
   ],
   "outputs": [
    {
     "output_type": "stream",
     "name": "stdout",
     "text": [
      "[10, 5, 10, 7, 23]\n"
     ]
    }
   ],
   "metadata": {}
  },
  {
   "cell_type": "code",
   "execution_count": null,
   "source": [],
   "outputs": [],
   "metadata": {}
  }
 ],
 "metadata": {
  "orig_nbformat": 4,
  "language_info": {
   "name": "python",
   "version": "3.8.8",
   "mimetype": "text/x-python",
   "codemirror_mode": {
    "name": "ipython",
    "version": 3
   },
   "pygments_lexer": "ipython3",
   "nbconvert_exporter": "python",
   "file_extension": ".py"
  },
  "kernelspec": {
   "name": "python3",
   "display_name": "Python 3.8.8 64-bit ('udemyPro_py388': venv)"
  },
  "interpreter": {
   "hash": "2572c91b9451a37ce05c02e232821168bcd972c7ee4228e498b465f1f505fc76"
  }
 },
 "nbformat": 4,
 "nbformat_minor": 2
}
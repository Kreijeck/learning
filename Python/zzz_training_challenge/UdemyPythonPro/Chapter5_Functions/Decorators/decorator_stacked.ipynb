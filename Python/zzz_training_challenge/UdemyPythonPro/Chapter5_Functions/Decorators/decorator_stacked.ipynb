{
 "cells": [
  {
   "cell_type": "code",
   "execution_count": 2,
   "source": [
    "from functools import wraps\r\n",
    "import time\r\n",
    "\r\n",
    "def debug(fn):\r\n",
    "    print(\"Entering debug\")\r\n",
    "    @wraps(fn)\r\n",
    "    def debugger(*args, **kwargs):\r\n",
    "        print(\"Entering debugger\")\r\n",
    "        args_values_types = [(a, type(a)) for a in args]\r\n",
    "        kwargs_values_types = [(k, v, type(v)) for k, v in kwargs.items()]\r\n",
    "        print(\"Args: {}\".format(args_values_types))\r\n",
    "        print(\"Kwargs: {}\".format(kwargs_values_types))\r\n",
    "        print(\"Function {} called\".format(fn.__name__))\r\n",
    "        fn_result = fn(*args, **kwargs)\r\n",
    "        print(\"Function {} returns: {}\".format(fn.__name__, fn_result))\r\n",
    "        return fn_result\r\n",
    "    return debugger\r\n",
    "\r\n",
    "def timing(fn):\r\n",
    "    print(\"Entering timing\")\r\n",
    "    @wraps(fn)\r\n",
    "    def timer(*args, **kwargs):\r\n",
    "        print(\"Entering timer\")\r\n",
    "        start_time = time.perf_counter_ns()\r\n",
    "        fn_result = fn(*args, **kwargs)\r\n",
    "        end_time = time.perf_counter_ns()\r\n",
    "        time_duration = end_time - start_time\r\n",
    "        print(\"Function {} took: {} ns\".format(fn.__name__, time_duration))\r\n",
    "        return fn_result\r\n",
    "    return timer"
   ],
   "outputs": [],
   "metadata": {}
  },
  {
   "cell_type": "code",
   "execution_count": 7,
   "source": [
    "# mehrere Decorator über Stacken davon\r\n",
    "\r\n",
    "# in der Funktion:\r\n",
    "# Timing(debug(my_function))\r\n",
    "# fn bei Timing: debug(my_function)\r\n",
    "# fn bei Debug: my_function\r\n",
    "\r\n",
    "# Ausgabe daher genau anders herum: von innen nach außen!\r\n",
    "\r\n",
    "@timing\r\n",
    "@debug\r\n",
    "def my_function(name):\r\n",
    "    print(\"Hello {}\".format(name))\r\n",
    "\r\n",
    "my_function(\"Jan\")"
   ],
   "outputs": [
    {
     "output_type": "stream",
     "name": "stdout",
     "text": [
      "Entering debug\n",
      "Entering timing\n",
      "Entering timer\n",
      "Entering debugger\n",
      "Args: [('Jan', <class 'str'>)]\n",
      "Kwargs: []\n",
      "Function my_function called\n",
      "Hello Jan\n",
      "Function my_function returns: None\n",
      "Function my_function took: 342400 ns\n"
     ]
    }
   ],
   "metadata": {}
  },
  {
   "cell_type": "code",
   "execution_count": null,
   "source": [],
   "outputs": [],
   "metadata": {}
  }
 ],
 "metadata": {
  "orig_nbformat": 4,
  "language_info": {
   "name": "python",
   "version": "3.8.8",
   "mimetype": "text/x-python",
   "codemirror_mode": {
    "name": "ipython",
    "version": 3
   },
   "pygments_lexer": "ipython3",
   "nbconvert_exporter": "python",
   "file_extension": ".py"
  },
  "kernelspec": {
   "name": "python3",
   "display_name": "Python 3.8.8 64-bit ('udemyPro_py388': venv)"
  },
  "interpreter": {
   "hash": "2572c91b9451a37ce05c02e232821168bcd972c7ee4228e498b465f1f505fc76"
  }
 },
 "nbformat": 4,
 "nbformat_minor": 2
}
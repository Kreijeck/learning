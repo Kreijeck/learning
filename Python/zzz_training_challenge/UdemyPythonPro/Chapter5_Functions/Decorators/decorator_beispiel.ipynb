{
 "cells": [
  {
   "cell_type": "markdown",
   "source": [
    "### DEBUGGER"
   ],
   "metadata": {}
  },
  {
   "cell_type": "code",
   "execution_count": 25,
   "source": [
    "from functools import wraps\r\n",
    "\r\n",
    "def debug(fn):\r\n",
    "    #not to loose meta-info! (.e.g. __str__ )\r\n",
    "    @wraps(fn)\r\n",
    "    def debugger(*args, **kwargs):\r\n",
    "        args_values_types = [(a, type(a)) for a in args]\r\n",
    "        kwargs_values_types = [(k, v, type(v)) for k, v in kwargs.items()]\r\n",
    "        print(\"Args: {}\".format(args_values_types))\r\n",
    "        print(\"Kwargs: {}\".format(kwargs_values_types))\r\n",
    "        print(\"Function {} called\".format(fn.__name__))\r\n",
    "        fn_result = fn(*args, **kwargs)\r\n",
    "        print(\"Function {} returns: {}\".format(fn.__name__, fn_result))\r\n",
    "        return fn_result\r\n",
    "    return debugger"
   ],
   "outputs": [],
   "metadata": {}
  },
  {
   "cell_type": "code",
   "execution_count": 26,
   "source": [
    "@debug\r\n",
    "def print_arguments(a, b, c=None):\r\n",
    "    print(\"a: {}, b: {}, c: {}\".format(a, b, c))\r\n",
    "\r\n",
    "print_arguments(10, 20, c=False)"
   ],
   "outputs": [
    {
     "output_type": "stream",
     "name": "stdout",
     "text": [
      "Args: [(10, <class 'int'>), (20, <class 'int'>)]\n",
      "Kwargs: [('c', False, <class 'bool'>)]\n",
      "Function print_arguments called\n",
      "a: 10, b: 20, c: False\n",
      "Function print_arguments returns: None\n"
     ]
    }
   ],
   "metadata": {}
  },
  {
   "cell_type": "code",
   "execution_count": 27,
   "source": [
    "@debug\r\n",
    "def addition(a, b, c=None):\r\n",
    "    return a+b if c else 0\r\n",
    "\r\n",
    "@debug\r\n",
    "def sub(a, b, c=None):\r\n",
    "    return a-b if c else 0\r\n",
    "\r\n",
    "@debug\r\n",
    "def mul(a, b, c=None):\r\n",
    "    return a*b if c else 0\r\n",
    "\r\n",
    "@debug\r\n",
    "def div(a, b, c=None):\r\n",
    "    return a/b if c else 0\r\n",
    "\r\n",
    "addition(10, 20, c=False)\r\n",
    "sub(10, 20, c=False)\r\n",
    "mul(10, 20, c=False)\r\n",
    "div(10, 20, c=False)"
   ],
   "outputs": [
    {
     "output_type": "stream",
     "name": "stdout",
     "text": [
      "Args: [(10, <class 'int'>), (20, <class 'int'>)]\n",
      "Kwargs: [('c', False, <class 'bool'>)]\n",
      "Function addition called\n",
      "Function addition returns: 0\n",
      "Args: [(10, <class 'int'>), (20, <class 'int'>)]\n",
      "Kwargs: [('c', False, <class 'bool'>)]\n",
      "Function sub called\n",
      "Function sub returns: 0\n",
      "Args: [(10, <class 'int'>), (20, <class 'int'>)]\n",
      "Kwargs: [('c', False, <class 'bool'>)]\n",
      "Function mul called\n",
      "Function mul returns: 0\n",
      "Args: [(10, <class 'int'>), (20, <class 'int'>)]\n",
      "Kwargs: [('c', False, <class 'bool'>)]\n",
      "Function div called\n",
      "Function div returns: 0\n"
     ]
    },
    {
     "output_type": "execute_result",
     "data": {
      "text/plain": [
       "0"
      ]
     },
     "metadata": {},
     "execution_count": 27
    }
   ],
   "metadata": {}
  },
  {
   "cell_type": "code",
   "execution_count": 28,
   "source": [
    "# bei decorator werden metadaten verloren ! \r\n",
    "# Dies kann verhindert werden wenn von functools wraps importiert wird. siehe func oben!\r\n",
    "print(addition.__name__)\r\n",
    "print(addition.__doc__)"
   ],
   "outputs": [
    {
     "output_type": "stream",
     "name": "stdout",
     "text": [
      "addition\n",
      "None\n"
     ]
    }
   ],
   "metadata": {}
  },
  {
   "cell_type": "markdown",
   "source": [
    "### TIMER"
   ],
   "metadata": {}
  },
  {
   "cell_type": "code",
   "execution_count": 30,
   "source": [
    "from functools import wraps\r\n",
    "import time\r\n",
    "\r\n",
    "# perf_counter() ist genaueres Zeit Element, gibt es auch als perf_counter_ns\r\n",
    "# Wall time wird hier ausgegeben (wie lang das Programm dauert)\r\n",
    "#Gegenstück: CPU time:\r\n",
    "\r\n",
    "def timing(fn):\r\n",
    "    #not to loose meta-info!\r\n",
    "    @wraps(fn)\r\n",
    "    def timer(*args, **kwargs):\r\n",
    "        start_time = time.perf_counter_ns()\r\n",
    "        fn_result = fn(*args, **kwargs)\r\n",
    "        end_time = time.perf_counter_ns()\r\n",
    "        time_duration = end_time - start_time\r\n",
    "        print(\"Function {} took: {} ns\".format(fn.__name__, time_duration))\r\n",
    "        return fn_result\r\n",
    "    return timer"
   ],
   "outputs": [],
   "metadata": {}
  },
  {
   "cell_type": "code",
   "execution_count": 31,
   "source": [
    "@timing\r\n",
    "def do_something(a, b, c=None):\r\n",
    "    \"\"\"Do something\"\"\"\r\n",
    "    return a+b if c else 0"
   ],
   "outputs": [],
   "metadata": {}
  },
  {
   "cell_type": "code",
   "execution_count": 32,
   "source": [
    "do_something(a=10, b=20, c=True)"
   ],
   "outputs": [
    {
     "output_type": "stream",
     "name": "stdout",
     "text": [
      "Function do_something took: 1300\n"
     ]
    },
    {
     "output_type": "execute_result",
     "data": {
      "text/plain": [
       "30"
      ]
     },
     "metadata": {},
     "execution_count": 32
    }
   ],
   "metadata": {}
  },
  {
   "cell_type": "code",
   "execution_count": null,
   "source": [],
   "outputs": [],
   "metadata": {}
  }
 ],
 "metadata": {
  "orig_nbformat": 4,
  "language_info": {
   "name": "python",
   "version": "3.8.8",
   "mimetype": "text/x-python",
   "codemirror_mode": {
    "name": "ipython",
    "version": 3
   },
   "pygments_lexer": "ipython3",
   "nbconvert_exporter": "python",
   "file_extension": ".py"
  },
  "kernelspec": {
   "name": "python3",
   "display_name": "Python 3.8.8 64-bit ('udemyPro_py388': venv)"
  },
  "interpreter": {
   "hash": "2572c91b9451a37ce05c02e232821168bcd972c7ee4228e498b465f1f505fc76"
  }
 },
 "nbformat": 4,
 "nbformat_minor": 2
}
{
 "nbformat": 4,
 "nbformat_minor": 2,
 "metadata": {
  "language_info": {
   "name": "python",
   "version": "3.8.8",
   "mimetype": "text/x-python",
   "codemirror_mode": {
    "name": "ipython",
    "version": 3
   },
   "pygments_lexer": "ipython3",
   "nbconvert_exporter": "python",
   "file_extension": ".py"
  },
  "orig_nbformat": 2,
  "file_extension": ".py",
  "mimetype": "text/x-python",
  "name": "python",
  "npconvert_exporter": "python",
  "pygments_lexer": "ipython3",
  "version": 3,
  "kernelspec": {
   "name": "python3",
   "display_name": "Python 3.8.8 64-bit ('udemyPro_py388': venv)"
  },
  "interpreter": {
   "hash": "2572c91b9451a37ce05c02e232821168bcd972c7ee4228e498b465f1f505fc76"
  }
 },
 "cells": [
  {
   "cell_type": "code",
   "execution_count": 2,
   "source": [
    "# Decorators:\r\n",
    "# - wraps a function by another function\r\n",
    "# - takes a function as an argument, returns a closure\r\n",
    "# - the clousure runs the previous passed in function with the *args and **kwargs arguments"
   ],
   "outputs": [],
   "metadata": {}
  },
  {
   "cell_type": "code",
   "execution_count": 3,
   "source": [
    "def outer_fn(fn):\r\n",
    "    def inner_fn():\r\n",
    "        fn_result = fn()\r\n",
    "        return fn_result\r\n",
    "    return inner_fn"
   ],
   "outputs": [],
   "metadata": {}
  },
  {
   "cell_type": "code",
   "execution_count": 4,
   "source": [
    "def print_hello_world():\r\n",
    "    print(\"Hello World!\")"
   ],
   "outputs": [],
   "metadata": {}
  },
  {
   "cell_type": "code",
   "execution_count": 12,
   "source": [
    "decorated_print_hello_world = outer_fn(print_hello_world)\r\n",
    "print(decorated_print_hello_world, type(decorated_print_hello_world))\r\n",
    "decorated_print_hello_world()"
   ],
   "outputs": [
    {
     "output_type": "stream",
     "name": "stdout",
     "text": [
      "<function outer_fn.<locals>.inner_fn at 0x00000125C98DA1F0> <class 'function'>\n",
      "Hello World!\n"
     ]
    }
   ],
   "metadata": {}
  },
  {
   "cell_type": "code",
   "execution_count": 13,
   "source": [
    "# So würde man es normalerweise machen\r\n",
    "\r\n",
    "def decorator(fn):\r\n",
    "    print(\"Start decorator function from: \", fn.__name__)\r\n",
    "    def wrapper(*args, **kwargs):\r\n",
    "        print(\"Start wrapper function from: \", fn.__name__)\r\n",
    "        fn_result = fn(*args, **kwargs)\r\n",
    "        print(\"End wrapper function from: \", fn.__name__)\r\n",
    "        return fn_result\r\n",
    "    print(\"End decorator function from: \", fn.__name__)\r\n",
    "    return wrapper"
   ],
   "outputs": [],
   "metadata": {}
  },
  {
   "cell_type": "code",
   "execution_count": 7,
   "source": [
    "decorated_print_hello_world2 = decorator(print_hello_world)\r\n",
    "decorated_print_hello_world2()"
   ],
   "outputs": [
    {
     "output_type": "stream",
     "name": "stdout",
     "text": [
      "Start decorator function from:  print_hello_world\n",
      "End decorator function from:  print_hello_world\n",
      "Start wrapper function from:  print_hello_world\n",
      "Hello World!\n",
      "End wrapper function from:  print_hello_world\n"
     ]
    }
   ],
   "metadata": {}
  },
  {
   "cell_type": "code",
   "execution_count": 8,
   "source": [
    "def print_arguments(a, b, c=None):\r\n",
    "    print(\"a: {}, b: {}, c: {}\".format(a, b, c))"
   ],
   "outputs": [],
   "metadata": {}
  },
  {
   "cell_type": "code",
   "execution_count": 9,
   "source": [
    "decorated_print_arguments = decorator(print_arguments)\r\n",
    "decorated_print_arguments(a=10, b=20, c=30)\r\n",
    "decorated_print_arguments(a=11, b=21, c=31)"
   ],
   "outputs": [
    {
     "output_type": "stream",
     "name": "stdout",
     "text": [
      "Start decorator function from:  print_arguments\n",
      "End decorator function from:  print_arguments\n",
      "Start wrapper function from:  print_arguments\n",
      "a: 10, b: 20, c: 30\n",
      "End wrapper function from:  print_arguments\n",
      "Start wrapper function from:  print_arguments\n",
      "a: 11, b: 21, c: 31\n",
      "End wrapper function from:  print_arguments\n"
     ]
    }
   ],
   "metadata": {}
  },
  {
   "cell_type": "code",
   "execution_count": 16,
   "source": [
    "# Initialize decorator do this: decorated_print_arguments = decorator(print_arguments)\r\n",
    "@decorator\r\n",
    "def print_arguments2(a, b, c=None):\r\n",
    "    print(\"a: {}, b: {}, c: {}\".format(a, b, c))"
   ],
   "outputs": [
    {
     "output_type": "stream",
     "name": "stdout",
     "text": [
      "Start decorator function from:  print_arguments2\n",
      "End decorator function from:  print_arguments2\n"
     ]
    }
   ],
   "metadata": {}
  },
  {
   "cell_type": "code",
   "execution_count": 11,
   "source": [
    "print_arguments2(a=10, b=20, c=30)"
   ],
   "outputs": [
    {
     "output_type": "stream",
     "name": "stdout",
     "text": [
      "Start wrapper function from:  print_arguments2\n",
      "a: 10, b: 20, c: 30\n",
      "End wrapper function from:  print_arguments2\n"
     ]
    }
   ],
   "metadata": {}
  }
 ]
}
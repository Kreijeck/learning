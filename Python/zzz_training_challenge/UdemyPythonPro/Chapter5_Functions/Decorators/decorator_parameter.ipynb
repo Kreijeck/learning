{
 "cells": [
  {
   "cell_type": "code",
   "execution_count": 23,
   "source": [
    "from functools import wraps\r\n",
    "import time\r\n",
    "\r\n",
    "def timing_extended(use_ns_timer=False): # Normal function\r\n",
    "    if use_ns_timer:\r\n",
    "        time_fn = time.perf_counter_ns\r\n",
    "        time_scale = \"ns\"\r\n",
    "    else:\r\n",
    "        time_fn = time.perf_counter\r\n",
    "        time_scale = \"s\"\r\n",
    "    def timing(fn): # Decorator\r\n",
    "        \r\n",
    "\r\n",
    "        @wraps(fn)\r\n",
    "        def timer(*args, **kwargs):\r\n",
    "            start_time = time_fn()\r\n",
    "            fn_result = fn(*args, **kwargs)\r\n",
    "            end_time = time_fn()\r\n",
    "            time_duration = end_time - start_time\r\n",
    "            print(f\"Function {fn.__name__} took: {time_duration} {time_scale}\")\r\n",
    "            return fn_result\r\n",
    "        return timer\r\n",
    "    return timing"
   ],
   "outputs": [],
   "metadata": {}
  },
  {
   "cell_type": "code",
   "execution_count": 25,
   "source": [
    "@timing_extended(use_ns_timer=False)\r\n",
    "def iterate(n):\r\n",
    "    val = 0\r\n",
    "    for i in range(n):\r\n",
    "        val += 1\r\n",
    "    return val\r\n",
    "\r\n",
    "iterate(1_000_000)"
   ],
   "outputs": [
    {
     "output_type": "stream",
     "name": "stdout",
     "text": [
      "Function iterate took: 0.06157820000044012 s\n"
     ]
    },
    {
     "output_type": "execute_result",
     "data": {
      "text/plain": [
       "1000000"
      ]
     },
     "metadata": {},
     "execution_count": 25
    }
   ],
   "metadata": {}
  },
  {
   "cell_type": "code",
   "execution_count": null,
   "source": [],
   "outputs": [],
   "metadata": {}
  }
 ],
 "metadata": {
  "orig_nbformat": 4,
  "language_info": {
   "name": "python",
   "version": "3.8.8",
   "mimetype": "text/x-python",
   "codemirror_mode": {
    "name": "ipython",
    "version": 3
   },
   "pygments_lexer": "ipython3",
   "nbconvert_exporter": "python",
   "file_extension": ".py"
  },
  "kernelspec": {
   "name": "python3",
   "display_name": "Python 3.8.8 64-bit ('udemyPro_py388': venv)"
  },
  "interpreter": {
   "hash": "2572c91b9451a37ce05c02e232821168bcd972c7ee4228e498b465f1f505fc76"
  }
 },
 "nbformat": 4,
 "nbformat_minor": 2
}
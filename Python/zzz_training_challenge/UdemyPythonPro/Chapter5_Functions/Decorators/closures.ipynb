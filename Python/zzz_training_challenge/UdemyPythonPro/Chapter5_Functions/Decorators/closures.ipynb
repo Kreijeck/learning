{
 "cells": [
  {
   "cell_type": "code",
   "execution_count": 1,
   "source": [
    "# Closure:\r\n",
    "# A closure is an inner function that has access to variables in the local scope of the outer function\r\n"
   ],
   "outputs": [],
   "metadata": {}
  },
  {
   "cell_type": "code",
   "execution_count": 9,
   "source": [
    "import time\r\n",
    "\r\n",
    "def outer_fn(message):\r\n",
    "    outer_message = \"Outer: \" + message\r\n",
    "    current_time = time.time()\r\n",
    "\r\n",
    "    def inner_fn():\r\n",
    "        print(outer_message)\r\n",
    "        print(\"Current time\", current_time)\r\n",
    "    return inner_fn()\r\n"
   ],
   "outputs": [],
   "metadata": {}
  },
  {
   "cell_type": "code",
   "execution_count": 10,
   "source": [
    "outer_fn('Foo bar')"
   ],
   "outputs": [
    {
     "output_type": "stream",
     "name": "stdout",
     "text": [
      "Outer: Foo bar\n",
      "Current time 1626951819.85493\n"
     ]
    }
   ],
   "metadata": {}
  },
  {
   "cell_type": "code",
   "execution_count": null,
   "source": [],
   "outputs": [],
   "metadata": {}
  }
 ],
 "metadata": {
  "orig_nbformat": 4,
  "language_info": {
   "name": "python",
   "version": "3.8.8",
   "mimetype": "text/x-python",
   "codemirror_mode": {
    "name": "ipython",
    "version": 3
   },
   "pygments_lexer": "ipython3",
   "nbconvert_exporter": "python",
   "file_extension": ".py"
  },
  "kernelspec": {
   "name": "python3",
   "display_name": "Python 3.8.8 64-bit ('udemyPro_py388': venv)"
  },
  "interpreter": {
   "hash": "2572c91b9451a37ce05c02e232821168bcd972c7ee4228e498b465f1f505fc76"
  }
 },
 "nbformat": 4,
 "nbformat_minor": 2
}
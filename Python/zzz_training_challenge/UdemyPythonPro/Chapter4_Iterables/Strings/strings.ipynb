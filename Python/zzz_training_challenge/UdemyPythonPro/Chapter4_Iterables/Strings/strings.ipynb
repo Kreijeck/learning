{
 "nbformat": 4,
 "nbformat_minor": 2,
 "metadata": {
  "language_info": {
   "name": "python",
   "codemirror_mode": {
    "name": "ipython",
    "version": 3
   },
   "version": "3.8.10"
  },
  "orig_nbformat": 2,
  "file_extension": ".py",
  "mimetype": "text/x-python",
  "name": "python",
  "npconvert_exporter": "python",
  "pygments_lexer": "ipython3",
  "version": 3,
  "kernelspec": {
   "name": "python3",
   "display_name": "Python 3.8.10 64-bit ('pyUdemy': conda)"
  },
  "interpreter": {
   "hash": "850589dbcddb156e77d4f3d14ca8c1630bd6be0fc25b764c490973a1c3128cd8"
  }
 },
 "cells": [
  {
   "cell_type": "code",
   "execution_count": 42,
   "source": [
    "my_name = 'dddJan Maximilian Schaffranekddd'\r\n",
    "your_name = \"Dennis Berthold\"\r\n",
    "\r\n",
    "print(my_name, type(my_name))\r\n",
    "print(your_name, type(your_name))"
   ],
   "outputs": [
    {
     "output_type": "stream",
     "name": "stdout",
     "text": [
      "dddJan Maximilian Schaffranekddd <class 'str'>\n",
      "Dennis Berthold <class 'str'>\n"
     ]
    }
   ],
   "metadata": {}
  },
  {
   "cell_type": "code",
   "execution_count": 43,
   "source": [
    "print(my_name.capitalize())\r\n",
    "print(my_name.lower())"
   ],
   "outputs": [
    {
     "output_type": "stream",
     "name": "stdout",
     "text": [
      "Dddjan maximilian schaffranekddd\n",
      "dddjan maximilian schaffranekddd\n"
     ]
    }
   ],
   "metadata": {}
  },
  {
   "cell_type": "code",
   "execution_count": 44,
   "source": [
    "word_list = my_name.split(' ')\r\n",
    "\r\n",
    "print(word_list)"
   ],
   "outputs": [
    {
     "output_type": "stream",
     "name": "stdout",
     "text": [
      "['dddJan', 'Maximilian', 'Schaffranekddd']\n"
     ]
    }
   ],
   "metadata": {}
  },
  {
   "cell_type": "code",
   "execution_count": 45,
   "source": [
    "# strip checks start and end and removed given string/char\r\n",
    "my_name_modified = my_name.strip('d')\r\n",
    "\r\n",
    "print(my_name_modified)\r\n",
    "\r\n",
    "word_list = my_name_modified.split(' ')\r\n",
    "\r\n",
    "print(word_list)"
   ],
   "outputs": [
    {
     "output_type": "stream",
     "name": "stdout",
     "text": [
      "Jan Maximilian Schaffranek\n",
      "['Jan', 'Maximilian', 'Schaffranek']\n"
     ]
    }
   ],
   "metadata": {}
  },
  {
   "cell_type": "code",
   "execution_count": 46,
   "source": [
    "print(my_name_modified.upper())"
   ],
   "outputs": [
    {
     "output_type": "stream",
     "name": "stdout",
     "text": [
      "JAN MAXIMILIAN SCHAFFRANEK\n"
     ]
    }
   ],
   "metadata": {}
  },
  {
   "cell_type": "code",
   "execution_count": 47,
   "source": [
    "my_name = 'Peter Peterson'\r\n",
    "\r\n",
    "print(my_name.startswith('Peter'))\r\n",
    "\r\n",
    "print(my_name.endswith('Peterson'))"
   ],
   "outputs": [
    {
     "output_type": "stream",
     "name": "stdout",
     "text": [
      "True\n",
      "True\n"
     ]
    }
   ],
   "metadata": {}
  },
  {
   "cell_type": "code",
   "execution_count": 49,
   "source": [
    "if my_name.startswith('Peter'):\r\n",
    "    # Replace all hits! and outplace, optional: count\r\n",
    "    my_name = my_name.replace('Peter', 'Magnus')\r\n",
    "\r\n",
    "print(my_name)"
   ],
   "outputs": [
    {
     "output_type": "stream",
     "name": "stdout",
     "text": [
      "Magnus Magnusson\n"
     ]
    }
   ],
   "metadata": {}
  }
 ]
}
{
 "nbformat": 4,
 "nbformat_minor": 2,
 "metadata": {
  "language_info": {
   "name": "python",
   "version": "3.8.10",
   "mimetype": "text/x-python",
   "codemirror_mode": {
    "name": "ipython",
    "version": 3
   },
   "pygments_lexer": "ipython3",
   "nbconvert_exporter": "python",
   "file_extension": ".py"
  },
  "orig_nbformat": 2,
  "file_extension": ".py",
  "mimetype": "text/x-python",
  "name": "python",
  "npconvert_exporter": "python",
  "pygments_lexer": "ipython3",
  "version": 3,
  "kernelspec": {
   "name": "python3",
   "display_name": "Python 3.8.10 64-bit ('pyUdemy': conda)"
  },
  "interpreter": {
   "hash": "850589dbcddb156e77d4f3d14ca8c1630bd6be0fc25b764c490973a1c3128cd8"
  }
 },
 "cells": [
  {
   "cell_type": "code",
   "execution_count": 4,
   "source": [
    "my_template = \"Hello my name is Jan Schaffranek, nice to meet you. Today is the 14.04.2020.\"\r\n",
    "\r\n",
    "print(my_template)"
   ],
   "outputs": [
    {
     "output_type": "stream",
     "name": "stdout",
     "text": [
      "Hello my name is Jan Schaffranek, nice to meet you. Today is the 14.04.2020.\n"
     ]
    }
   ],
   "metadata": {}
  },
  {
   "cell_type": "code",
   "execution_count": 7,
   "source": [
    "# unschön!\r\n",
    "def say_hello(firstname, lastname, date):\r\n",
    "    my_output_str = \"Hello my name is \" + str(firstname) + \\\r\n",
    "                    \" \" + str(lastname) + \", nice to meet you. Today is the \" + date\r\n",
    "    print(my_output_str)"
   ],
   "outputs": [],
   "metadata": {}
  },
  {
   "cell_type": "code",
   "execution_count": 8,
   "source": [
    "firstname = 'Jan'\r\n",
    "lastname = 'Schaffranek'\r\n",
    "date = '14.04.2020'\r\n",
    "\r\n",
    "say_hello(firstname, lastname, date)"
   ],
   "outputs": [
    {
     "output_type": "stream",
     "name": "stdout",
     "text": [
      "Hello my name is Jan Schaffranek, nice to meet you. Today is the 14.04.2020\n"
     ]
    }
   ],
   "metadata": {}
  },
  {
   "cell_type": "markdown",
   "source": [
    "%s = String\n",
    "%d = Integer\n",
    "%e, %f = Float\n",
    "%r = Lists etc.\n",
    "%x = Hexa\n",
    "%o = Octa"
   ],
   "metadata": {}
  },
  {
   "cell_type": "code",
   "execution_count": 13,
   "source": [
    "# Python 2 Methode\r\n",
    "# %s = String\r\n",
    "# %d = Integer\r\n",
    "# %e, %f = Float\r\n",
    "# %r = List\r\n",
    "def say_hello_old_format(firstname, lastname, date):\r\n",
    "    my_output_str = \"Hello my name is %s %s, nice to meet you. Today is the %s\" % (firstname, lastname, date)\r\n",
    "    print(my_output_str)"
   ],
   "outputs": [],
   "metadata": {}
  },
  {
   "cell_type": "code",
   "execution_count": 16,
   "source": [
    "firstname = 'Jan'\r\n",
    "lastname = 'Schaffranek'\r\n",
    "date = '14.04.2020'\r\n",
    "\r\n",
    "say_hello_old_format(firstname, lastname, date)"
   ],
   "outputs": [
    {
     "output_type": "stream",
     "name": "stdout",
     "text": [
      "Hello my name is Jan Schaffranek, nice to meet you. Today is the 14.04.2020\n"
     ]
    }
   ],
   "metadata": {}
  },
  {
   "cell_type": "code",
   "execution_count": 6,
   "source": [
    "def say_hello_new_format(firstname, lastname, date):\r\n",
    "    my_output_str = \"Hello my name is {0} {1}, nice to meet you. Today is the {2}\".format(firstname, lastname, date)\r\n",
    "    print(my_output_str)"
   ],
   "outputs": [],
   "metadata": {}
  },
  {
   "cell_type": "code",
   "execution_count": 4,
   "source": [
    "my_number = 10.1\r\n",
    "\r\n",
    "print(my_number)\r\n",
    "# :.32f ... Nachkommastellen\r\n",
    "# :.32e .. exponentielle Darstellung\r\n",
    "print(\"{:.32f}\".format(my_number))\r\n",
    "print(\"{:.32e}\".format(my_number))"
   ],
   "outputs": [
    {
     "output_type": "stream",
     "name": "stdout",
     "text": [
      "10.1\n",
      "10.09999999999999964472863211994991\n",
      "1.00999999999999996447286321199499e+01\n"
     ]
    }
   ],
   "metadata": {}
  },
  {
   "cell_type": "code",
   "execution_count": 7,
   "source": [
    "from datetime import datetime\r\n",
    "\r\n",
    "firstname = 'Jan'\r\n",
    "lastname = 'Schaffranek'\r\n",
    "date = datetime.now()\r\n",
    "date = '{:%d.%m.%Y}'.format(date)\r\n",
    "\r\n",
    "say_hello_new_format(firstname, lastname, date)"
   ],
   "outputs": [
    {
     "output_type": "stream",
     "name": "stdout",
     "text": [
      "Hello my name is Jan Schaffranek, nice to meet you. Today is the 21.07.2021\n"
     ]
    }
   ],
   "metadata": {}
  }
 ]
}
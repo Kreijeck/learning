{
 "nbformat": 4,
 "nbformat_minor": 2,
 "metadata": {
  "language_info": {
   "name": "python",
   "version": "3.8.10",
   "mimetype": "text/x-python",
   "codemirror_mode": {
    "name": "ipython",
    "version": 3
   },
   "pygments_lexer": "ipython3",
   "nbconvert_exporter": "python",
   "file_extension": ".py"
  },
  "orig_nbformat": 2,
  "file_extension": ".py",
  "mimetype": "text/x-python",
  "name": "python",
  "npconvert_exporter": "python",
  "pygments_lexer": "ipython3",
  "version": 3,
  "kernelspec": {
   "name": "python3",
   "display_name": "Python 3.8.10 64-bit ('pyUdemy': conda)"
  },
  "interpreter": {
   "hash": "850589dbcddb156e77d4f3d14ca8c1630bd6be0fc25b764c490973a1c3128cd8"
  }
 },
 "cells": [
  {
   "cell_type": "code",
   "execution_count": 8,
   "source": [
    "# FIRSTNAME LASTNAME\r\n",
    "text = \"Hello my  name is Jan Schaffranek:\""
   ],
   "outputs": [],
   "metadata": {}
  },
  {
   "cell_type": "code",
   "execution_count": 14,
   "source": [
    "my_firstname = my_name.split(' ')\r\n",
    "\r\n",
    "print(my_firstname)"
   ],
   "outputs": [
    {
     "output_type": "stream",
     "name": "stdout",
     "text": [
      "['Hello', 'my', '', 'name', 'is', 'Jan', 'Schaffranek:']\n"
     ]
    }
   ],
   "metadata": {}
  },
  {
   "cell_type": "code",
   "execution_count": 17,
   "source": [
    "my_firstname_start_idx = my_name.find('Yan')\r\n",
    "#return -1 if it isn't find\r\n",
    "print(my_firstname_start_idx)\r\n",
    "\r\n",
    "my_firstname = my_name[my_firstname_start_idx:my_firstname_start_idx+3]\r\n",
    "print(my_firstname)"
   ],
   "outputs": [
    {
     "output_type": "stream",
     "name": "stdout",
     "text": [
      "-1\n",
      "\n"
     ]
    }
   ],
   "metadata": {}
  },
  {
   "cell_type": "code",
   "execution_count": 20,
   "source": [
    "my_firstname = 'Peter'\r\n",
    "my_lastname = 'Peterson'\r\n",
    "\r\n",
    "my_name = my_firstname + ' ' + my_lastname\r\n",
    "print(my_name)"
   ],
   "outputs": [
    {
     "output_type": "stream",
     "name": "stdout",
     "text": [
      "Peter Peterson\n"
     ]
    }
   ],
   "metadata": {}
  },
  {
   "cell_type": "code",
   "execution_count": 2,
   "source": [
    "friend_names = ['Jan', 'Peter', 'Dennis']\r\n",
    "\r\n",
    "output_str = ''\r\n",
    "for name in friend_names:\r\n",
    "    output_str += name + ' '\r\n",
    "\r\n",
    "print(output_str)"
   ],
   "outputs": [
    {
     "output_type": "stream",
     "name": "stdout",
     "text": [
      "Jan Peter Dennis \n"
     ]
    }
   ],
   "metadata": {}
  },
  {
   "cell_type": "code",
   "execution_count": 5,
   "source": [
    "# better: \r\n",
    "output_str2 = ''.join(friend_names)\r\n",
    "\r\n",
    "print(output_str2)"
   ],
   "outputs": [
    {
     "output_type": "stream",
     "name": "stdout",
     "text": [
      "JanPeterDennis\n"
     ]
    }
   ],
   "metadata": {}
  },
  {
   "cell_type": "code",
   "execution_count": null,
   "source": [],
   "outputs": [],
   "metadata": {}
  }
 ]
}
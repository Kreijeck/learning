{
 "cells": [
  {
   "cell_type": "code",
   "execution_count": 4,
   "source": [
    "import os\r\n",
    "# give absolute path in right conversion\r\n",
    "project_path = os.path.abspath(\"D:/Projects/learning/UdemyPythonPro/\")\r\n",
    "file_path = os.path.join(project_path, \"Chapter4_Iterables\", \"Strings\", \"user_data.txt\")"
   ],
   "outputs": [],
   "metadata": {}
  },
  {
   "cell_type": "code",
   "execution_count": 9,
   "source": [
    "# with ist kein lokaler Scope! Siehe content\r\n",
    "# aber auf f kann nicht mehr zugegriffen werden\r\n",
    "# mit f.close() wird Datei wieder freigegeben\r\n",
    "with open(file_path, \"r\") as f:\r\n",
    "    content = f.readlines()\r\n",
    "\r\n",
    "for idx, line in enumerate(content):\r\n",
    "    # need to manipulate the original\r\n",
    "    content[idx] = line.strip(\"\\n\")\r\n",
    "\r\n",
    "print(content)"
   ],
   "outputs": [
    {
     "output_type": "stream",
     "name": "stdout",
     "text": [
      "['Hello my name is Jan.', 'Nice to meet you.', 'I am currently 26 years old.']\n"
     ]
    }
   ],
   "metadata": {}
  },
  {
   "cell_type": "code",
   "execution_count": 10,
   "source": [
    "# Alternative:  pathlib anstantt os.path!"
   ],
   "outputs": [],
   "metadata": {}
  },
  {
   "cell_type": "code",
   "execution_count": 12,
   "source": [
    "user_input = input(\"Please enter your age: \")\r\n",
    "\r\n",
    "# von Input ist Output IMMER String!\r\n",
    "print(user_input, type(user_input))"
   ],
   "outputs": [
    {
     "output_type": "stream",
     "name": "stdout",
     "text": [
      "23 <class 'str'>\n"
     ]
    }
   ],
   "metadata": {}
  },
  {
   "cell_type": "code",
   "execution_count": null,
   "source": [],
   "outputs": [],
   "metadata": {}
  }
 ],
 "metadata": {
  "orig_nbformat": 4,
  "language_info": {
   "name": "python",
   "version": "3.8.10",
   "mimetype": "text/x-python",
   "codemirror_mode": {
    "name": "ipython",
    "version": 3
   },
   "pygments_lexer": "ipython3",
   "nbconvert_exporter": "python",
   "file_extension": ".py"
  },
  "kernelspec": {
   "name": "python3",
   "display_name": "Python 3.8.10 64-bit ('pyUdemy': conda)"
  },
  "interpreter": {
   "hash": "850589dbcddb156e77d4f3d14ca8c1630bd6be0fc25b764c490973a1c3128cd8"
  }
 },
 "nbformat": 4,
 "nbformat_minor": 2
}
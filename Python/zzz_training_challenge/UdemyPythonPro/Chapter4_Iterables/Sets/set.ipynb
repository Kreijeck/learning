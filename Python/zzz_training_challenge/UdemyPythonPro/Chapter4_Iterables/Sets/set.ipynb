{
 "cells": [
  {
   "cell_type": "code",
   "execution_count": 2,
   "source": [
    "# in einem Set darf jeder Wert nur 1x vorkommen!!\r\n",
    "# sets müssen immutable sein!\r\n",
    "\r\n",
    "my_set1 = {1, 2, 3}\r\n",
    "\r\n",
    "print(my_set1, type(my_set1))\r\n",
    "\r\n",
    "# doppelte Werte werden verworfen\r\n",
    "my_set1 = {1, 2, 3, 1}\r\n",
    "print(my_set1, type(my_set1))"
   ],
   "outputs": [
    {
     "output_type": "stream",
     "name": "stdout",
     "text": [
      "{1, 2, 3} <class 'set'>\n",
      "{1, 2, 3} <class 'set'>\n"
     ]
    }
   ],
   "metadata": {}
  },
  {
   "cell_type": "code",
   "execution_count": 3,
   "source": [
    "# Konstruktor\r\n",
    "my_set2 = set([1, 2, 3, 1])\r\n",
    "print(my_set2, type(my_set2))"
   ],
   "outputs": [
    {
     "output_type": "stream",
     "name": "stdout",
     "text": [
      "{1, 2, 3} <class 'set'>\n"
     ]
    }
   ],
   "metadata": {}
  },
  {
   "cell_type": "code",
   "execution_count": 5,
   "source": [
    "my_set3 = {4, 5, 6}\r\n",
    "my_set4 = {6, 7, 8}\r\n",
    "\r\n",
    "# Was haben beide Sets gemeinsam\r\n",
    "print(my_set3.intersection(my_set4))\r\n",
    "# beide Sets mergen\r\n",
    "print(my_set3.union(my_set4))"
   ],
   "outputs": [
    {
     "output_type": "stream",
     "name": "stdout",
     "text": [
      "{6}\n",
      "{4, 5, 6, 7, 8}\n"
     ]
    }
   ],
   "metadata": {}
  },
  {
   "cell_type": "code",
   "execution_count": 6,
   "source": [
    "if 4 in my_set3:\r\n",
    "    print(\"yes\")"
   ],
   "outputs": [
    {
     "output_type": "stream",
     "name": "stdout",
     "text": [
      "yes\n"
     ]
    }
   ],
   "metadata": {}
  },
  {
   "cell_type": "code",
   "execution_count": 8,
   "source": [
    "print(\"Length\", len(my_set3))"
   ],
   "outputs": [
    {
     "output_type": "stream",
     "name": "stdout",
     "text": [
      "Length 3\n"
     ]
    }
   ],
   "metadata": {}
  },
  {
   "cell_type": "code",
   "execution_count": 13,
   "source": [
    "my_set3 = {4, 5, 6}\r\n",
    "my_set3.add(42)\r\n",
    "print(\"set3:\", my_set3)\r\n",
    "\r\n",
    "# remove a random element\r\n",
    "my_set3.pop()\r\n",
    "print(\"set3:\", my_set3)\r\n",
    "# remove a specific element\r\n",
    "my_set3.discard(4)\r\n",
    "print(\"set3:\", my_set3)"
   ],
   "outputs": [
    {
     "output_type": "stream",
     "name": "stdout",
     "text": [
      "set3: {42, 4, 5, 6}\n",
      "set3: {4, 5, 6}\n",
      "set3: {5, 6}\n"
     ]
    }
   ],
   "metadata": {}
  },
  {
   "cell_type": "code",
   "execution_count": 14,
   "source": [
    "my_idxs = [1, 2, 3, 3 , 4, 5 ,5]\r\n",
    "my_set = set(my_idxs)\r\n",
    "print(my_set)"
   ],
   "outputs": [
    {
     "output_type": "stream",
     "name": "stdout",
     "text": [
      "{1, 2, 3, 4, 5}\n"
     ]
    }
   ],
   "metadata": {}
  },
  {
   "cell_type": "code",
   "execution_count": null,
   "source": [],
   "outputs": [],
   "metadata": {}
  }
 ],
 "metadata": {
  "orig_nbformat": 4,
  "language_info": {
   "name": "python",
   "version": "3.8.8",
   "mimetype": "text/x-python",
   "codemirror_mode": {
    "name": "ipython",
    "version": 3
   },
   "pygments_lexer": "ipython3",
   "nbconvert_exporter": "python",
   "file_extension": ".py"
  },
  "kernelspec": {
   "name": "python3",
   "display_name": "Python 3.8.8 64-bit ('udemyPro_py388': venv)"
  },
  "interpreter": {
   "hash": "2572c91b9451a37ce05c02e232821168bcd972c7ee4228e498b465f1f505fc76"
  }
 },
 "nbformat": 4,
 "nbformat_minor": 2
}
{
 "cells": [
  {
   "cell_type": "code",
   "execution_count": 1,
   "source": [
    "my_dict = {}\r\n",
    "\r\n",
    "print(my_dict, type(my_dict))"
   ],
   "outputs": [
    {
     "output_type": "stream",
     "name": "stdout",
     "text": [
      "{} <class 'dict'>\n"
     ]
    }
   ],
   "metadata": {}
  },
  {
   "cell_type": "code",
   "execution_count": 2,
   "source": [
    "my_dict = {}\r\n",
    "\r\n",
    "for i in range(10):\r\n",
    "    my_dict[i] = i**2\r\n",
    "\r\n",
    "print(my_dict)"
   ],
   "outputs": [
    {
     "output_type": "stream",
     "name": "stdout",
     "text": [
      "{0: 0, 1: 1, 2: 4, 3: 9, 4: 16, 5: 25, 6: 36, 7: 49, 8: 64, 9: 81}\n"
     ]
    }
   ],
   "metadata": {}
  },
  {
   "cell_type": "code",
   "execution_count": 5,
   "source": [
    "# dict comprehension\r\n",
    "my_dict_comp = {val: val**2 for val in range(10)}\r\n",
    "\r\n",
    "print(my_dict_comp)"
   ],
   "outputs": [
    {
     "output_type": "stream",
     "name": "stdout",
     "text": [
      "{0: 0, 1: 1, 2: 4, 3: 9, 4: 16, 5: 25, 6: 36, 7: 49, 8: 64, 9: 81}\n"
     ]
    }
   ],
   "metadata": {}
  },
  {
   "cell_type": "code",
   "execution_count": 6,
   "source": [
    "# if Abfragen\r\n",
    "my_dict_comp = {val: val**2 for val in range(10) if val%2==0}\r\n",
    "\r\n",
    "print(my_dict_comp)"
   ],
   "outputs": [
    {
     "output_type": "stream",
     "name": "stdout",
     "text": [
      "{0: 0, 2: 4, 4: 16, 6: 36, 8: 64}\n"
     ]
    }
   ],
   "metadata": {}
  },
  {
   "cell_type": "code",
   "execution_count": 7,
   "source": [
    "# if for value\r\n",
    "my_dict_comp = {val: val**2 if val > 5 else val**0.5 for val in range(10) if val%2==0}\r\n",
    "\r\n",
    "print(my_dict_comp)"
   ],
   "outputs": [
    {
     "output_type": "stream",
     "name": "stdout",
     "text": [
      "{0: 0.0, 2: 1.4142135623730951, 4: 2.0, 6: 36, 8: 64}\n"
     ]
    }
   ],
   "metadata": {}
  },
  {
   "cell_type": "code",
   "execution_count": 10,
   "source": [
    "# if for keys, here else is necessary!! If values won't needed: If behind for\r\n",
    "my_dict_comp = {val if val <5 else -1: val**2 if val > 5 else val**0.5 for val in range(10) if val%2==0}\r\n",
    "\r\n",
    "print(my_dict_comp)"
   ],
   "outputs": [
    {
     "output_type": "stream",
     "name": "stdout",
     "text": [
      "{0: 0.0, 2: 1.4142135623730951, 4: 2.0, -1: 64}\n"
     ]
    }
   ],
   "metadata": {}
  },
  {
   "cell_type": "code",
   "execution_count": 13,
   "source": [
    "# ohne COmprehension, ohne Key Abfrage\r\n",
    "my_dict2 = {}\r\n",
    "\r\n",
    "for val in range(10):\r\n",
    "    if val % 2 == 0:\r\n",
    "        if val > 5:\r\n",
    "            my_dict2[val] = val**2\r\n",
    "        else:\r\n",
    "            my_dict2[val] = val**(1/2)\r\n",
    "\r\n",
    "print(my_dict2)"
   ],
   "outputs": [
    {
     "output_type": "stream",
     "name": "stdout",
     "text": [
      "{0: 0.0, 2: 1.4142135623730951, 4: 2.0, 6: 36, 8: 64}\n"
     ]
    }
   ],
   "metadata": {}
  },
  {
   "cell_type": "code",
   "execution_count": 16,
   "source": [
    "# verschachtelte Dict:\r\n",
    "friends = ['jan', 'peter', 'dennis']\r\n",
    "friend_keys = ['firstname', 'lastname', 'birthday']\r\n",
    "\r\n",
    "# Selbst konstruiert\r\n",
    "my_friend_dict = {'jan': {'firstname': None, 'lastname': None, 'birthday': None},\r\n",
    "                  'peter': {'firstname': None, 'lastname': None, 'birthday': None},\r\n",
    "                  'dennis': {'firstname': None, 'lastname': None, 'birthday': None},}\r\n",
    "\r\n",
    "print(my_friend_dict)\r\n",
    "\r\n",
    "# verschachtelte Lösung\r\n",
    "my_friend_dict2 = {friend_name: {key: None for key in friend_keys} for friend_name in friends}\r\n",
    "print(my_friend_dict2)\r\n",
    "\r\n"
   ],
   "outputs": [
    {
     "output_type": "stream",
     "name": "stdout",
     "text": [
      "{'jan': {'firstname': None, 'lastname': None, 'birthday': None}, 'peter': {'firstname': None, 'lastname': None, 'birthday': None}, 'dennis': {'firstname': None, 'lastname': None, 'birthday': None}}\n",
      "{'jan': {'firstname': None, 'lastname': None, 'birthday': None}, 'peter': {'firstname': None, 'lastname': None, 'birthday': None}, 'dennis': {'firstname': None, 'lastname': None, 'birthday': None}}\n"
     ]
    }
   ],
   "metadata": {}
  },
  {
   "cell_type": "code",
   "execution_count": null,
   "source": [],
   "outputs": [],
   "metadata": {}
  }
 ],
 "metadata": {
  "orig_nbformat": 4,
  "language_info": {
   "name": "python",
   "version": "3.8.8",
   "mimetype": "text/x-python",
   "codemirror_mode": {
    "name": "ipython",
    "version": 3
   },
   "pygments_lexer": "ipython3",
   "nbconvert_exporter": "python",
   "file_extension": ".py"
  },
  "kernelspec": {
   "name": "python3",
   "display_name": "Python 3.8.8 64-bit ('udemyPro_py388': venv)"
  },
  "interpreter": {
   "hash": "2572c91b9451a37ce05c02e232821168bcd972c7ee4228e498b465f1f505fc76"
  }
 },
 "nbformat": 4,
 "nbformat_minor": 2
}
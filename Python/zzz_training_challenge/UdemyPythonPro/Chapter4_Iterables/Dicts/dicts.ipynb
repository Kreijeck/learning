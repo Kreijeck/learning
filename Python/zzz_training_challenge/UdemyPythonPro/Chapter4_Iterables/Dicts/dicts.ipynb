{
 "nbformat": 4,
 "nbformat_minor": 2,
 "metadata": {
  "language_info": {
   "name": "python",
   "version": "3.8.8",
   "mimetype": "text/x-python",
   "codemirror_mode": {
    "name": "ipython",
    "version": 3
   },
   "pygments_lexer": "ipython3",
   "nbconvert_exporter": "python",
   "file_extension": ".py"
  },
  "orig_nbformat": 2,
  "file_extension": ".py",
  "mimetype": "text/x-python",
  "name": "python",
  "npconvert_exporter": "python",
  "pygments_lexer": "ipython3",
  "version": 3,
  "kernelspec": {
   "name": "python3",
   "display_name": "Python 3.8.8 64-bit ('udemyPro_py388': venv)"
  },
  "interpreter": {
   "hash": "2572c91b9451a37ce05c02e232821168bcd972c7ee4228e498b465f1f505fc76"
  }
 },
 "cells": [
  {
   "cell_type": "code",
   "execution_count": 13,
   "source": [
    "# Types for the keys: IMMUTABLE TYPE: BOOL, INT, NONE, FLOAT, STR, TUPLE\r\n",
    "# Types for the values: any type\r\n",
    "# Achtung FLoat mit .0 wird als int gespeichert!\r\n",
    "my_dict1 = {True: 'test', 10: [1, 2, 3], None: 10.5, \r\n",
    "            10.1: {'k': 'v'}, 'jan': {'test'}, (10, 20): (5, 4)}\r\n",
    "print(my_dict1)"
   ],
   "outputs": [
    {
     "output_type": "stream",
     "name": "stdout",
     "text": [
      "{True: 'test', 10: [1, 2, 3], None: 10.5, 10.1: {'k': 'v'}, 'jan': {'test'}, (10, 20): (5, 4)}\n"
     ]
    }
   ],
   "metadata": {}
  },
  {
   "cell_type": "code",
   "execution_count": 14,
   "source": [
    "# andere Variante zum erstellen eines Dicts mit dict(key=value, ...)\r\n",
    "# Als argumente funktionieren hier nur strings!\r\n",
    "my_dict2 = dict(firstname='Jan', lastname='Schaffranek')\r\n",
    "print(my_dict2)"
   ],
   "outputs": [
    {
     "output_type": "stream",
     "name": "stdout",
     "text": [
      "{'firstname': 'Jan', 'lastname': 'Schaffranek'}\n"
     ]
    }
   ],
   "metadata": {}
  },
  {
   "cell_type": "code",
   "execution_count": 15,
   "source": [
    "# neuer Key oder key überschreiben\r\n",
    "my_dict2['birthday'] = '24.02.1994'\r\n",
    "my_dict2['firstname'] = 'Thomas'\r\n",
    "\r\n",
    "print(my_dict2)\r\n",
    "print(my_dict2['birthday'])\r\n",
    "print(len(my_dict2))"
   ],
   "outputs": [
    {
     "output_type": "stream",
     "name": "stdout",
     "text": [
      "{'firstname': 'Thomas', 'lastname': 'Schaffranek', 'birthday': '24.02.1994'}\n",
      "24.02.1994\n",
      "3\n"
     ]
    }
   ],
   "metadata": {}
  },
  {
   "cell_type": "code",
   "execution_count": 16,
   "source": [
    "# ohne parameter über keys:\r\n",
    "for key in my_dict2:\r\n",
    "    print(key)"
   ],
   "outputs": [
    {
     "output_type": "stream",
     "name": "stdout",
     "text": [
      "firstname\n",
      "lastname\n",
      "birthday\n"
     ]
    }
   ],
   "metadata": {}
  },
  {
   "cell_type": "code",
   "execution_count": 17,
   "source": [
    "for key in my_dict2.keys():\r\n",
    "    print(key)"
   ],
   "outputs": [
    {
     "output_type": "stream",
     "name": "stdout",
     "text": [
      "firstname\n",
      "lastname\n",
      "birthday\n"
     ]
    }
   ],
   "metadata": {}
  },
  {
   "cell_type": "code",
   "execution_count": 18,
   "source": [
    "for val in my_dict2.values():\r\n",
    "    print(val)"
   ],
   "outputs": [
    {
     "output_type": "stream",
     "name": "stdout",
     "text": [
      "Thomas\n",
      "Schaffranek\n",
      "24.02.1994\n"
     ]
    }
   ],
   "metadata": {}
  },
  {
   "cell_type": "code",
   "execution_count": 19,
   "source": [
    "# gibt key, value paar aus\r\n",
    "for key, val in my_dict2.items():\r\n",
    "    print(key, val)"
   ],
   "outputs": [
    {
     "output_type": "stream",
     "name": "stdout",
     "text": [
      "firstname Thomas\n",
      "lastname Schaffranek\n",
      "birthday 24.02.1994\n"
     ]
    }
   ],
   "metadata": {}
  },
  {
   "cell_type": "code",
   "execution_count": 20,
   "source": [
    "# Remove item!\r\n",
    "del my_dict2['birthday']"
   ],
   "outputs": [],
   "metadata": {}
  },
  {
   "cell_type": "code",
   "execution_count": 21,
   "source": [
    "print(my_dict2)"
   ],
   "outputs": [
    {
     "output_type": "stream",
     "name": "stdout",
     "text": [
      "{'firstname': 'Thomas', 'lastname': 'Schaffranek'}\n"
     ]
    }
   ],
   "metadata": {}
  },
  {
   "cell_type": "code",
   "execution_count": 22,
   "source": [
    "# check if key in dict\r\n",
    "if 'firstname' in my_dict2:\r\n",
    "    print('yes')\r\n",
    "else:\r\n",
    "    print('no')"
   ],
   "outputs": [
    {
     "output_type": "stream",
     "name": "stdout",
     "text": [
      "yes\n"
     ]
    }
   ],
   "metadata": {}
  },
  {
   "cell_type": "code",
   "execution_count": 23,
   "source": [
    "print(my_dict2['birthday'])"
   ],
   "outputs": [
    {
     "output_type": "error",
     "ename": "KeyError",
     "evalue": "'birthday'",
     "traceback": [
      "\u001b[1;31m---------------------------------------------------------------------------\u001b[0m",
      "\u001b[1;31mKeyError\u001b[0m                                  Traceback (most recent call last)",
      "\u001b[1;32m~\\AppData\\Local\\Temp/ipykernel_11956/2371170909.py\u001b[0m in \u001b[0;36m<module>\u001b[1;34m\u001b[0m\n\u001b[1;32m----> 1\u001b[1;33m \u001b[0mprint\u001b[0m\u001b[1;33m(\u001b[0m\u001b[0mmy_dict2\u001b[0m\u001b[1;33m[\u001b[0m\u001b[1;34m'birthday'\u001b[0m\u001b[1;33m]\u001b[0m\u001b[1;33m)\u001b[0m\u001b[1;33m\u001b[0m\u001b[1;33m\u001b[0m\u001b[0m\n\u001b[0m",
      "\u001b[1;31mKeyError\u001b[0m: 'birthday'"
     ]
    }
   ],
   "metadata": {}
  },
  {
   "cell_type": "code",
   "execution_count": 25,
   "source": [
    "# if key don't exist - None is returned!\r\n",
    "birthday = my_dict2.get('birthday')\r\n",
    "print(birthday)\r\n",
    "\r\n",
    "if birthday:\r\n",
    "    print(birthday)\r\n",
    "else:\r\n",
    "    print(\"birthday doesn't exist\")"
   ],
   "outputs": [
    {
     "output_type": "stream",
     "name": "stdout",
     "text": [
      "None\n",
      "birthday doesn't exist\n"
     ]
    }
   ],
   "metadata": {}
  },
  {
   "cell_type": "code",
   "execution_count": null,
   "source": [
    "print(my_dict2)"
   ],
   "outputs": [
    {
     "output_type": "stream",
     "name": "stdout",
     "text": [
      "{'firstname': 'Jan', 'lastname': 'Schaffranek'}\n"
     ]
    }
   ],
   "metadata": {}
  },
  {
   "cell_type": "code",
   "execution_count": null,
   "source": [
    "# Key error, because it doesn't exist\r\n",
    "del my_dict2['birthday']"
   ],
   "outputs": [
    {
     "output_type": "error",
     "ename": "KeyError",
     "evalue": "'birthday'",
     "traceback": [
      "\u001b[1;31m---------------------------------------------------------------------------\u001b[0m",
      "\u001b[1;31mKeyError\u001b[0m                                  Traceback (most recent call last)",
      "\u001b[1;32m<ipython-input-46-3f4171392112>\u001b[0m in \u001b[0;36m<module>\u001b[1;34m\u001b[0m\n\u001b[1;32m----> 1\u001b[1;33m \u001b[1;32mdel\u001b[0m \u001b[0mmy_dict2\u001b[0m\u001b[1;33m[\u001b[0m\u001b[1;34m'birthday'\u001b[0m\u001b[1;33m]\u001b[0m\u001b[1;33m\u001b[0m\u001b[1;33m\u001b[0m\u001b[0m\n\u001b[0m",
      "\u001b[1;31mKeyError\u001b[0m: 'birthday'"
     ]
    }
   ],
   "metadata": {}
  },
  {
   "cell_type": "code",
   "execution_count": null,
   "source": [
    "# if exist it will be removed, else key error. But it can be get a default return\r\n",
    "print(my_dict2.pop('firstname', None))"
   ],
   "outputs": [
    {
     "output_type": "stream",
     "name": "stdout",
     "text": [
      "Jan\n"
     ]
    }
   ],
   "metadata": {}
  },
  {
   "cell_type": "code",
   "execution_count": null,
   "source": [
    "print(my_dict2)"
   ],
   "outputs": [
    {
     "output_type": "stream",
     "name": "stdout",
     "text": [
      "{'lastname': 'Schaffranek'}\n"
     ]
    }
   ],
   "metadata": {}
  }
 ]
}
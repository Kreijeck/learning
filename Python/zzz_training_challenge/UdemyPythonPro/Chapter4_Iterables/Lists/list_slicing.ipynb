{
 "nbformat": 4,
 "nbformat_minor": 2,
 "metadata": {
  "language_info": {
   "name": "python",
   "version": "3.8.8",
   "mimetype": "text/x-python",
   "codemirror_mode": {
    "name": "ipython",
    "version": 3
   },
   "pygments_lexer": "ipython3",
   "nbconvert_exporter": "python",
   "file_extension": ".py"
  },
  "orig_nbformat": 2,
  "file_extension": ".py",
  "mimetype": "text/x-python",
  "name": "python",
  "npconvert_exporter": "python",
  "pygments_lexer": "ipython3",
  "version": 3,
  "kernelspec": {
   "name": "python3",
   "display_name": "Python 3.8.8 64-bit ('udemyPro_py388': venv)"
  },
  "interpreter": {
   "hash": "2572c91b9451a37ce05c02e232821168bcd972c7ee4228e498b465f1f505fc76"
  }
 },
 "cells": [
  {
   "cell_type": "code",
   "execution_count": 1,
   "source": [
    "my_list = [-1, 1, -2, 2, -3, 3, -4, 4, -5, 5]"
   ],
   "outputs": [],
   "metadata": {}
  },
  {
   "cell_type": "code",
   "execution_count": 2,
   "source": [
    "# START(0):END(len(list) => non-inclusive):STEP(1)\r\n",
    "\r\n",
    "# List Slicing: START(0):END(len()):STEP(1)\r\n",
    "\r\n",
    "# incl start\r\n",
    "my_subset_list = my_list[-4:]\r\n",
    "print(my_subset_list)"
   ],
   "outputs": [
    {
     "output_type": "stream",
     "name": "stdout",
     "text": [
      "[-4, 4, -5, 5]\n"
     ]
    }
   ],
   "metadata": {}
  },
  {
   "cell_type": "code",
   "execution_count": 3,
   "source": [
    "my_subset_list2 = my_list[:4]\r\n",
    "# exlusive stop\r\n",
    "print(my_subset_list2)"
   ],
   "outputs": [
    {
     "output_type": "stream",
     "name": "stdout",
     "text": [
      "[-1, 1, -2, 2]\n"
     ]
    }
   ],
   "metadata": {}
  },
  {
   "cell_type": "code",
   "execution_count": 4,
   "source": [
    "my_subset_list3 = my_list[2:6]\r\n",
    "print(my_subset_list3)"
   ],
   "outputs": [
    {
     "output_type": "stream",
     "name": "stdout",
     "text": [
      "[-2, 2, -3, 3]\n"
     ]
    }
   ],
   "metadata": {}
  },
  {
   "cell_type": "code",
   "execution_count": 5,
   "source": [
    "# step nur jedes zweite\r\n",
    "my_subset_list4 = my_list[2:6:2]\r\n",
    "print(my_subset_list4)"
   ],
   "outputs": [
    {
     "output_type": "stream",
     "name": "stdout",
     "text": [
      "[-2, -3]\n"
     ]
    }
   ],
   "metadata": {}
  },
  {
   "cell_type": "code",
   "execution_count": 6,
   "source": [
    "my_subset_list5 = my_list[::2]\r\n",
    "print(my_subset_list5)"
   ],
   "outputs": [
    {
     "output_type": "stream",
     "name": "stdout",
     "text": [
      "[-1, -2, -3, -4, -5]\n"
     ]
    }
   ],
   "metadata": {}
  },
  {
   "cell_type": "code",
   "execution_count": 7,
   "source": [
    "# Revert a list\r\n",
    "my_subset_list5 = my_list[::-1]\r\n",
    "print(my_subset_list5)"
   ],
   "outputs": [
    {
     "output_type": "stream",
     "name": "stdout",
     "text": [
      "[5, -5, 4, -4, 3, -3, 2, -2, 1, -1]\n"
     ]
    }
   ],
   "metadata": {}
  },
  {
   "cell_type": "code",
   "execution_count": null,
   "source": [],
   "outputs": [],
   "metadata": {}
  }
 ]
}
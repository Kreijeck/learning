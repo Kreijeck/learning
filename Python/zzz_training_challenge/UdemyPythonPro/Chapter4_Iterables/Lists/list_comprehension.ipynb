{
 "cells": [
  {
   "cell_type": "code",
   "execution_count": 1,
   "source": [
    "my_list = []\r\n",
    "\r\n",
    "for i in range(10):\r\n",
    "    my_list.append(i)\r\n",
    "\r\n",
    "print(my_list)"
   ],
   "outputs": [
    {
     "output_type": "stream",
     "name": "stdout",
     "text": [
      "[0, 1, 2, 3, 4, 5, 6, 7, 8, 9]\n"
     ]
    }
   ],
   "metadata": {}
  },
  {
   "cell_type": "code",
   "execution_count": 2,
   "source": [
    "# List comprehension ist Speicheroptimiert\r\n",
    "my_values = [1, -3, 1, 2, 7, 2]\r\n",
    "\r\n",
    "\r\n",
    "# [should be saved for var in iterable_object]\r\n",
    "my_values_comp = [i for i in my_values]\r\n",
    "print(my_values_comp)\r\n",
    "\r\n",
    "\r\n",
    "my_list_comp = [i for i in range(10)]\r\n",
    "print(my_list_comp)"
   ],
   "outputs": [
    {
     "output_type": "stream",
     "name": "stdout",
     "text": [
      "[1, -3, 1, 2, 7, 2]\n",
      "[0, 1, 2, 3, 4, 5, 6, 7, 8, 9]\n"
     ]
    }
   ],
   "metadata": {}
  },
  {
   "cell_type": "code",
   "execution_count": 3,
   "source": [
    "import random\r\n",
    "# seed define fix values (fix timestamp)\r\n",
    "random.seed(42)\r\n",
    "\r\n",
    "# _ in var\r\n",
    "my_list_comp2 = [random.randint(-10, 10) for _ in range(10)]\r\n",
    "print(my_list_comp2)"
   ],
   "outputs": [
    {
     "output_type": "stream",
     "name": "stdout",
     "text": [
      "[10, -7, -10, -2, -3, -3, -6, -7, 7, -8]\n"
     ]
    }
   ],
   "metadata": {}
  },
  {
   "cell_type": "code",
   "execution_count": 4,
   "source": [
    "only_positive_list = [i for i in my_list_comp2 if i>=0]\r\n",
    "print(only_positive_list)"
   ],
   "outputs": [
    {
     "output_type": "stream",
     "name": "stdout",
     "text": [
      "[10, 7]\n"
     ]
    }
   ],
   "metadata": {}
  },
  {
   "cell_type": "code",
   "execution_count": 16,
   "source": [
    "# Positive: Numbers: do nothing\r\n",
    "# Negative Numbers: Square\r\n",
    "# Vordere if Abfrage gehört zur Manipulation, hintere if-Abfrage: OB wir einen Wert speichern\r\n",
    "my_computed_list = [i if i>0 else i*i for i in my_list_comp2 if i > -7]\r\n",
    "print(my_computed_list) "
   ],
   "outputs": [
    {
     "output_type": "stream",
     "name": "stdout",
     "text": [
      "[10, 4, 9, 9, 36, 7]\n"
     ]
    }
   ],
   "metadata": {}
  },
  {
   "cell_type": "code",
   "execution_count": 17,
   "source": [
    "# In Longterm:\r\n",
    "my_computed_list = []\r\n",
    "\r\n",
    "for val in my_list_comp2:\r\n",
    "    if val > -7:\r\n",
    "        if val >=0:\r\n",
    "            my_computed_list.append(val)\r\n",
    "        else:\r\n",
    "            my_computed_list.append(val**2)"
   ],
   "outputs": [],
   "metadata": {}
  },
  {
   "cell_type": "code",
   "execution_count": 21,
   "source": [
    "# M 4x3\r\n",
    "NUM_ROWS = 4\r\n",
    "NUM_COLS = 3\r\n",
    "my_matrix = [[random.randint(-10, 10) for col_idx in range(NUM_COLS)] for row_idx in range(NUM_ROWS)]\r\n",
    "\r\n",
    "print(my_matrix)"
   ],
   "outputs": [
    {
     "output_type": "stream",
     "name": "stdout",
     "text": [
      "[[8, 3, -9], [-10, -8, -4], [-3, 6, 9], [-10, 7, -4]]\n"
     ]
    }
   ],
   "metadata": {}
  },
  {
   "cell_type": "code",
   "execution_count": null,
   "source": [],
   "outputs": [],
   "metadata": {}
  }
 ],
 "metadata": {
  "orig_nbformat": 4,
  "language_info": {
   "name": "python",
   "version": "3.9.6",
   "mimetype": "text/x-python",
   "codemirror_mode": {
    "name": "ipython",
    "version": 3
   },
   "pygments_lexer": "ipython3",
   "nbconvert_exporter": "python",
   "file_extension": ".py"
  },
  "kernelspec": {
   "name": "python3",
   "display_name": "Python 3.9.6 64-bit ('udemyPro_py396': venv)"
  },
  "interpreter": {
   "hash": "78904d89a326569181befb823281853f814d595a5fb4e7fc11aab3c54bf9a832"
  }
 },
 "nbformat": 4,
 "nbformat_minor": 2
}
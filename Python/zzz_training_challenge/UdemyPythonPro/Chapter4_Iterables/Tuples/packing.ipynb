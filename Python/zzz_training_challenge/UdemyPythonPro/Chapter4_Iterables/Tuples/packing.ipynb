{
 "cells": [
  {
   "cell_type": "code",
   "execution_count": 4,
   "source": [
    "def squaring_list(input_list):\r\n",
    "    squared_list =  [val**2 for val in input_list]\r\n",
    "    return input_list, squared_list, True"
   ],
   "outputs": [],
   "metadata": {}
  },
  {
   "cell_type": "code",
   "execution_count": 8,
   "source": [
    "my_list = [val for val in range(10)]\r\n",
    "\r\n",
    "return_tuple = squaring_list(my_list)\r\n",
    "print(type(return_tuple), return_tuple)\r\n",
    "\r\n",
    "# Tuple unpacking: all values has to be unpacked\r\n",
    "my_list, squared_list, func_success = return_tuple\r\n",
    "\r\n",
    "# or if don't want all:\r\n",
    "my_list, *other_return_value = return_tuple\r\n",
    "print(\"myList:\", my_list)\r\n",
    "print(\"other:\", other_return_value, type(other_return_value))\r\n"
   ],
   "outputs": [
    {
     "output_type": "stream",
     "name": "stdout",
     "text": [
      "<class 'tuple'> ([0, 1, 2, 3, 4, 5, 6, 7, 8, 9], [0, 1, 4, 9, 16, 25, 36, 49, 64, 81], True)\n",
      "myList: [0, 1, 2, 3, 4, 5, 6, 7, 8, 9]\n",
      "other: [[0, 1, 4, 9, 16, 25, 36, 49, 64, 81], True] <class 'list'>\n"
     ]
    }
   ],
   "metadata": {}
  },
  {
   "cell_type": "code",
   "execution_count": 9,
   "source": [
    "# Tuple packing\r\n",
    "x = 2\r\n",
    "y = 3\r\n",
    "z = 3\r\n",
    "\r\n",
    "# Klammern werden nicht benötigt, sieht aber besser aus\r\n",
    "t = x, y, z\r\n",
    "print(t, type(t))"
   ],
   "outputs": [
    {
     "output_type": "stream",
     "name": "stdout",
     "text": [
      "(2, 3, 3) <class 'tuple'>\n"
     ]
    }
   ],
   "metadata": {}
  },
  {
   "cell_type": "code",
   "execution_count": null,
   "source": [],
   "outputs": [],
   "metadata": {}
  }
 ],
 "metadata": {
  "orig_nbformat": 4,
  "language_info": {
   "name": "python",
   "version": "3.8.8",
   "mimetype": "text/x-python",
   "codemirror_mode": {
    "name": "ipython",
    "version": 3
   },
   "pygments_lexer": "ipython3",
   "nbconvert_exporter": "python",
   "file_extension": ".py"
  },
  "kernelspec": {
   "name": "python3",
   "display_name": "Python 3.8.8 64-bit ('udemyPro_py388': venv)"
  },
  "interpreter": {
   "hash": "2572c91b9451a37ce05c02e232821168bcd972c7ee4228e498b465f1f505fc76"
  }
 },
 "nbformat": 4,
 "nbformat_minor": 2
}